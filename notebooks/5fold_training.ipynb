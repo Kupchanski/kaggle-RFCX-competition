{
 "cells": [
  {
   "cell_type": "code",
   "execution_count": 1,
   "metadata": {
    "_cell_guid": "b1076dfc-b9ad-4769-8c92-a6c4dae69d19",
    "_uuid": "8f2839f25d086af736a60e9eeb907d3b93b6e0e5",
    "papermill": {
     "duration": 5.863545,
     "end_time": "2020-12-20T18:13:59.855931",
     "exception": false,
     "start_time": "2020-12-20T18:13:53.992386",
     "status": "completed"
    },
    "tags": []
   },
   "outputs": [],
   "source": [
    "import os\n",
    "import cv2\n",
    "import csv\n",
    "import sys\n",
    "import copy\n",
    "from tqdm import tqdm\n",
    "from typing import Union, List, Dict, Any, cast\n",
    "import random\n",
    "import librosa\n",
    "import librosa.display\n",
    "import numpy as np \n",
    "import pandas as pd\n",
    "import torch\n",
    "import torch.nn as nn\n",
    "import torch.nn.functional as F\n",
    "\n",
    "from torch.utils.data import Dataset, DataLoader\n",
    "from sklearn.metrics import label_ranking_average_precision_score, accuracy_score\n",
    "import torchvision\n",
    "\n",
    "import audiomentations as audioaa\n",
    "\n",
    "import matplotlib.pyplot as plt\n",
    "import IPython.display as ipd \n",
    "import skimage.io\n",
    "from skimage.transform import resize\n",
    "import albumentations as albu\n",
    "from albumentations import pytorch as AT\n",
    "from PIL import Image\n",
    "from functools import partial\n",
    "\n",
    "\n",
    "import pretrainedmodels\n",
    "#from resnest.torch import resnest50\n",
    "\n",
    "sys.path.append('../')\n",
    "\n",
    "import src.audio_augs as aa\n",
    "from src.utils import patch_first_conv\n",
    "from src.loss import lsep_loss_stable, lsep_loss\n",
    "from src.batch_mixer import BatchMixer\n",
    "from src.pann import *\n",
    "\n",
    "import timm\n",
    "from timm.models.densenet import densenet121\n",
    "from timm.models.efficientnet import tf_efficientnet_b0_ns, tf_efficientnet_lite4, mobilenetv2_140, tf_efficientnet_b1_ns\n",
    "from torchlibrosa.stft import Spectrogram, LogmelFilterBank\n",
    "from torchlibrosa.augmentation import SpecAugmentation\n",
    "\n",
    "\n",
    "import warnings\n",
    "warnings.filterwarnings('ignore')"
   ]
  },
  {
   "cell_type": "code",
   "execution_count": 2,
   "metadata": {
    "_cell_guid": "79c7e3d0-c299-4dcb-8224-4455121ee9b0",
    "_uuid": "d629ff2d2480ee46fbb7e2d37f6b5fab8052498a",
    "papermill": {
     "duration": 0.37611,
     "end_time": "2020-12-20T18:14:00.248664",
     "exception": false,
     "start_time": "2020-12-20T18:13:59.872554",
     "status": "completed"
    },
    "tags": []
   },
   "outputs": [],
   "source": [
    "train_folder_path = \"../data/train/\"\n",
    "train_np_folder_path = \"../data/train_np/\"\n",
    "test_folder_path = \"../data/test/\"\n",
    "sample_submission = \"../data/sample_submission.csv\"\n",
    "train_tp_path = \"../data/train_tp.csv\"\n",
    "train_fp_path = \"../data/train_fp.csv\"\n",
    "train_tp_folds = pd.read_csv(\"../data/train_tp_folds_v3.csv\")\n",
    "train_fp_folds = pd.read_csv(\"train_fp_folds.csv\").drop(\"Unnamed: 0\", 1)\n",
    "\n",
    "train_files = os.listdir(train_folder_path)\n",
    "test_files = os.listdir(test_folder_path)\n",
    "\n",
    "train_tp = pd.read_csv(train_tp_path)\n",
    "train_fp = pd.read_csv(train_fp_path)\n",
    "\n",
    "_df = pd.read_csv(\"missing_3classes_extended.csv\")\n",
    "_df = _df.drop(columns=\"Unnamed: 0\")\n",
    "\n",
    "pseudo_hard = pd.read_csv(\"../data/hard_pseudo_227.csv\")\n",
    "pseudo_tp = pd.read_csv(\"../data/tp_pseudo_268.csv\")\n",
    "pseudo_fp = pd.read_csv(\"../data/fp_pseudo_268.csv\")\n",
    "pseudo_test = pd.read_csv(\"../data/test_pseudo_268.csv\")\n",
    "pseudo_tp_new = pd.read_csv(\"../data/tp_pseudo_301.csv\")\n",
    "pseudo_fp_new = pd.read_csv(\"../data/fp_pseudo_301.csv\")\n",
    "pseudo_test_new = pd.read_csv(\"../data/test_pseudo_301.csv\")\n",
    "pseudo_tp_last = pd.read_csv(\"../data/tp_pseudo_375.csv\")\n",
    "pseudo_fp_last = pd.read_csv(\"../data/fp_pseudo_375.csv\")\n",
    "pseudo_test_last = pd.read_csv(\"../data/test_pseudo_375.csv\")"
   ]
  },
  {
   "cell_type": "code",
   "execution_count": 3,
   "metadata": {},
   "outputs": [],
   "source": [
    "class Config:\n",
    "    SEED = 25\n",
    "    NUM_BIRDS = 24\n",
    "    BATCH_SIZE = 16\n",
    "    NUM_WORKERS = 4\n",
    "    FOLD = 0\n",
    "    TEST_FOLD = 5\n",
    "    EPOCHS = 50\n",
    "    \n",
    "    #optimizer params\n",
    "    LR = 0.01\n",
    "    LR_ADAM = 1e-3\n",
    "    WEIGHT_DECAY = 0.0001\n",
    "    MOMENTUM = 0.9\n",
    "    T_MAX = 8\n",
    "    \n",
    "    #scheduler params\n",
    "    FACTOR = 0.8\n",
    "    PATIENCE = 4\n",
    "\n",
    "    SR = 48000\n",
    "    LENGTH_1  = 10* SR\n",
    "    LENGTH_2 = 5 * SR\n",
    "    #TODO: MAKE AUGS CONF\n",
    "    \n",
    "encoder_params = {\n",
    "    \"efficientnet_b0\": {\n",
    "        #\"features\": 1280,\n",
    "        #\"features\": 1792,\n",
    "        \"features\":1024,\n",
    "        \"init_op\": partial(densenet121, pretrained=True,) # drop_path_rate=0.2)\n",
    "        }\n",
    "    }\n",
    "    \n",
    "model_param = {\n",
    "        'encoder' : 'efficientnet_b0',\n",
    "        'sample_rate': 48000,\n",
    "        'window_size' : 2048, #* 2, # 512 * 2\n",
    "        'hop_size' : 512, #345 * 2, # 320\n",
    "        'mel_bins' : 224, # 60\n",
    "        'fmin' : 80,\n",
    "        'fmax' : 15000,\n",
    "        'classes_num' : 24\n",
    "    }"
   ]
  },
  {
   "cell_type": "code",
   "execution_count": 4,
   "metadata": {
    "papermill": {
     "duration": 0.030754,
     "end_time": "2020-12-20T18:14:00.693737",
     "exception": false,
     "start_time": "2020-12-20T18:14:00.662983",
     "status": "completed"
    },
    "tags": []
   },
   "outputs": [],
   "source": [
    "def seed_everything(seed):\n",
    "    random.seed(seed)\n",
    "    os.environ['PYTHONHASHSEED'] = str(seed)\n",
    "    np.random.seed(seed)\n",
    "    torch.manual_seed(seed)\n",
    "    torch.cuda.manual_seed(seed)\n",
    "    torch.backends.cudnn.deterministic = True\n",
    "    torch.backends.cudnn.benchmark = False\n",
    "\n",
    "seed_everything(Config.SEED)\n"
   ]
  },
  {
   "cell_type": "code",
   "execution_count": 5,
   "metadata": {},
   "outputs": [],
   "source": [
    "class AudioSEDModel(nn.Module):\n",
    "    def __init__(self, encoder, sample_rate, window_size, hop_size, mel_bins, fmin, fmax, classes_num):\n",
    "        super().__init__()\n",
    "\n",
    "        window = 'hann'\n",
    "        center = True\n",
    "        pad_mode = 'reflect'\n",
    "        ref = 1.0\n",
    "        amin = 1e-10\n",
    "        top_db = None\n",
    "        self.interpolate_ratio = 30\n",
    "        self.mixup_coff = Mixup(1.)\n",
    "\n",
    "        # Spectrogram extractor\n",
    "        self.spectrogram_extractor = Spectrogram(n_fft=window_size, hop_length=hop_size, \n",
    "            win_length=window_size, window=window, center=center, pad_mode=pad_mode, \n",
    "            freeze_parameters=True)\n",
    "\n",
    "        # Logmel feature extractor\n",
    "        self.logmel_extractor = LogmelFilterBank(sr=sample_rate, n_fft=window_size, \n",
    "            n_mels=mel_bins, fmin=fmin, fmax=fmax, ref=ref, amin=amin, top_db=top_db, \n",
    "            freeze_parameters=True)\n",
    "\n",
    "        # Spec augmenter\n",
    "        self.spec_augmenter = SpecAugmentation(time_drop_width=64, time_stripes_num=2, \n",
    "            freq_drop_width=8, freq_stripes_num=2)\n",
    "        \n",
    "        # Model Encoder\n",
    "        self.encoder = encoder_params[encoder][\"init_op\"]()\n",
    "        self.fc1 = nn.Linear(encoder_params[encoder][\"features\"], 1024, bias=True)\n",
    "        self.att_block = AttBlock_V2(1024, classes_num, activation=\"sigmoid\")\n",
    "        self.bn0 = nn.BatchNorm2d(mel_bins)\n",
    "        self.init_weight()\n",
    "    \n",
    "    def init_weight(self):\n",
    "        init_layer(self.fc1)\n",
    "        init_bn(self.bn0)\n",
    "    \n",
    "    def forward(self, input, mixup_lambda=None):\n",
    "        \"\"\"Input : (batch_size, data_length)\"\"\"\n",
    "\n",
    "        x = self.spectrogram_extractor(input)\n",
    "        # batch_size x 1 x time_steps x freq_bins\n",
    "        x = self.logmel_extractor(x)\n",
    "        # batch_size x 1 x time_steps x mel_bins\n",
    "\n",
    "        frames_num = x.shape[2]\n",
    "\n",
    "        x = x.transpose(1, 3)\n",
    "        x = self.bn0(x)\n",
    "        x = x.transpose(1, 3)\n",
    "        #print(x.shape)\n",
    "\n",
    "        if self.training and False:\n",
    "            x = self.spec_augmenter(x)\n",
    "        \n",
    "        # Mixup on spectrogram\n",
    "        if self.training and mixup_lambda is not None:\n",
    "            x = do_mixup(x, mixup_lambda)\n",
    "        \n",
    "        # Output shape (batch size, channels, time, frequency)\n",
    "        x = x.expand(x.shape[0], 3, x.shape[2], x.shape[3])\n",
    "        #print(x.shape)\n",
    "        x = self.encoder.forward_features(x)\n",
    "        #print(x.shape)\n",
    "        x = torch.mean(x, dim=3)\n",
    "        #print(x.shape)\n",
    "\n",
    "        x1 = F.max_pool1d(x, kernel_size=3, stride=1, padding=1)\n",
    "        x2 = F.avg_pool1d(x, kernel_size=3, stride=1, padding=1)\n",
    "        x = x1 + x2\n",
    "        #print(x.shape)\n",
    "\n",
    "        x = F.dropout(x, p=0.5, training=self.training)\n",
    "        x = x.transpose(1, 2)\n",
    "        x = F.relu_(self.fc1(x))\n",
    "        x = x.transpose(1, 2)\n",
    "        x = F.dropout(x, p=0.5, training=self.training)\n",
    "        #print(x.shape)\n",
    "\n",
    "        (clipwise_output, norm_att, segmentwise_output) = self.att_block(x)\n",
    "        logit = torch.sum(norm_att * self.att_block.cla(x), dim=2)\n",
    "        segmentwise_logit = self.att_block.cla(x).transpose(1, 2)\n",
    "        segmentwise_output = segmentwise_output.transpose(1, 2)\n",
    "\n",
    "        # Get framewise output\n",
    "        framewise_output = interpolate(segmentwise_output,\n",
    "                                       self.interpolate_ratio)\n",
    "        framewise_output = pad_framewise_output(framewise_output, frames_num)\n",
    "        \n",
    "        framewise_logit = interpolate(segmentwise_logit, self.interpolate_ratio)\n",
    "        framewise_logit = pad_framewise_output(framewise_logit, frames_num)\n",
    "\n",
    "        output_dict = {\n",
    "            \"framewise_output\": framewise_output,\n",
    "            \"segmentwise_output\": segmentwise_output,\n",
    "            \"logit\": logit,\n",
    "            \"framewise_logit\": framewise_logit,\n",
    "            \"clipwise_output\": clipwise_output\n",
    "        }\n",
    "\n",
    "\n",
    "        return output_dict\n",
    "    \n",
    "def crop_or_pad(y, is_train=True):\n",
    "    length = Config.LENGTH_2\n",
    "    if len(y) < length:\n",
    "        \n",
    "        pad_width = length - len(y)\n",
    "        pad_sub = start = np.random.randint(0, pad_width)\n",
    "        \n",
    "        y = np.pad(y, (pad_sub, pad_width-pad_sub), \"minimum\")\n",
    "    elif len(y) > length:\n",
    "        start = np.random.randint(len(y) - length)\n",
    "        \n",
    "        y = y[start:start + length]\n",
    "\n",
    "    y = y.astype(np.float32, copy=False)\n",
    "    #print(y.shape)\n",
    "\n",
    "    return y"
   ]
  },
  {
   "cell_type": "code",
   "execution_count": 6,
   "metadata": {
    "papermill": {
     "duration": 0.03189,
     "end_time": "2020-12-20T18:14:00.743201",
     "exception": false,
     "start_time": "2020-12-20T18:14:00.711311",
     "status": "completed"
    },
    "tags": []
   },
   "outputs": [],
   "source": [
    "class RainforestDataset(Dataset):\n",
    "    def __init__(self, df, audio_transforms = None, image_transforms = None,):\n",
    "        self.audio_transforms = audio_transforms\n",
    "        self.img_transforms = image_transforms\n",
    "        self.df = df\n",
    "\n",
    "    def __len__(self):\n",
    "        return len(self.df)\n",
    "    \n",
    "    def __getitem__(self, idx):\n",
    "        sample = copy.deepcopy(self.df.iloc[idx, :].values)\n",
    "        try:\n",
    "            wav = np.load(train_np_folder_path + sample[0] + \".npy\")\n",
    "        except:\n",
    "            wav, sr = librosa.load('../data/test/' + sample[0] + \".flac\", sr=None)\n",
    "            \n",
    "        tmin = float(sample[3]) * Config.SR\n",
    "        tmax = float(sample[5]) * Config.SR\n",
    "        center = np.round((tmin + tmax) / 2)\n",
    "        \n",
    "        multiplier = random.random() * 0.5 + 1\n",
    "        clip_size = (tmax - tmin) * multiplier\n",
    "        beginning = center - Config.LENGTH_2 / 2\n",
    "        if beginning < 0:\n",
    "            beginning = 0\n",
    "            \n",
    "        beginning = np.random.randint( beginning , center)\n",
    "        ending = beginning + Config.LENGTH_2\n",
    "        if ending > len(wav):\n",
    "            ending = len(wav)\n",
    "            beginning = ending - Config.LENGTH_2\n",
    "            \n",
    "        wav_slice = wav[int(beginning):int(ending)]\n",
    "        \n",
    "        beginning_time = beginning / Config.SR\n",
    "        ending_time = ending / Config.SR\n",
    "        recording_id = sample[0]\n",
    "        query_string = f\"recording_id == '{recording_id}' & \"\n",
    "        query_string += f\"t_min < {ending_time} & t_max > {beginning_time}\"\n",
    "        all_tp_events = self.df.query(query_string)\n",
    "\n",
    "        label_array = np.zeros(24, dtype=np.float32)\n",
    "        for species_id in all_tp_events[\"species_id\"].unique():\n",
    "            label_array[int(species_id)] = sample[-1]\n",
    "\n",
    "        if self.audio_transforms: # and bird_id not in (3, 7, 8, 9):\n",
    "            wav_slice =  self.audio_transforms(wav_slice)\n",
    "        wav_slice = wav_slice.astype(np.float32) * 10.\n",
    "\n",
    "        return torch.tensor(wav_slice), label_array"
   ]
  },
  {
   "cell_type": "code",
   "execution_count": 7,
   "metadata": {
    "papermill": {
     "duration": 0.031559,
     "end_time": "2020-12-20T18:14:01.049055",
     "exception": false,
     "start_time": "2020-12-20T18:14:01.017496",
     "status": "completed"
    },
    "tags": []
   },
   "outputs": [],
   "source": [
    "audio_transform_train = aa.Compose([\n",
    "  aa.OneOf([\n",
    "    aa.GaussianNoiseSNR(min_snr=5.0, max_snr=20.0),\n",
    "    aa.PinkNoiseSNR( min_snr=5.0, max_snr=20.0,)\n",
    "  ]),\n",
    "  aa.PitchShift(max_steps=4, sr=Config.SR, p=0.2),\n",
    "  #aa.TimeStretch(max_rate=1.2, p=0.1),\n",
    "  aa.TimeShift(sr=Config.SR),\n",
    "  aa.VolumeControl(mode=\"sine\", p=0.2 )\n",
    "])\n"
   ]
  },
  {
   "cell_type": "code",
   "execution_count": 8,
   "metadata": {},
   "outputs": [],
   "source": [
    "class ImprovedLsep(nn.Module):\n",
    "    def __init__(self, weights=[1, 1]):\n",
    "        super().__init__()\n",
    "        self.weights = weights\n",
    "\n",
    "    def forward(self, input, target):  \n",
    "        input_ = input[\"logit\"]\n",
    "        target = target.float()\n",
    "\n",
    "        framewise_output = input[\"framewise_logit\"]\n",
    "        clipwise_output_with_max, _ = framewise_output.max(dim=1)\n",
    "\n",
    "        normal_loss = lsep_loss_stable(input_, target)\n",
    "        auxiliary_loss = lsep_loss_stable(clipwise_output_with_max, target)\n",
    "\n",
    "        return self.weights[0] * normal_loss + self.weights[1] * auxiliary_loss"
   ]
  },
  {
   "cell_type": "code",
   "execution_count": 9,
   "metadata": {
    "papermill": {
     "duration": 10.752926,
     "end_time": "2020-12-20T18:14:11.820042",
     "exception": false,
     "start_time": "2020-12-20T18:14:01.067116",
     "status": "completed"
    },
    "tags": []
   },
   "outputs": [],
   "source": [
    "#model = AudioSEDModel(**model_param)\n",
    "lsep_loss = ImprovedLsep()\n",
    "\n",
    "mixer = BatchMixer(p=0.5)\n",
    "mixup_augmenter = Mixup(mixup_alpha=1.)\n",
    "loss_function = nn.BCEWithLogitsLoss()\n",
    "\n"
   ]
  },
  {
   "cell_type": "code",
   "execution_count": 10,
   "metadata": {},
   "outputs": [],
   "source": [
    "def load_val_file(record_id, df):\n",
    "\n",
    "    wav = np.load('../data/train_np/' + record_id + \".npy\")\n",
    "    window = 10 * Config.SR\n",
    "    full_length = 60 * Config.SR\n",
    "    mel_array = []\n",
    "    for i in range(0, full_length, window):\n",
    "            wav_slice = wav[i:i+window]\n",
    "            wav_slice = wav_slice.astype(np.float32) * 10.\n",
    "            mel_array.append(wav_slice)        \n",
    "    val_labels_array = np.zeros(Config.NUM_BIRDS, dtype=np.single)\n",
    "    species_ids = copy.deepcopy(df[(df.recording_id==record_id)].species_id.unique())\n",
    "    val_labels_array[species_ids] = 1.\n",
    "    \n",
    "    return np.array(mel_array), val_labels_array\n",
    "\n",
    "def lwlrap(truth, scores):\n",
    "    \"\"\"Calculate the overall lwlrap using sklearn.metrics.lrap.\"\"\"\n",
    "    # sklearn doesn't correctly apply weighting to samples with no labels, so just skip them.\n",
    "    sample_weight = np.sum(truth > 0, axis=1)\n",
    "    nonzero_weight_sample_indices = np.flatnonzero(sample_weight > 0)\n",
    "    overall_lwlrap = label_ranking_average_precision_score(\n",
    "      truth[nonzero_weight_sample_indices, :] > 0,\n",
    "      scores[nonzero_weight_sample_indices, :],\n",
    "      sample_weight=sample_weight[nonzero_weight_sample_indices])\n",
    "    return overall_lwlrap\n",
    "\n",
    "\n",
    "def validate(model, files_ids, df):\n",
    "        val_loss = []\n",
    "        val_corr = []\n",
    "        val_metrics = []\n",
    "        model.eval()\n",
    "        for i in tqdm(range(0, len(files_ids))):\n",
    "            data, target = load_val_file(files_ids[i], X_val)\n",
    "            data, target = torch.tensor(data), torch.tensor(target)\n",
    "            data = data.float()\n",
    "            if torch.cuda.is_available():\n",
    "                data, target = data.cuda(), target.cuda().unsqueeze(0)\n",
    "            output = model(data)\n",
    "            framewise_output = output[\"framewise_logit\"]\n",
    "            output, _ = framewise_output.max(dim=1) \n",
    "            output, _ = torch.max(output, 0)\n",
    "          \n",
    "            output = output.unsqueeze(0)\n",
    "            #print(output.shape)\n",
    "            #loss = loss_function(output, target)\n",
    "            loss = lsep_loss_stable(output, target)\n",
    "            #loss = criterion(output, target)\n",
    "            #loss = 0\n",
    "            \n",
    "            val_metric = lwlrap(target.cpu().detach().numpy(), output.cpu().detach().numpy())\n",
    "            vals, answers = torch.max(output, 1)\n",
    "            vals, targets = torch.max(target, 1)\n",
    "            val_metrics.append(val_metric.item())\n",
    "            corrects = 0\n",
    "            for i in range(0, len(answers)):\n",
    "                if answers[i] == targets[i]:\n",
    "                    corrects = corrects + 1\n",
    "            val_corr.append(corrects)\n",
    "            val_loss.append(loss.item())\n",
    "        valid_epoch_metric = sum(val_metrics) / len(val_loss)\n",
    "\n",
    "        return val_loss, val_corr, valid_epoch_metric"
   ]
  },
  {
   "cell_type": "code",
   "execution_count": 11,
   "metadata": {
    "collapsed": true,
    "jupyter": {
     "outputs_hidden": true
    }
   },
   "outputs": [
    {
     "name": "stdout",
     "output_type": "stream",
     "text": [
      "Starting training loop for 1 fold\n"
     ]
    },
    {
     "name": "stderr",
     "output_type": "stream",
     "text": [
      "685it [04:20,  2.63it/s]\n",
      "  1%|          | 2/227 [00:00<00:16, 13.50it/s]"
     ]
    },
    {
     "name": "stdout",
     "output_type": "stream",
     "text": [
      "Epoch 0 training end. LR: 0.001, Loss: 4.985971875608403, Correct answers: 4687/10969/train_metric:0.6043782639286182\n"
     ]
    },
    {
     "name": "stderr",
     "output_type": "stream",
     "text": [
      "100%|██████████| 227/227 [00:17<00:00, 13.22it/s]"
     ]
    },
    {
     "name": "stdout",
     "output_type": "stream",
     "text": [
      "Epoch 0 validation end. LR: 0.001, Loss: 2.4910512390640864, Correct answers: 87/227, Val metric: 0.7331802497551391\n",
      "Saving new best model at epoch \n"
     ]
    },
    {
     "name": "stderr",
     "output_type": "stream",
     "text": [
      "\n",
      "685it [04:08,  2.75it/s]\n",
      "  1%|          | 2/227 [00:00<00:18, 12.03it/s]"
     ]
    },
    {
     "name": "stdout",
     "output_type": "stream",
     "text": [
      "Epoch 1 training end. LR: 0.0009755527298894294, Loss: 3.2703812533051426, Correct answers: 6757/10969/train_metric:0.7947897184371258\n"
     ]
    },
    {
     "name": "stderr",
     "output_type": "stream",
     "text": [
      "100%|██████████| 227/227 [00:18<00:00, 12.09it/s]\n"
     ]
    },
    {
     "name": "stdout",
     "output_type": "stream",
     "text": [
      "Epoch 1 validation end. LR: 0.0009755527298894294, Loss: 1.7100574928233276, Correct answers: 94/227, Val metric: 0.8573324680703537\n",
      "Saving new best model at epoch \n"
     ]
    },
    {
     "name": "stderr",
     "output_type": "stream",
     "text": [
      "685it [04:09,  2.75it/s]\n",
      "  1%|          | 2/227 [00:00<00:19, 11.61it/s]"
     ]
    },
    {
     "name": "stdout",
     "output_type": "stream",
     "text": [
      "Epoch 2 training end. LR: 0.0009046039886902864, Loss: 2.684279364042909, Correct answers: 7352/10969/train_metric:0.8392155379930369\n"
     ]
    },
    {
     "name": "stderr",
     "output_type": "stream",
     "text": [
      "100%|██████████| 227/227 [00:19<00:00, 11.40it/s]\n"
     ]
    },
    {
     "name": "stdout",
     "output_type": "stream",
     "text": [
      "Epoch 2 validation end. LR: 0.0009046039886902864, Loss: 1.5081348230135074, Correct answers: 108/227, Val metric: 0.8699934060066217\n",
      "Saving new best model at epoch \n"
     ]
    },
    {
     "name": "stderr",
     "output_type": "stream",
     "text": [
      "685it [04:09,  2.74it/s]\n",
      "  0%|          | 0/227 [00:00<?, ?it/s]"
     ]
    },
    {
     "name": "stdout",
     "output_type": "stream",
     "text": [
      "Epoch 3 training end. LR: 0.0007940987335200905, Loss: 2.326697861365158, Correct answers: 7664/10969/train_metric:0.8629626757822577\n"
     ]
    },
    {
     "name": "stderr",
     "output_type": "stream",
     "text": [
      "100%|██████████| 227/227 [00:19<00:00, 11.40it/s]\n"
     ]
    },
    {
     "name": "stdout",
     "output_type": "stream",
     "text": [
      "Epoch 3 validation end. LR: 0.0007940987335200905, Loss: 1.2230420973857594, Correct answers: 117/227, Val metric: 0.9214162244999251\n",
      "Saving new best model at epoch \n"
     ]
    },
    {
     "name": "stderr",
     "output_type": "stream",
     "text": [
      "685it [04:06,  2.78it/s]\n",
      "  1%|          | 2/227 [00:00<00:18, 12.03it/s]"
     ]
    },
    {
     "name": "stdout",
     "output_type": "stream",
     "text": [
      "Epoch 4 training end. LR: 0.0006548539886902864, Loss: 2.022777944759731, Correct answers: 7877/10969/train_metric:0.8828242892379526\n"
     ]
    },
    {
     "name": "stderr",
     "output_type": "stream",
     "text": [
      "100%|██████████| 227/227 [00:16<00:00, 13.49it/s]"
     ]
    },
    {
     "name": "stdout",
     "output_type": "stream",
     "text": [
      "Epoch 4 validation end. LR: 0.0006548539886902864, Loss: 1.1860653335302411, Correct answers: 102/227, Val metric: 0.9213104595729625\n"
     ]
    },
    {
     "name": "stderr",
     "output_type": "stream",
     "text": [
      "\n",
      "685it [04:04,  2.80it/s]\n",
      "  1%|          | 2/227 [00:00<00:16, 13.69it/s]"
     ]
    },
    {
     "name": "stdout",
     "output_type": "stream",
     "text": [
      "Epoch 5 training end. LR: 0.0005005000000000001, Loss: 1.7869002114247232, Correct answers: 8018/10969/train_metric:0.8943565386208486\n"
     ]
    },
    {
     "name": "stderr",
     "output_type": "stream",
     "text": [
      "100%|██████████| 227/227 [00:16<00:00, 14.06it/s]"
     ]
    },
    {
     "name": "stdout",
     "output_type": "stream",
     "text": [
      "Epoch 5 validation end. LR: 0.0005005000000000001, Loss: 1.3013399372016805, Correct answers: 105/227, Val metric: 0.903759336600746\n"
     ]
    },
    {
     "name": "stderr",
     "output_type": "stream",
     "text": [
      "\n",
      "685it [04:00,  2.85it/s]\n",
      "  1%|          | 2/227 [00:00<00:16, 13.69it/s]"
     ]
    },
    {
     "name": "stdout",
     "output_type": "stream",
     "text": [
      "Epoch 6 training end. LR: 0.0003461460113097139, Loss: 1.5249279744868731, Correct answers: 8213/10969/train_metric:0.908925398272761\n"
     ]
    },
    {
     "name": "stderr",
     "output_type": "stream",
     "text": [
      "100%|██████████| 227/227 [00:16<00:00, 14.07it/s]\n"
     ]
    },
    {
     "name": "stdout",
     "output_type": "stream",
     "text": [
      "Epoch 6 validation end. LR: 0.0003461460113097139, Loss: 1.0648265116015194, Correct answers: 96/227, Val metric: 0.9251052068342817\n",
      "Saving new best model at epoch \n"
     ]
    },
    {
     "name": "stderr",
     "output_type": "stream",
     "text": [
      "685it [04:06,  2.78it/s]\n",
      "  1%|          | 2/227 [00:00<00:16, 13.73it/s]"
     ]
    },
    {
     "name": "stdout",
     "output_type": "stream",
     "text": [
      "Epoch 7 training end. LR: 0.00020690126647990976, Loss: 1.327345235504373, Correct answers: 8356/10969/train_metric:0.9200665994983359\n"
     ]
    },
    {
     "name": "stderr",
     "output_type": "stream",
     "text": [
      "100%|██████████| 227/227 [00:16<00:00, 14.07it/s]\n"
     ]
    },
    {
     "name": "stdout",
     "output_type": "stream",
     "text": [
      "Epoch 7 validation end. LR: 0.00020690126647990976, Loss: 1.0004823722503258, Correct answers: 97/227, Val metric: 0.9267756144466088\n",
      "Saving new best model at epoch \n"
     ]
    },
    {
     "name": "stderr",
     "output_type": "stream",
     "text": [
      "685it [04:06,  2.78it/s]\n",
      "  1%|          | 2/227 [00:00<00:16, 13.71it/s]"
     ]
    },
    {
     "name": "stdout",
     "output_type": "stream",
     "text": [
      "Epoch 8 training end. LR: 9.639601130971382e-05, Loss: 1.1796994606291291, Correct answers: 8488/10969/train_metric:0.9271213506415067\n"
     ]
    },
    {
     "name": "stderr",
     "output_type": "stream",
     "text": [
      "100%|██████████| 227/227 [00:16<00:00, 14.05it/s]\n"
     ]
    },
    {
     "name": "stdout",
     "output_type": "stream",
     "text": [
      "Epoch 8 validation end. LR: 9.639601130971382e-05, Loss: 0.9586055499341519, Correct answers: 108/227, Val metric: 0.9440415812772639\n",
      "Saving new best model at epoch \n"
     ]
    },
    {
     "name": "stderr",
     "output_type": "stream",
     "text": [
      "685it [04:04,  2.80it/s]\n",
      "  1%|          | 2/227 [00:00<00:16, 13.71it/s]"
     ]
    },
    {
     "name": "stdout",
     "output_type": "stream",
     "text": [
      "Epoch 9 training end. LR: 2.5447270110570814e-05, Loss: 1.0382103547345112, Correct answers: 8556/10969/train_metric:0.9350745165403145\n"
     ]
    },
    {
     "name": "stderr",
     "output_type": "stream",
     "text": [
      "100%|██████████| 227/227 [00:16<00:00, 14.04it/s]\n"
     ]
    },
    {
     "name": "stdout",
     "output_type": "stream",
     "text": [
      "Epoch 9 validation end. LR: 2.5447270110570814e-05, Loss: 0.8849555112191759, Correct answers: 99/227, Val metric: 0.9471510574594272\n",
      "Saving new best model at epoch \n"
     ]
    },
    {
     "name": "stderr",
     "output_type": "stream",
     "text": [
      "685it [04:02,  2.83it/s]\n",
      "  1%|          | 2/227 [00:00<00:20, 11.14it/s]"
     ]
    },
    {
     "name": "stdout",
     "output_type": "stream",
     "text": [
      "Epoch 10 training end. LR: 1e-06, Loss: 1.011372001305984, Correct answers: 8535/10969/train_metric:0.9372386310442736\n"
     ]
    },
    {
     "name": "stderr",
     "output_type": "stream",
     "text": [
      "100%|██████████| 227/227 [00:16<00:00, 13.84it/s]"
     ]
    },
    {
     "name": "stdout",
     "output_type": "stream",
     "text": [
      "Epoch 10 validation end. LR: 1e-06, Loss: 0.8883619266459595, Correct answers: 100/227, Val metric: 0.9450796829210923\n"
     ]
    },
    {
     "name": "stderr",
     "output_type": "stream",
     "text": [
      "\n",
      "685it [04:03,  2.81it/s]\n",
      "  1%|          | 2/227 [00:00<00:16, 13.70it/s]"
     ]
    },
    {
     "name": "stdout",
     "output_type": "stream",
     "text": [
      "Epoch 11 training end. LR: 2.5447270110570814e-05, Loss: 0.9918275387835329, Correct answers: 8588/10969/train_metric:0.9405505211986336\n"
     ]
    },
    {
     "name": "stderr",
     "output_type": "stream",
     "text": [
      "100%|██████████| 227/227 [00:16<00:00, 13.79it/s]"
     ]
    },
    {
     "name": "stdout",
     "output_type": "stream",
     "text": [
      "Epoch 11 validation end. LR: 2.5447270110570814e-05, Loss: 0.8779943882106159, Correct answers: 105/227, Val metric: 0.9429694120831377\n"
     ]
    },
    {
     "name": "stderr",
     "output_type": "stream",
     "text": [
      "\n",
      "685it [04:07,  2.77it/s]\n",
      "  1%|          | 2/227 [00:00<00:16, 13.73it/s]"
     ]
    },
    {
     "name": "stdout",
     "output_type": "stream",
     "text": [
      "Epoch 12 training end. LR: 9.639601130971413e-05, Loss: 1.0346416866148476, Correct answers: 8572/10969/train_metric:0.9369134791009452\n"
     ]
    },
    {
     "name": "stderr",
     "output_type": "stream",
     "text": [
      "100%|██████████| 227/227 [00:16<00:00, 14.06it/s]"
     ]
    },
    {
     "name": "stdout",
     "output_type": "stream",
     "text": [
      "Epoch 12 validation end. LR: 9.639601130971413e-05, Loss: 0.9819920472636622, Correct answers: 114/227, Val metric: 0.941539173207965\n"
     ]
    },
    {
     "name": "stderr",
     "output_type": "stream",
     "text": [
      "\n",
      "685it [04:06,  2.78it/s]\n",
      "  0%|          | 1/227 [00:00<00:25,  8.95it/s]"
     ]
    },
    {
     "name": "stdout",
     "output_type": "stream",
     "text": [
      "Epoch 13 training end. LR: 0.00020690126647991054, Loss: 1.1469899287624081, Correct answers: 8488/10969/train_metric:0.9314309532462339\n"
     ]
    },
    {
     "name": "stderr",
     "output_type": "stream",
     "text": [
      "100%|██████████| 227/227 [00:16<00:00, 13.93it/s]"
     ]
    },
    {
     "name": "stdout",
     "output_type": "stream",
     "text": [
      "Epoch 13 validation end. LR: 0.00020690126647991054, Loss: 1.2443010985588712, Correct answers: 92/227, Val metric: 0.9160060338584567\n"
     ]
    },
    {
     "name": "stderr",
     "output_type": "stream",
     "text": [
      "\n",
      "685it [04:01,  2.83it/s]\n",
      "  1%|          | 2/227 [00:00<00:16, 13.68it/s]"
     ]
    },
    {
     "name": "stdout",
     "output_type": "stream",
     "text": [
      "Epoch 14 training end. LR: 0.0003461460113097153, Loss: 1.3594846399378602, Correct answers: 8301/10969/train_metric:0.9172632071568576\n"
     ]
    },
    {
     "name": "stderr",
     "output_type": "stream",
     "text": [
      "100%|██████████| 227/227 [00:16<00:00, 13.92it/s]"
     ]
    },
    {
     "name": "stdout",
     "output_type": "stream",
     "text": [
      "Epoch 14 validation end. LR: 0.0003461460113097153, Loss: 1.1267052116898189, Correct answers: 102/227, Val metric: 0.9103040006144834\n"
     ]
    },
    {
     "name": "stderr",
     "output_type": "stream",
     "text": [
      "\n",
      "685it [04:03,  2.82it/s]\n",
      "  1%|          | 2/227 [00:00<00:16, 13.73it/s]"
     ]
    },
    {
     "name": "stdout",
     "output_type": "stream",
     "text": [
      "Epoch 15 training end. LR: 0.0005005000000000021, Loss: 1.534564163127955, Correct answers: 8239/10969/train_metric:0.9098331677278227\n"
     ]
    },
    {
     "name": "stderr",
     "output_type": "stream",
     "text": [
      "100%|██████████| 227/227 [00:16<00:00, 14.06it/s]"
     ]
    },
    {
     "name": "stdout",
     "output_type": "stream",
     "text": [
      "Epoch 15 validation end. LR: 0.0005005000000000021, Loss: 1.2001592472261269, Correct answers: 110/227, Val metric: 0.9107393391702452\n"
     ]
    },
    {
     "name": "stderr",
     "output_type": "stream",
     "text": [
      "\n",
      "685it [04:06,  2.78it/s]\n",
      "  1%|          | 2/227 [00:00<00:16, 13.71it/s]"
     ]
    },
    {
     "name": "stdout",
     "output_type": "stream",
     "text": [
      "Epoch 16 training end. LR: 0.0006548539886902891, Loss: 1.6226161626133606, Correct answers: 8160/10969/train_metric:0.9024187724252295\n"
     ]
    },
    {
     "name": "stderr",
     "output_type": "stream",
     "text": [
      "100%|██████████| 227/227 [00:16<00:00, 13.69it/s]"
     ]
    },
    {
     "name": "stdout",
     "output_type": "stream",
     "text": [
      "Epoch 16 validation end. LR: 0.0006548539886902891, Loss: 1.2659757609934534, Correct answers: 92/227, Val metric: 0.9078429175701788\n"
     ]
    },
    {
     "name": "stderr",
     "output_type": "stream",
     "text": [
      "\n",
      "685it [04:08,  2.76it/s]\n",
      "  1%|          | 2/227 [00:00<00:16, 13.74it/s]"
     ]
    },
    {
     "name": "stdout",
     "output_type": "stream",
     "text": [
      "Epoch 17 training end. LR: 0.0007940987335200938, Loss: 1.666808468277437, Correct answers: 8131/10969/train_metric:0.9007353188169335\n"
     ]
    },
    {
     "name": "stderr",
     "output_type": "stream",
     "text": [
      "100%|██████████| 227/227 [00:16<00:00, 14.08it/s]"
     ]
    },
    {
     "name": "stdout",
     "output_type": "stream",
     "text": [
      "Epoch 17 validation end. LR: 0.0007940987335200938, Loss: 1.182106167209306, Correct answers: 106/227, Val metric: 0.9068992912877338\n"
     ]
    },
    {
     "name": "stderr",
     "output_type": "stream",
     "text": [
      "\n",
      "685it [04:07,  2.77it/s]\n",
      "  1%|          | 2/227 [00:00<00:16, 13.74it/s]"
     ]
    },
    {
     "name": "stdout",
     "output_type": "stream",
     "text": [
      "Epoch 18 training end. LR: 0.0009046039886902903, Loss: 1.7147801275670964, Correct answers: 8076/10969/train_metric:0.8988303573553854\n"
     ]
    },
    {
     "name": "stderr",
     "output_type": "stream",
     "text": [
      "100%|██████████| 227/227 [00:16<00:00, 14.05it/s]"
     ]
    },
    {
     "name": "stdout",
     "output_type": "stream",
     "text": [
      "Epoch 18 validation end. LR: 0.0009046039886902903, Loss: 1.0457730188243715, Correct answers: 105/227, Val metric: 0.9306317581097314\n"
     ]
    },
    {
     "name": "stderr",
     "output_type": "stream",
     "text": [
      "\n",
      "685it [04:08,  2.75it/s]\n",
      "  1%|          | 2/227 [00:00<00:16, 13.69it/s]"
     ]
    },
    {
     "name": "stdout",
     "output_type": "stream",
     "text": [
      "Epoch 19 training end. LR: 0.0009755527298894335, Loss: 1.7280544988430329, Correct answers: 8016/10969/train_metric:0.8965744542286165\n"
     ]
    },
    {
     "name": "stderr",
     "output_type": "stream",
     "text": [
      "100%|██████████| 227/227 [00:16<00:00, 14.05it/s]"
     ]
    },
    {
     "name": "stdout",
     "output_type": "stream",
     "text": [
      "Epoch 19 validation end. LR: 0.0009755527298894335, Loss: 1.2625201221079554, Correct answers: 112/227, Val metric: 0.8975342633382279\n"
     ]
    },
    {
     "name": "stderr",
     "output_type": "stream",
     "text": [
      "\n",
      "685it [04:05,  2.79it/s]\n",
      "  1%|          | 2/227 [00:00<00:16, 13.70it/s]"
     ]
    },
    {
     "name": "stdout",
     "output_type": "stream",
     "text": [
      "Epoch 20 training end. LR: 0.0010000000000000041, Loss: 1.6490276079108246, Correct answers: 8083/10969/train_metric:0.9024281370479336\n"
     ]
    },
    {
     "name": "stderr",
     "output_type": "stream",
     "text": [
      "100%|██████████| 227/227 [00:16<00:00, 14.07it/s]"
     ]
    },
    {
     "name": "stdout",
     "output_type": "stream",
     "text": [
      "Epoch 20 validation end. LR: 0.0010000000000000041, Loss: 1.1287905781279577, Correct answers: 112/227, Val metric: 0.9176329195407972\n"
     ]
    },
    {
     "name": "stderr",
     "output_type": "stream",
     "text": [
      "\n",
      "685it [04:09,  2.75it/s]\n",
      "  1%|          | 2/227 [00:00<00:16, 13.74it/s]"
     ]
    },
    {
     "name": "stdout",
     "output_type": "stream",
     "text": [
      "Epoch 21 training end. LR: 0.0009755527298894334, Loss: 1.5914934096327664, Correct answers: 8138/10969/train_metric:0.9042230802290423\n"
     ]
    },
    {
     "name": "stderr",
     "output_type": "stream",
     "text": [
      "100%|██████████| 227/227 [00:16<00:00, 14.04it/s]"
     ]
    },
    {
     "name": "stdout",
     "output_type": "stream",
     "text": [
      "Epoch 21 validation end. LR: 0.0009755527298894334, Loss: 1.2031168916677064, Correct answers: 111/227, Val metric: 0.9212839892130258\n"
     ]
    },
    {
     "name": "stderr",
     "output_type": "stream",
     "text": [
      "\n",
      "685it [04:08,  2.76it/s]\n",
      "  1%|          | 2/227 [00:00<00:16, 13.68it/s]"
     ]
    },
    {
     "name": "stdout",
     "output_type": "stream",
     "text": [
      "Epoch 22 training end. LR: 0.0009046039886902904, Loss: 1.4618394288268401, Correct answers: 8318/10969/train_metric:0.9124732406487487\n"
     ]
    },
    {
     "name": "stderr",
     "output_type": "stream",
     "text": [
      "100%|██████████| 227/227 [00:16<00:00, 14.03it/s]"
     ]
    },
    {
     "name": "stdout",
     "output_type": "stream",
     "text": [
      "Epoch 22 validation end. LR: 0.0009046039886902904, Loss: 1.1192618844792706, Correct answers: 98/227, Val metric: 0.9116968934149554\n"
     ]
    },
    {
     "name": "stderr",
     "output_type": "stream",
     "text": [
      "\n",
      "685it [04:10,  2.73it/s]\n",
      "  1%|          | 2/227 [00:00<00:16, 13.62it/s]"
     ]
    },
    {
     "name": "stdout",
     "output_type": "stream",
     "text": [
      "Epoch 23 training end. LR: 0.0007940987335200938, Loss: 1.319858142407271, Correct answers: 8314/10969/train_metric:0.9193196288578076\n"
     ]
    },
    {
     "name": "stderr",
     "output_type": "stream",
     "text": [
      "100%|██████████| 227/227 [00:16<00:00, 14.06it/s]"
     ]
    },
    {
     "name": "stdout",
     "output_type": "stream",
     "text": [
      "Epoch 23 validation end. LR: 0.0007940987335200938, Loss: 1.1113027097895283, Correct answers: 119/227, Val metric: 0.9199321725753441\n"
     ]
    },
    {
     "name": "stderr",
     "output_type": "stream",
     "text": [
      "\n",
      "685it [04:08,  2.76it/s]\n",
      "  1%|          | 2/227 [00:00<00:16, 13.71it/s]"
     ]
    },
    {
     "name": "stdout",
     "output_type": "stream",
     "text": [
      "Epoch 24 training end. LR: 0.0006548539886902891, Loss: 1.2039759638535716, Correct answers: 8383/10969/train_metric:0.9240034007609851\n"
     ]
    },
    {
     "name": "stderr",
     "output_type": "stream",
     "text": [
      "100%|██████████| 227/227 [00:16<00:00, 14.03it/s]"
     ]
    },
    {
     "name": "stdout",
     "output_type": "stream",
     "text": [
      "Epoch 24 validation end. LR: 0.0006548539886902891, Loss: 0.9390691555544143, Correct answers: 111/227, Val metric: 0.9292969023145237\n"
     ]
    },
    {
     "name": "stderr",
     "output_type": "stream",
     "text": [
      "\n",
      "685it [04:13,  2.71it/s]\n",
      "  1%|          | 2/227 [00:00<00:16, 13.71it/s]"
     ]
    },
    {
     "name": "stdout",
     "output_type": "stream",
     "text": [
      "Epoch 25 training end. LR: 0.0005005000000000021, Loss: 1.132636404015722, Correct answers: 8433/10969/train_metric:0.9275767869931302\n"
     ]
    },
    {
     "name": "stderr",
     "output_type": "stream",
     "text": [
      "100%|██████████| 227/227 [00:16<00:00, 14.06it/s]"
     ]
    },
    {
     "name": "stdout",
     "output_type": "stream",
     "text": [
      "Epoch 25 validation end. LR: 0.0005005000000000021, Loss: 1.2223016301965923, Correct answers: 112/227, Val metric: 0.9053162441546395\n"
     ]
    },
    {
     "name": "stderr",
     "output_type": "stream",
     "text": [
      "\n",
      "685it [04:07,  2.77it/s]\n",
      "  1%|          | 2/227 [00:00<00:16, 13.72it/s]"
     ]
    },
    {
     "name": "stdout",
     "output_type": "stream",
     "text": [
      "Epoch 26 training end. LR: 0.00034614601130971535, Loss: 0.943857060780708, Correct answers: 8570/10969/train_metric:0.9363060903933461\n"
     ]
    },
    {
     "name": "stderr",
     "output_type": "stream",
     "text": [
      "100%|██████████| 227/227 [00:16<00:00, 14.06it/s]"
     ]
    },
    {
     "name": "stdout",
     "output_type": "stream",
     "text": [
      "Epoch 26 validation end. LR: 0.00034614601130971535, Loss: 0.9914687047445827, Correct answers: 120/227, Val metric: 0.929794324618113\n"
     ]
    },
    {
     "name": "stderr",
     "output_type": "stream",
     "text": [
      "\n",
      "685it [04:12,  2.71it/s]\n",
      "  1%|          | 2/227 [00:00<00:17, 13.10it/s]"
     ]
    },
    {
     "name": "stdout",
     "output_type": "stream",
     "text": [
      "Epoch 27 training end. LR: 0.00020690126647991062, Loss: 0.8140770885087277, Correct answers: 8678/10969/train_metric:0.9444721058878519\n"
     ]
    },
    {
     "name": "stderr",
     "output_type": "stream",
     "text": [
      "100%|██████████| 227/227 [00:16<00:00, 14.05it/s]"
     ]
    },
    {
     "name": "stdout",
     "output_type": "stream",
     "text": [
      "Epoch 27 validation end. LR: 0.00020690126647991062, Loss: 1.0150164297498796, Correct answers: 106/227, Val metric: 0.930134667670299\n"
     ]
    },
    {
     "name": "stderr",
     "output_type": "stream",
     "text": [
      "\n",
      "685it [04:06,  2.78it/s]\n",
      "  1%|          | 2/227 [00:00<00:16, 13.73it/s]"
     ]
    },
    {
     "name": "stdout",
     "output_type": "stream",
     "text": [
      "Epoch 28 training end. LR: 9.639601130971425e-05, Loss: 0.7391735950144973, Correct answers: 8731/10969/train_metric:0.9483267417666683\n"
     ]
    },
    {
     "name": "stderr",
     "output_type": "stream",
     "text": [
      "100%|██████████| 227/227 [00:16<00:00, 14.05it/s]"
     ]
    },
    {
     "name": "stdout",
     "output_type": "stream",
     "text": [
      "Epoch 28 validation end. LR: 9.639601130971425e-05, Loss: 1.004531209164254, Correct answers: 107/227, Val metric: 0.9330278743049286\n"
     ]
    },
    {
     "name": "stderr",
     "output_type": "stream",
     "text": [
      "\n",
      "685it [04:06,  2.77it/s]\n",
      "  1%|          | 2/227 [00:00<00:16, 13.69it/s]"
     ]
    },
    {
     "name": "stdout",
     "output_type": "stream",
     "text": [
      "Epoch 29 training end. LR: 2.5447270110570967e-05, Loss: 0.6884352242261389, Correct answers: 8765/10969/train_metric:0.9527963211422116\n"
     ]
    },
    {
     "name": "stderr",
     "output_type": "stream",
     "text": [
      "100%|██████████| 227/227 [00:16<00:00, 14.06it/s]"
     ]
    },
    {
     "name": "stdout",
     "output_type": "stream",
     "text": [
      "Epoch 29 validation end. LR: 2.5447270110570967e-05, Loss: 0.9508051179054025, Correct answers: 109/227, Val metric: 0.9331132279370168\n"
     ]
    },
    {
     "name": "stderr",
     "output_type": "stream",
     "text": [
      "\n",
      "685it [04:09,  2.75it/s]\n",
      "  1%|          | 2/227 [00:00<00:16, 13.70it/s]"
     ]
    },
    {
     "name": "stdout",
     "output_type": "stream",
     "text": [
      "Epoch 30 training end. LR: 1e-06, Loss: 0.6584440254381974, Correct answers: 8842/10969/train_metric:0.9541876251611293\n"
     ]
    },
    {
     "name": "stderr",
     "output_type": "stream",
     "text": [
      "100%|██████████| 227/227 [00:16<00:00, 14.06it/s]"
     ]
    },
    {
     "name": "stdout",
     "output_type": "stream",
     "text": [
      "Epoch 30 validation end. LR: 1e-06, Loss: 0.9664045409484057, Correct answers: 109/227, Val metric: 0.9376870498566534\n"
     ]
    },
    {
     "name": "stderr",
     "output_type": "stream",
     "text": [
      "\n",
      "685it [04:08,  2.76it/s]\n",
      "  1%|          | 2/227 [00:00<00:16, 13.66it/s]"
     ]
    },
    {
     "name": "stdout",
     "output_type": "stream",
     "text": [
      "Epoch 31 training end. LR: 2.5447270110570814e-05, Loss: 0.6787867696615901, Correct answers: 8743/10969/train_metric:0.9522924412790795\n"
     ]
    },
    {
     "name": "stderr",
     "output_type": "stream",
     "text": [
      "100%|██████████| 227/227 [00:16<00:00, 14.05it/s]"
     ]
    },
    {
     "name": "stdout",
     "output_type": "stream",
     "text": [
      "Epoch 31 validation end. LR: 2.5447270110570814e-05, Loss: 0.9916395048738051, Correct answers: 111/227, Val metric: 0.9335734321967805\n"
     ]
    },
    {
     "name": "stderr",
     "output_type": "stream",
     "text": [
      "\n",
      "685it [04:11,  2.73it/s]\n",
      "  1%|          | 2/227 [00:00<00:16, 13.74it/s]"
     ]
    },
    {
     "name": "stdout",
     "output_type": "stream",
     "text": [
      "Epoch 32 training end. LR: 9.639601130971386e-05, Loss: 0.6926713695980772, Correct answers: 8807/10969/train_metric:0.9529530022421462\n"
     ]
    },
    {
     "name": "stderr",
     "output_type": "stream",
     "text": [
      "100%|██████████| 227/227 [00:16<00:00, 14.07it/s]\n"
     ]
    },
    {
     "name": "stdout",
     "output_type": "stream",
     "text": [
      "Epoch 32 validation end. LR: 9.639601130971386e-05, Loss: 0.9749109230377601, Correct answers: 114/227, Val metric: 0.9300909027340749\n",
      "Starting training loop for 2 fold\n"
     ]
    },
    {
     "name": "stderr",
     "output_type": "stream",
     "text": [
      "686it [04:14,  2.69it/s]\n",
      "  0%|          | 1/226 [00:00<00:22,  9.90it/s]"
     ]
    },
    {
     "name": "stdout",
     "output_type": "stream",
     "text": [
      "Epoch 0 training end. LR: 0.001, Loss: 5.066269007090577, Correct answers: 4588/10987/train_metric:0.5928590297195349\n"
     ]
    },
    {
     "name": "stderr",
     "output_type": "stream",
     "text": [
      "100%|██████████| 226/226 [00:19<00:00, 11.32it/s]"
     ]
    },
    {
     "name": "stdout",
     "output_type": "stream",
     "text": [
      "Epoch 0 validation end. LR: 0.001, Loss: 2.29363519691788, Correct answers: 89/226, Val metric: 0.772275354532059\n",
      "Saving new best model at epoch \n"
     ]
    },
    {
     "name": "stderr",
     "output_type": "stream",
     "text": [
      "\n",
      "686it [04:10,  2.73it/s]\n",
      "  1%|          | 2/226 [00:00<00:16, 13.83it/s]"
     ]
    },
    {
     "name": "stdout",
     "output_type": "stream",
     "text": [
      "Epoch 1 training end. LR: 0.0009755527298894294, Loss: 3.3096414774916956, Correct answers: 6739/10987/train_metric:0.792402194959585\n"
     ]
    },
    {
     "name": "stderr",
     "output_type": "stream",
     "text": [
      "100%|██████████| 226/226 [00:16<00:00, 14.03it/s]\n"
     ]
    },
    {
     "name": "stdout",
     "output_type": "stream",
     "text": [
      "Epoch 1 validation end. LR: 0.0009755527298894294, Loss: 1.8730075696928312, Correct answers: 88/226, Val metric: 0.8410197041028691\n",
      "Saving new best model at epoch \n"
     ]
    },
    {
     "name": "stderr",
     "output_type": "stream",
     "text": [
      "686it [04:07,  2.77it/s]\n",
      "  1%|          | 2/226 [00:00<00:16, 13.81it/s]"
     ]
    },
    {
     "name": "stdout",
     "output_type": "stream",
     "text": [
      "Epoch 2 training end. LR: 0.0009046039886902864, Loss: 2.7249868597303117, Correct answers: 7368/10987/train_metric:0.8402348014682353\n"
     ]
    },
    {
     "name": "stderr",
     "output_type": "stream",
     "text": [
      "100%|██████████| 226/226 [00:16<00:00, 14.10it/s]\n"
     ]
    },
    {
     "name": "stdout",
     "output_type": "stream",
     "text": [
      "Epoch 2 validation end. LR: 0.0009046039886902864, Loss: 1.379381971021669, Correct answers: 84/226, Val metric: 0.8860810372893921\n",
      "Saving new best model at epoch \n"
     ]
    },
    {
     "name": "stderr",
     "output_type": "stream",
     "text": [
      "686it [04:03,  2.82it/s]\n",
      "  1%|          | 2/226 [00:00<00:16, 13.83it/s]"
     ]
    },
    {
     "name": "stdout",
     "output_type": "stream",
     "text": [
      "Epoch 3 training end. LR: 0.0007940987335200905, Loss: 2.3820988362106568, Correct answers: 7706/10987/train_metric:0.8619928758406845\n"
     ]
    },
    {
     "name": "stderr",
     "output_type": "stream",
     "text": [
      "100%|██████████| 226/226 [00:16<00:00, 14.09it/s]"
     ]
    },
    {
     "name": "stdout",
     "output_type": "stream",
     "text": [
      "Epoch 3 validation end. LR: 0.0007940987335200905, Loss: 1.536554369251285, Correct answers: 104/226, Val metric: 0.8731350953812531\n"
     ]
    },
    {
     "name": "stderr",
     "output_type": "stream",
     "text": [
      "\n",
      "686it [04:05,  2.79it/s]\n",
      "  1%|          | 2/226 [00:00<00:16, 13.76it/s]"
     ]
    },
    {
     "name": "stdout",
     "output_type": "stream",
     "text": [
      "Epoch 4 training end. LR: 0.0006548539886902864, Loss: 2.06141642509327, Correct answers: 7853/10987/train_metric:0.8818278522255631\n"
     ]
    },
    {
     "name": "stderr",
     "output_type": "stream",
     "text": [
      "100%|██████████| 226/226 [00:16<00:00, 14.08it/s]\n"
     ]
    },
    {
     "name": "stdout",
     "output_type": "stream",
     "text": [
      "Epoch 4 validation end. LR: 0.0006548539886902864, Loss: 1.3016018456062384, Correct answers: 87/226, Val metric: 0.9007657572981278\n",
      "Saving new best model at epoch \n"
     ]
    },
    {
     "name": "stderr",
     "output_type": "stream",
     "text": [
      "686it [04:05,  2.79it/s]\n",
      "  1%|          | 2/226 [00:00<00:16, 13.87it/s]"
     ]
    },
    {
     "name": "stdout",
     "output_type": "stream",
     "text": [
      "Epoch 5 training end. LR: 0.0005005000000000001, Loss: 1.8332449644804, Correct answers: 7981/10987/train_metric:0.8951292441554244\n"
     ]
    },
    {
     "name": "stderr",
     "output_type": "stream",
     "text": [
      "100%|██████████| 226/226 [00:16<00:00, 14.09it/s]\n"
     ]
    },
    {
     "name": "stdout",
     "output_type": "stream",
     "text": [
      "Epoch 5 validation end. LR: 0.0005005000000000001, Loss: 1.2538366570936894, Correct answers: 100/226, Val metric: 0.9092873756037471\n",
      "Saving new best model at epoch \n"
     ]
    },
    {
     "name": "stderr",
     "output_type": "stream",
     "text": [
      "686it [04:03,  2.82it/s]\n",
      "  1%|          | 2/226 [00:00<00:18, 12.18it/s]"
     ]
    },
    {
     "name": "stdout",
     "output_type": "stream",
     "text": [
      "Epoch 6 training end. LR: 0.0003461460113097139, Loss: 1.5644923891253095, Correct answers: 8160/10987/train_metric:0.9084731966318471\n"
     ]
    },
    {
     "name": "stderr",
     "output_type": "stream",
     "text": [
      "100%|██████████| 226/226 [00:16<00:00, 14.08it/s]\n"
     ]
    },
    {
     "name": "stdout",
     "output_type": "stream",
     "text": [
      "Epoch 6 validation end. LR: 0.0003461460113097139, Loss: 1.1823072813253488, Correct answers: 92/226, Val metric: 0.9100731250067534\n",
      "Saving new best model at epoch \n"
     ]
    },
    {
     "name": "stderr",
     "output_type": "stream",
     "text": [
      "686it [04:03,  2.82it/s]\n",
      "  1%|          | 2/226 [00:00<00:16, 13.83it/s]"
     ]
    },
    {
     "name": "stdout",
     "output_type": "stream",
     "text": [
      "Epoch 7 training end. LR: 0.00020690126647990976, Loss: 1.3653282075251505, Correct answers: 8302/10987/train_metric:0.91710688483891\n"
     ]
    },
    {
     "name": "stderr",
     "output_type": "stream",
     "text": [
      "100%|██████████| 226/226 [00:16<00:00, 14.07it/s]\n"
     ]
    },
    {
     "name": "stdout",
     "output_type": "stream",
     "text": [
      "Epoch 7 validation end. LR: 0.00020690126647990976, Loss: 1.108612364372321, Correct answers: 105/226, Val metric: 0.9220217484955904\n",
      "Saving new best model at epoch \n"
     ]
    },
    {
     "name": "stderr",
     "output_type": "stream",
     "text": [
      "686it [04:04,  2.81it/s]\n",
      "  1%|          | 2/226 [00:00<00:16, 13.87it/s]"
     ]
    },
    {
     "name": "stdout",
     "output_type": "stream",
     "text": [
      "Epoch 8 training end. LR: 9.639601130971382e-05, Loss: 1.171452294220556, Correct answers: 8405/10987/train_metric:0.9285427633162299\n"
     ]
    },
    {
     "name": "stderr",
     "output_type": "stream",
     "text": [
      "100%|██████████| 226/226 [00:16<00:00, 14.09it/s]\n"
     ]
    },
    {
     "name": "stdout",
     "output_type": "stream",
     "text": [
      "Epoch 8 validation end. LR: 9.639601130971382e-05, Loss: 1.0691144550796103, Correct answers: 101/226, Val metric: 0.9367854194506975\n",
      "Saving new best model at epoch \n"
     ]
    },
    {
     "name": "stderr",
     "output_type": "stream",
     "text": [
      "686it [04:03,  2.82it/s]\n",
      "  1%|          | 2/226 [00:00<00:16, 13.89it/s]"
     ]
    },
    {
     "name": "stdout",
     "output_type": "stream",
     "text": [
      "Epoch 9 training end. LR: 2.5447270110570814e-05, Loss: 1.0817634519569728, Correct answers: 8492/10987/train_metric:0.9343048389335548\n"
     ]
    },
    {
     "name": "stderr",
     "output_type": "stream",
     "text": [
      "100%|██████████| 226/226 [00:16<00:00, 14.09it/s]\n"
     ]
    },
    {
     "name": "stdout",
     "output_type": "stream",
     "text": [
      "Epoch 9 validation end. LR: 2.5447270110570814e-05, Loss: 0.9822669472314615, Correct answers: 109/226, Val metric: 0.9370923342520165\n",
      "Saving new best model at epoch \n"
     ]
    },
    {
     "name": "stderr",
     "output_type": "stream",
     "text": [
      "686it [04:07,  2.77it/s]\n",
      "  1%|          | 2/226 [00:00<00:16, 13.85it/s]"
     ]
    },
    {
     "name": "stdout",
     "output_type": "stream",
     "text": [
      "Epoch 10 training end. LR: 1e-06, Loss: 1.0532887012157426, Correct answers: 8537/10987/train_metric:0.9352168986008007\n"
     ]
    },
    {
     "name": "stderr",
     "output_type": "stream",
     "text": [
      "100%|██████████| 226/226 [00:16<00:00, 14.10it/s]\n"
     ]
    },
    {
     "name": "stdout",
     "output_type": "stream",
     "text": [
      "Epoch 10 validation end. LR: 1e-06, Loss: 0.9770271166236, Correct answers: 108/226, Val metric: 0.9385575516073953\n",
      "Saving new best model at epoch \n"
     ]
    },
    {
     "name": "stderr",
     "output_type": "stream",
     "text": [
      "686it [04:03,  2.82it/s]\n",
      "  1%|          | 2/226 [00:00<00:16, 13.85it/s]"
     ]
    },
    {
     "name": "stdout",
     "output_type": "stream",
     "text": [
      "Epoch 11 training end. LR: 2.5447270110570814e-05, Loss: 1.0329173548315427, Correct answers: 8593/10987/train_metric:0.9365601220064083\n"
     ]
    },
    {
     "name": "stderr",
     "output_type": "stream",
     "text": [
      "100%|██████████| 226/226 [00:16<00:00, 14.08it/s]\n"
     ]
    },
    {
     "name": "stdout",
     "output_type": "stream",
     "text": [
      "Epoch 11 validation end. LR: 2.5447270110570814e-05, Loss: 0.9271797732969301, Correct answers: 112/226, Val metric: 0.942915460434947\n",
      "Saving new best model at epoch \n"
     ]
    },
    {
     "name": "stderr",
     "output_type": "stream",
     "text": [
      "686it [04:07,  2.77it/s]\n",
      "  1%|          | 2/226 [00:00<00:16, 13.86it/s]"
     ]
    },
    {
     "name": "stdout",
     "output_type": "stream",
     "text": [
      "Epoch 12 training end. LR: 9.639601130971413e-05, Loss: 1.079599959096999, Correct answers: 8460/10987/train_metric:0.9345523999019326\n"
     ]
    },
    {
     "name": "stderr",
     "output_type": "stream",
     "text": [
      "100%|██████████| 226/226 [00:16<00:00, 14.08it/s]"
     ]
    },
    {
     "name": "stdout",
     "output_type": "stream",
     "text": [
      "Epoch 12 validation end. LR: 9.639601130971413e-05, Loss: 1.0218802363471646, Correct answers: 111/226, Val metric: 0.9373807608320878\n"
     ]
    },
    {
     "name": "stderr",
     "output_type": "stream",
     "text": [
      "\n",
      "686it [04:01,  2.84it/s]\n",
      "  1%|          | 2/226 [00:00<00:16, 13.86it/s]"
     ]
    },
    {
     "name": "stdout",
     "output_type": "stream",
     "text": [
      "Epoch 13 training end. LR: 0.00020690126647991054, Loss: 1.196284732724331, Correct answers: 8399/10987/train_metric:0.9274725102715847\n"
     ]
    },
    {
     "name": "stderr",
     "output_type": "stream",
     "text": [
      "100%|██████████| 226/226 [00:16<00:00, 14.10it/s]"
     ]
    },
    {
     "name": "stdout",
     "output_type": "stream",
     "text": [
      "Epoch 13 validation end. LR: 0.00020690126647991054, Loss: 0.9776924542621174, Correct answers: 113/226, Val metric: 0.9421560880989562\n"
     ]
    },
    {
     "name": "stderr",
     "output_type": "stream",
     "text": [
      "\n",
      "686it [04:08,  2.76it/s]\n",
      "  1%|          | 2/226 [00:00<00:16, 13.88it/s]"
     ]
    },
    {
     "name": "stdout",
     "output_type": "stream",
     "text": [
      "Epoch 14 training end. LR: 0.0003461460113097153, Loss: 1.3650397984826879, Correct answers: 8197/10987/train_metric:0.915717455623161\n"
     ]
    },
    {
     "name": "stderr",
     "output_type": "stream",
     "text": [
      "100%|██████████| 226/226 [00:16<00:00, 14.09it/s]"
     ]
    },
    {
     "name": "stdout",
     "output_type": "stream",
     "text": [
      "Epoch 14 validation end. LR: 0.0003461460113097153, Loss: 1.2742386476128502, Correct answers: 91/226, Val metric: 0.9066263053046937\n"
     ]
    },
    {
     "name": "stderr",
     "output_type": "stream",
     "text": [
      "\n",
      "686it [04:10,  2.74it/s]\n",
      "  1%|          | 2/226 [00:00<00:16, 13.83it/s]"
     ]
    },
    {
     "name": "stdout",
     "output_type": "stream",
     "text": [
      "Epoch 15 training end. LR: 0.0005005000000000021, Loss: 1.5536964308068635, Correct answers: 8242/10987/train_metric:0.9081232032884081\n"
     ]
    },
    {
     "name": "stderr",
     "output_type": "stream",
     "text": [
      "100%|██████████| 226/226 [00:16<00:00, 13.97it/s]"
     ]
    },
    {
     "name": "stdout",
     "output_type": "stream",
     "text": [
      "Epoch 15 validation end. LR: 0.0005005000000000021, Loss: 1.4884765401350712, Correct answers: 92/226, Val metric: 0.8911305692832241\n"
     ]
    },
    {
     "name": "stderr",
     "output_type": "stream",
     "text": [
      "\n",
      "686it [04:07,  2.77it/s]\n",
      "  1%|          | 2/226 [00:00<00:16, 13.88it/s]"
     ]
    },
    {
     "name": "stdout",
     "output_type": "stream",
     "text": [
      "Epoch 16 training end. LR: 0.0006548539886902891, Loss: 1.7251945744884953, Correct answers: 8047/10987/train_metric:0.8968909018900119\n"
     ]
    },
    {
     "name": "stderr",
     "output_type": "stream",
     "text": [
      "100%|██████████| 226/226 [00:16<00:00, 14.09it/s]"
     ]
    },
    {
     "name": "stdout",
     "output_type": "stream",
     "text": [
      "Epoch 16 validation end. LR: 0.0006548539886902891, Loss: 1.1554571928176205, Correct answers: 111/226, Val metric: 0.9222440600206085\n"
     ]
    },
    {
     "name": "stderr",
     "output_type": "stream",
     "text": [
      "\n",
      "686it [04:08,  2.77it/s]\n",
      "  1%|          | 2/226 [00:00<00:16, 13.87it/s]"
     ]
    },
    {
     "name": "stdout",
     "output_type": "stream",
     "text": [
      "Epoch 17 training end. LR: 0.0007940987335200938, Loss: 1.7701822146990556, Correct answers: 8041/10987/train_metric:0.8960319443432072\n"
     ]
    },
    {
     "name": "stderr",
     "output_type": "stream",
     "text": [
      "100%|██████████| 226/226 [00:16<00:00, 14.08it/s]"
     ]
    },
    {
     "name": "stdout",
     "output_type": "stream",
     "text": [
      "Epoch 17 validation end. LR: 0.0007940987335200938, Loss: 1.2146473342338495, Correct answers: 96/226, Val metric: 0.9129349304344494\n"
     ]
    },
    {
     "name": "stderr",
     "output_type": "stream",
     "text": [
      "\n",
      "686it [04:08,  2.76it/s]\n",
      "  1%|          | 2/226 [00:00<00:16, 13.85it/s]"
     ]
    },
    {
     "name": "stdout",
     "output_type": "stream",
     "text": [
      "Epoch 18 training end. LR: 0.0009046039886902903, Loss: 1.7965990426154594, Correct answers: 8000/10987/train_metric:0.8946743659203954\n"
     ]
    },
    {
     "name": "stderr",
     "output_type": "stream",
     "text": [
      "100%|██████████| 226/226 [00:16<00:00, 14.10it/s]"
     ]
    },
    {
     "name": "stdout",
     "output_type": "stream",
     "text": [
      "Epoch 18 validation end. LR: 0.0009046039886902903, Loss: 1.215453922221091, Correct answers: 97/226, Val metric: 0.9084851765219717\n"
     ]
    },
    {
     "name": "stderr",
     "output_type": "stream",
     "text": [
      "\n",
      "686it [04:15,  2.68it/s]\n",
      "  1%|          | 2/226 [00:00<00:16, 13.87it/s]"
     ]
    },
    {
     "name": "stdout",
     "output_type": "stream",
     "text": [
      "Epoch 19 training end. LR: 0.0009755527298894335, Loss: 1.753350025059183, Correct answers: 7991/10987/train_metric:0.8955902251453869\n"
     ]
    },
    {
     "name": "stderr",
     "output_type": "stream",
     "text": [
      "100%|██████████| 226/226 [00:16<00:00, 13.34it/s]"
     ]
    },
    {
     "name": "stdout",
     "output_type": "stream",
     "text": [
      "Epoch 19 validation end. LR: 0.0009755527298894335, Loss: 1.2482887939014267, Correct answers: 100/226, Val metric: 0.9169057131837605\n"
     ]
    },
    {
     "name": "stderr",
     "output_type": "stream",
     "text": [
      "\n",
      "686it [04:05,  2.80it/s]\n",
      "  1%|          | 2/226 [00:00<00:16, 13.90it/s]"
     ]
    },
    {
     "name": "stdout",
     "output_type": "stream",
     "text": [
      "Epoch 20 training end. LR: 0.0010000000000000041, Loss: 1.6832697751657608, Correct answers: 8138/10987/train_metric:0.9000666308009325\n"
     ]
    },
    {
     "name": "stderr",
     "output_type": "stream",
     "text": [
      "100%|██████████| 226/226 [00:16<00:00, 13.84it/s]"
     ]
    },
    {
     "name": "stdout",
     "output_type": "stream",
     "text": [
      "Epoch 20 validation end. LR: 0.0010000000000000041, Loss: 1.2203794285259415, Correct answers: 92/226, Val metric: 0.9199093363137223\n"
     ]
    },
    {
     "name": "stderr",
     "output_type": "stream",
     "text": [
      "\n",
      "686it [04:02,  2.83it/s]\n",
      "  1%|          | 2/226 [00:00<00:16, 13.84it/s]"
     ]
    },
    {
     "name": "stdout",
     "output_type": "stream",
     "text": [
      "Epoch 21 training end. LR: 0.0009755527298894334, Loss: 1.6229379543757647, Correct answers: 8064/10987/train_metric:0.9053593352820396\n"
     ]
    },
    {
     "name": "stderr",
     "output_type": "stream",
     "text": [
      "100%|██████████| 226/226 [00:16<00:00, 13.95it/s]"
     ]
    },
    {
     "name": "stdout",
     "output_type": "stream",
     "text": [
      "Epoch 21 validation end. LR: 0.0009755527298894334, Loss: 1.173776962060844, Correct answers: 119/226, Val metric: 0.9196080424867514\n"
     ]
    },
    {
     "name": "stderr",
     "output_type": "stream",
     "text": [
      "\n",
      "686it [04:07,  2.77it/s]\n",
      "  1%|          | 2/226 [00:00<00:16, 13.92it/s]"
     ]
    },
    {
     "name": "stdout",
     "output_type": "stream",
     "text": [
      "Epoch 22 training end. LR: 0.0009046039886902904, Loss: 1.5063734775729498, Correct answers: 8162/10987/train_metric:0.9100016531617987\n"
     ]
    },
    {
     "name": "stderr",
     "output_type": "stream",
     "text": [
      "100%|██████████| 226/226 [00:16<00:00, 13.94it/s]"
     ]
    },
    {
     "name": "stdout",
     "output_type": "stream",
     "text": [
      "Epoch 22 validation end. LR: 0.0009046039886902904, Loss: 1.2038649668735741, Correct answers: 94/226, Val metric: 0.9032356777931995\n"
     ]
    },
    {
     "name": "stderr",
     "output_type": "stream",
     "text": [
      "\n",
      "686it [04:04,  2.80it/s]\n",
      "  1%|          | 2/226 [00:00<00:16, 13.85it/s]"
     ]
    },
    {
     "name": "stdout",
     "output_type": "stream",
     "text": [
      "Epoch 23 training end. LR: 0.0007940987335200938, Loss: 1.3795699549312146, Correct answers: 8340/10987/train_metric:0.9168001168093747\n"
     ]
    },
    {
     "name": "stderr",
     "output_type": "stream",
     "text": [
      "100%|██████████| 226/226 [00:16<00:00, 14.10it/s]"
     ]
    },
    {
     "name": "stdout",
     "output_type": "stream",
     "text": [
      "Epoch 23 validation end. LR: 0.0007940987335200938, Loss: 1.2422104367112692, Correct answers: 103/226, Val metric: 0.9189163689775008\n"
     ]
    },
    {
     "name": "stderr",
     "output_type": "stream",
     "text": [
      "\n",
      "686it [04:07,  2.77it/s]\n",
      "  1%|          | 2/226 [00:00<00:16, 13.86it/s]"
     ]
    },
    {
     "name": "stdout",
     "output_type": "stream",
     "text": [
      "Epoch 24 training end. LR: 0.0006548539886902891, Loss: 1.2826173864848065, Correct answers: 8407/10987/train_metric:0.9216075734838141\n"
     ]
    },
    {
     "name": "stderr",
     "output_type": "stream",
     "text": [
      "100%|██████████| 226/226 [00:16<00:00, 14.10it/s]"
     ]
    },
    {
     "name": "stdout",
     "output_type": "stream",
     "text": [
      "Epoch 24 validation end. LR: 0.0006548539886902891, Loss: 1.1847516899615262, Correct answers: 97/226, Val metric: 0.9315800118012162\n"
     ]
    },
    {
     "name": "stderr",
     "output_type": "stream",
     "text": [
      "\n",
      "686it [04:09,  2.75it/s]\n",
      "  1%|          | 2/226 [00:00<00:16, 13.79it/s]"
     ]
    },
    {
     "name": "stdout",
     "output_type": "stream",
     "text": [
      "Epoch 25 training end. LR: 0.0005005000000000021, Loss: 1.1194505416747433, Correct answers: 8463/10987/train_metric:0.9303253694899283\n"
     ]
    },
    {
     "name": "stderr",
     "output_type": "stream",
     "text": [
      "100%|██████████| 226/226 [00:16<00:00, 14.09it/s]"
     ]
    },
    {
     "name": "stdout",
     "output_type": "stream",
     "text": [
      "Epoch 25 validation end. LR: 0.0005005000000000021, Loss: 1.0298386928254524, Correct answers: 116/226, Val metric: 0.938056768698361\n"
     ]
    },
    {
     "name": "stderr",
     "output_type": "stream",
     "text": [
      "\n",
      "686it [04:06,  2.79it/s]\n",
      "  1%|          | 2/226 [00:00<00:16, 13.77it/s]"
     ]
    },
    {
     "name": "stdout",
     "output_type": "stream",
     "text": [
      "Epoch 26 training end. LR: 0.00034614601130971535, Loss: 0.9750767596739374, Correct answers: 8559/10987/train_metric:0.9386746075482687\n"
     ]
    },
    {
     "name": "stderr",
     "output_type": "stream",
     "text": [
      "100%|██████████| 226/226 [00:16<00:00, 14.05it/s]"
     ]
    },
    {
     "name": "stdout",
     "output_type": "stream",
     "text": [
      "Epoch 26 validation end. LR: 0.00034614601130971535, Loss: 0.9397903670251897, Correct answers: 106/226, Val metric: 0.9428875653237964\n"
     ]
    },
    {
     "name": "stderr",
     "output_type": "stream",
     "text": [
      "\n",
      "686it [04:03,  2.82it/s]\n",
      "  1%|          | 2/226 [00:00<00:16, 13.87it/s]"
     ]
    },
    {
     "name": "stdout",
     "output_type": "stream",
     "text": [
      "Epoch 27 training end. LR: 0.00020690126647991062, Loss: 0.8656947056466915, Correct answers: 8644/10987/train_metric:0.9455126373373247\n"
     ]
    },
    {
     "name": "stderr",
     "output_type": "stream",
     "text": [
      "100%|██████████| 226/226 [00:16<00:00, 14.08it/s]"
     ]
    },
    {
     "name": "stdout",
     "output_type": "stream",
     "text": [
      "Epoch 27 validation end. LR: 0.00020690126647991062, Loss: 1.0755950244127122, Correct answers: 94/226, Val metric: 0.9331581600191696\n"
     ]
    },
    {
     "name": "stderr",
     "output_type": "stream",
     "text": [
      "\n",
      "686it [04:03,  2.82it/s]\n",
      "  1%|          | 2/226 [00:00<00:16, 13.87it/s]"
     ]
    },
    {
     "name": "stdout",
     "output_type": "stream",
     "text": [
      "Epoch 28 training end. LR: 9.639601130971425e-05, Loss: 0.7935631660739118, Correct answers: 8612/10987/train_metric:0.947634207977469\n"
     ]
    },
    {
     "name": "stderr",
     "output_type": "stream",
     "text": [
      "100%|██████████| 226/226 [00:16<00:00, 13.99it/s]\n"
     ]
    },
    {
     "name": "stdout",
     "output_type": "stream",
     "text": [
      "Epoch 28 validation end. LR: 9.639601130971425e-05, Loss: 0.9955748119185456, Correct answers: 103/226, Val metric: 0.9445798056417521\n",
      "Saving new best model at epoch \n"
     ]
    },
    {
     "name": "stderr",
     "output_type": "stream",
     "text": [
      "686it [04:03,  2.82it/s]\n",
      "  1%|          | 2/226 [00:00<00:16, 13.89it/s]"
     ]
    },
    {
     "name": "stdout",
     "output_type": "stream",
     "text": [
      "Epoch 29 training end. LR: 2.5447270110570967e-05, Loss: 0.7437853659109455, Correct answers: 8733/10987/train_metric:0.9517855727746415\n"
     ]
    },
    {
     "name": "stderr",
     "output_type": "stream",
     "text": [
      "100%|██████████| 226/226 [00:16<00:00, 14.09it/s]\n"
     ]
    },
    {
     "name": "stdout",
     "output_type": "stream",
     "text": [
      "Epoch 29 validation end. LR: 2.5447270110570967e-05, Loss: 1.0103492546925503, Correct answers: 105/226, Val metric: 0.9473018439279496\n",
      "Saving new best model at epoch \n"
     ]
    },
    {
     "name": "stderr",
     "output_type": "stream",
     "text": [
      "686it [04:01,  2.84it/s]\n",
      "  1%|          | 2/226 [00:00<00:16, 13.89it/s]"
     ]
    },
    {
     "name": "stdout",
     "output_type": "stream",
     "text": [
      "Epoch 30 training end. LR: 1e-06, Loss: 0.7088906129512599, Correct answers: 8674/10987/train_metric:0.9518239954184472\n"
     ]
    },
    {
     "name": "stderr",
     "output_type": "stream",
     "text": [
      "100%|██████████| 226/226 [00:16<00:00, 14.09it/s]"
     ]
    },
    {
     "name": "stdout",
     "output_type": "stream",
     "text": [
      "Epoch 30 validation end. LR: 1e-06, Loss: 1.0301778274299824, Correct answers: 108/226, Val metric: 0.9437476854512249\n"
     ]
    },
    {
     "name": "stderr",
     "output_type": "stream",
     "text": [
      "\n",
      "686it [04:12,  2.72it/s]\n",
      "  1%|          | 2/226 [00:00<00:16, 13.88it/s]"
     ]
    },
    {
     "name": "stdout",
     "output_type": "stream",
     "text": [
      "Epoch 31 training end. LR: 2.5447270110570814e-05, Loss: 0.7456421876331634, Correct answers: 8729/10987/train_metric:0.9513013337327271\n"
     ]
    },
    {
     "name": "stderr",
     "output_type": "stream",
     "text": [
      "100%|██████████| 226/226 [00:16<00:00, 14.07it/s]"
     ]
    },
    {
     "name": "stdout",
     "output_type": "stream",
     "text": [
      "Epoch 31 validation end. LR: 2.5447270110570814e-05, Loss: 1.0211111254396692, Correct answers: 107/226, Val metric: 0.9431388486145118\n"
     ]
    },
    {
     "name": "stderr",
     "output_type": "stream",
     "text": [
      "\n",
      "686it [04:07,  2.77it/s]\n",
      "  1%|          | 2/226 [00:00<00:16, 13.89it/s]"
     ]
    },
    {
     "name": "stdout",
     "output_type": "stream",
     "text": [
      "Epoch 32 training end. LR: 9.639601130971386e-05, Loss: 0.7356581230303029, Correct answers: 8762/10987/train_metric:0.9516168304954569\n"
     ]
    },
    {
     "name": "stderr",
     "output_type": "stream",
     "text": [
      "100%|██████████| 226/226 [00:16<00:00, 14.09it/s]\n"
     ]
    },
    {
     "name": "stdout",
     "output_type": "stream",
     "text": [
      "Epoch 32 validation end. LR: 9.639601130971386e-05, Loss: 1.0290539243579966, Correct answers: 116/226, Val metric: 0.9431028367780057\n",
      "Starting training loop for 3 fold\n"
     ]
    },
    {
     "name": "stderr",
     "output_type": "stream",
     "text": [
      "671it [04:09,  2.69it/s]\n",
      "  1%|          | 2/226 [00:00<00:17, 12.79it/s]"
     ]
    },
    {
     "name": "stdout",
     "output_type": "stream",
     "text": [
      "Epoch 0 training end. LR: 0.001, Loss: 4.909843252952337, Correct answers: 4582/10749/train_metric:0.6094659556131119\n"
     ]
    },
    {
     "name": "stderr",
     "output_type": "stream",
     "text": [
      "100%|██████████| 226/226 [00:18<00:00, 12.51it/s]\n"
     ]
    },
    {
     "name": "stdout",
     "output_type": "stream",
     "text": [
      "Epoch 0 validation end. LR: 0.001, Loss: 2.6093994758825385, Correct answers: 46/226, Val metric: 0.7082931925331035\n",
      "Saving new best model at epoch \n"
     ]
    },
    {
     "name": "stderr",
     "output_type": "stream",
     "text": [
      "671it [04:01,  2.78it/s]\n",
      "  1%|          | 2/226 [00:00<00:16, 13.66it/s]"
     ]
    },
    {
     "name": "stdout",
     "output_type": "stream",
     "text": [
      "Epoch 1 training end. LR: 0.0009755527298894294, Loss: 3.238061531823012, Correct answers: 6625/10749/train_metric:0.7929420669117897\n"
     ]
    },
    {
     "name": "stderr",
     "output_type": "stream",
     "text": [
      "100%|██████████| 226/226 [00:16<00:00, 14.03it/s]\n"
     ]
    },
    {
     "name": "stdout",
     "output_type": "stream",
     "text": [
      "Epoch 1 validation end. LR: 0.0009755527298894294, Loss: 1.657249696486819, Correct answers: 93/226, Val metric: 0.8593044114941957\n",
      "Saving new best model at epoch \n"
     ]
    },
    {
     "name": "stderr",
     "output_type": "stream",
     "text": [
      "671it [04:00,  2.79it/s]\n",
      "  1%|          | 2/226 [00:00<00:16, 13.74it/s]"
     ]
    },
    {
     "name": "stdout",
     "output_type": "stream",
     "text": [
      "Epoch 2 training end. LR: 0.0009046039886902864, Loss: 2.6595369339344574, Correct answers: 7157/10749/train_metric:0.8394183730367419\n"
     ]
    },
    {
     "name": "stderr",
     "output_type": "stream",
     "text": [
      "100%|██████████| 226/226 [00:16<00:00, 14.04it/s]\n"
     ]
    },
    {
     "name": "stdout",
     "output_type": "stream",
     "text": [
      "Epoch 2 validation end. LR: 0.0009046039886902864, Loss: 1.579637955775303, Correct answers: 108/226, Val metric: 0.863980300866654\n",
      "Saving new best model at epoch \n"
     ]
    },
    {
     "name": "stderr",
     "output_type": "stream",
     "text": [
      "671it [03:53,  2.87it/s]\n",
      "  1%|          | 2/226 [00:00<00:16, 13.36it/s]"
     ]
    },
    {
     "name": "stdout",
     "output_type": "stream",
     "text": [
      "Epoch 3 training end. LR: 0.0007940987335200905, Loss: 2.321448341567186, Correct answers: 7475/10749/train_metric:0.8647798862432258\n"
     ]
    },
    {
     "name": "stderr",
     "output_type": "stream",
     "text": [
      "100%|██████████| 226/226 [00:16<00:00, 14.05it/s]\n"
     ]
    },
    {
     "name": "stdout",
     "output_type": "stream",
     "text": [
      "Epoch 3 validation end. LR: 0.0007940987335200905, Loss: 1.4331782655378358, Correct answers: 90/226, Val metric: 0.8887902807098194\n",
      "Saving new best model at epoch \n"
     ]
    },
    {
     "name": "stderr",
     "output_type": "stream",
     "text": [
      "671it [04:02,  2.76it/s]\n",
      "  1%|          | 2/226 [00:00<00:16, 13.75it/s]"
     ]
    },
    {
     "name": "stdout",
     "output_type": "stream",
     "text": [
      "Epoch 4 training end. LR: 0.0006548539886902864, Loss: 2.046509969962869, Correct answers: 7644/10749/train_metric:0.8819746429264123\n"
     ]
    },
    {
     "name": "stderr",
     "output_type": "stream",
     "text": [
      "100%|██████████| 226/226 [00:16<00:00, 14.05it/s]"
     ]
    },
    {
     "name": "stdout",
     "output_type": "stream",
     "text": [
      "Epoch 4 validation end. LR: 0.0006548539886902864, Loss: 1.4935304928669888, Correct answers: 81/226, Val metric: 0.8710362793548636\n"
     ]
    },
    {
     "name": "stderr",
     "output_type": "stream",
     "text": [
      "\n",
      "671it [03:58,  2.81it/s]\n",
      "  1%|          | 2/226 [00:00<00:16, 13.74it/s]"
     ]
    },
    {
     "name": "stdout",
     "output_type": "stream",
     "text": [
      "Epoch 5 training end. LR: 0.0005005000000000001, Loss: 1.767468936530382, Correct answers: 7836/10749/train_metric:0.8968350856982967\n"
     ]
    },
    {
     "name": "stderr",
     "output_type": "stream",
     "text": [
      "100%|██████████| 226/226 [00:16<00:00, 14.06it/s]\n"
     ]
    },
    {
     "name": "stdout",
     "output_type": "stream",
     "text": [
      "Epoch 5 validation end. LR: 0.0005005000000000001, Loss: 1.2146176722197406, Correct answers: 94/226, Val metric: 0.9042449782272791\n",
      "Saving new best model at epoch \n"
     ]
    },
    {
     "name": "stderr",
     "output_type": "stream",
     "text": [
      "671it [04:00,  2.79it/s]\n",
      "  1%|          | 2/226 [00:00<00:16, 13.76it/s]"
     ]
    },
    {
     "name": "stdout",
     "output_type": "stream",
     "text": [
      "Epoch 6 training end. LR: 0.0003461460113097139, Loss: 1.5229810362157097, Correct answers: 8037/10749/train_metric:0.9094873537263811\n"
     ]
    },
    {
     "name": "stderr",
     "output_type": "stream",
     "text": [
      "100%|██████████| 226/226 [00:16<00:00, 14.06it/s]\n"
     ]
    },
    {
     "name": "stdout",
     "output_type": "stream",
     "text": [
      "Epoch 6 validation end. LR: 0.0003461460113097139, Loss: 1.098141782051694, Correct answers: 95/226, Val metric: 0.9287881661111747\n",
      "Saving new best model at epoch \n"
     ]
    },
    {
     "name": "stderr",
     "output_type": "stream",
     "text": [
      "671it [04:03,  2.76it/s]\n",
      "  1%|          | 2/226 [00:00<00:16, 13.74it/s]"
     ]
    },
    {
     "name": "stdout",
     "output_type": "stream",
     "text": [
      "Epoch 7 training end. LR: 0.00020690126647990976, Loss: 1.3255291311334036, Correct answers: 8143/10749/train_metric:0.9199748149996795\n"
     ]
    },
    {
     "name": "stderr",
     "output_type": "stream",
     "text": [
      "100%|██████████| 226/226 [00:16<00:00, 13.89it/s]\n"
     ]
    },
    {
     "name": "stdout",
     "output_type": "stream",
     "text": [
      "Epoch 7 validation end. LR: 0.00020690126647990976, Loss: 0.9620852639189864, Correct answers: 93/226, Val metric: 0.9415466275005577\n",
      "Saving new best model at epoch \n"
     ]
    },
    {
     "name": "stderr",
     "output_type": "stream",
     "text": [
      "671it [04:00,  2.79it/s]\n",
      "  1%|          | 2/226 [00:00<00:16, 13.67it/s]"
     ]
    },
    {
     "name": "stdout",
     "output_type": "stream",
     "text": [
      "Epoch 8 training end. LR: 9.639601130971382e-05, Loss: 1.1171629639389618, Correct answers: 8324/10749/train_metric:0.9307031030887969\n"
     ]
    },
    {
     "name": "stderr",
     "output_type": "stream",
     "text": [
      "100%|██████████| 226/226 [00:16<00:00, 13.97it/s]"
     ]
    },
    {
     "name": "stdout",
     "output_type": "stream",
     "text": [
      "Epoch 8 validation end. LR: 9.639601130971382e-05, Loss: 0.9273847457581916, Correct answers: 96/226, Val metric: 0.9402602829815221\n"
     ]
    },
    {
     "name": "stderr",
     "output_type": "stream",
     "text": [
      "\n",
      "671it [04:07,  2.71it/s]\n",
      "  1%|          | 2/226 [00:00<00:16, 13.72it/s]"
     ]
    },
    {
     "name": "stdout",
     "output_type": "stream",
     "text": [
      "Epoch 9 training end. LR: 2.5447270110570814e-05, Loss: 1.0539217260839686, Correct answers: 8343/10749/train_metric:0.9350346504834521\n"
     ]
    },
    {
     "name": "stderr",
     "output_type": "stream",
     "text": [
      "100%|██████████| 226/226 [00:16<00:00, 14.06it/s]"
     ]
    },
    {
     "name": "stdout",
     "output_type": "stream",
     "text": [
      "Epoch 9 validation end. LR: 2.5447270110570814e-05, Loss: 0.976101839436894, Correct answers: 108/226, Val metric: 0.9412823119123617\n"
     ]
    },
    {
     "name": "stderr",
     "output_type": "stream",
     "text": [
      "\n",
      "671it [04:03,  2.76it/s]\n",
      "  1%|          | 2/226 [00:00<00:16, 13.71it/s]"
     ]
    },
    {
     "name": "stdout",
     "output_type": "stream",
     "text": [
      "Epoch 10 training end. LR: 1e-06, Loss: 1.0032282100793324, Correct answers: 8422/10749/train_metric:0.9376320294704363\n"
     ]
    },
    {
     "name": "stderr",
     "output_type": "stream",
     "text": [
      "100%|██████████| 226/226 [00:16<00:00, 14.05it/s]"
     ]
    },
    {
     "name": "stdout",
     "output_type": "stream",
     "text": [
      "Epoch 10 validation end. LR: 1e-06, Loss: 0.9959942387268607, Correct answers: 108/226, Val metric: 0.939812750254747\n"
     ]
    },
    {
     "name": "stderr",
     "output_type": "stream",
     "text": [
      "\n",
      "671it [03:55,  2.84it/s]\n",
      "  1%|          | 2/226 [00:00<00:16, 13.76it/s]"
     ]
    },
    {
     "name": "stdout",
     "output_type": "stream",
     "text": [
      "Epoch 11 training end. LR: 2.5447270110570814e-05, Loss: 1.0100171274204368, Correct answers: 8407/10749/train_metric:0.9360828792047438\n"
     ]
    },
    {
     "name": "stderr",
     "output_type": "stream",
     "text": [
      "100%|██████████| 226/226 [00:16<00:00, 14.06it/s]"
     ]
    },
    {
     "name": "stdout",
     "output_type": "stream",
     "text": [
      "Epoch 11 validation end. LR: 2.5447270110570814e-05, Loss: 0.9583059327792277, Correct answers: 97/226, Val metric: 0.9399462367408747\n"
     ]
    },
    {
     "name": "stderr",
     "output_type": "stream",
     "text": [
      "\n",
      "671it [03:58,  2.82it/s]\n",
      "  1%|          | 2/226 [00:00<00:16, 13.75it/s]"
     ]
    },
    {
     "name": "stdout",
     "output_type": "stream",
     "text": [
      "Epoch 12 training end. LR: 9.639601130971413e-05, Loss: 1.0605363764768208, Correct answers: 8364/10749/train_metric:0.9346449139655936\n"
     ]
    },
    {
     "name": "stderr",
     "output_type": "stream",
     "text": [
      "100%|██████████| 226/226 [00:16<00:00, 13.95it/s]"
     ]
    },
    {
     "name": "stdout",
     "output_type": "stream",
     "text": [
      "Epoch 12 validation end. LR: 9.639601130971413e-05, Loss: 1.0245299571383315, Correct answers: 97/226, Val metric: 0.9354369229590467\n"
     ]
    },
    {
     "name": "stderr",
     "output_type": "stream",
     "text": [
      "\n",
      "671it [04:04,  2.74it/s]\n",
      "  1%|          | 2/226 [00:00<00:16, 13.73it/s]"
     ]
    },
    {
     "name": "stdout",
     "output_type": "stream",
     "text": [
      "Epoch 13 training end. LR: 0.00020690126647991054, Loss: 1.1746875516259723, Correct answers: 8239/10749/train_metric:0.9284617247597098\n"
     ]
    },
    {
     "name": "stderr",
     "output_type": "stream",
     "text": [
      "100%|██████████| 226/226 [00:16<00:00, 14.05it/s]"
     ]
    },
    {
     "name": "stdout",
     "output_type": "stream",
     "text": [
      "Epoch 13 validation end. LR: 0.00020690126647991054, Loss: 1.0514112489413372, Correct answers: 98/226, Val metric: 0.9325600020316313\n"
     ]
    },
    {
     "name": "stderr",
     "output_type": "stream",
     "text": [
      "\n",
      "671it [04:04,  2.75it/s]\n",
      "  1%|          | 2/226 [00:00<00:16, 13.70it/s]"
     ]
    },
    {
     "name": "stdout",
     "output_type": "stream",
     "text": [
      "Epoch 14 training end. LR: 0.0003461460113097153, Loss: 1.3643716612134, Correct answers: 8113/10749/train_metric:0.9173673860490199\n"
     ]
    },
    {
     "name": "stderr",
     "output_type": "stream",
     "text": [
      "100%|██████████| 226/226 [00:16<00:00, 13.94it/s]"
     ]
    },
    {
     "name": "stdout",
     "output_type": "stream",
     "text": [
      "Epoch 14 validation end. LR: 0.0003461460113097153, Loss: 1.0816195855098487, Correct answers: 92/226, Val metric: 0.9200310788032028\n"
     ]
    },
    {
     "name": "stderr",
     "output_type": "stream",
     "text": [
      "\n",
      "671it [03:56,  2.84it/s]\n",
      "  1%|          | 2/226 [00:00<00:16, 13.73it/s]"
     ]
    },
    {
     "name": "stdout",
     "output_type": "stream",
     "text": [
      "Epoch 15 training end. LR: 0.0005005000000000021, Loss: 1.509034494573775, Correct answers: 8020/10749/train_metric:0.9101092888032638\n"
     ]
    },
    {
     "name": "stderr",
     "output_type": "stream",
     "text": [
      "100%|██████████| 226/226 [00:16<00:00, 14.04it/s]"
     ]
    },
    {
     "name": "stdout",
     "output_type": "stream",
     "text": [
      "Epoch 15 validation end. LR: 0.0005005000000000021, Loss: 1.2263121583820444, Correct answers: 81/226, Val metric: 0.9114401479777241\n"
     ]
    },
    {
     "name": "stderr",
     "output_type": "stream",
     "text": [
      "\n",
      "671it [03:59,  2.80it/s]\n",
      "  1%|          | 2/226 [00:00<00:16, 13.71it/s]"
     ]
    },
    {
     "name": "stdout",
     "output_type": "stream",
     "text": [
      "Epoch 16 training end. LR: 0.0006548539886902891, Loss: 1.6036806294886081, Correct answers: 7868/10749/train_metric:0.903152892507537\n"
     ]
    },
    {
     "name": "stderr",
     "output_type": "stream",
     "text": [
      "100%|██████████| 226/226 [00:16<00:00, 14.06it/s]"
     ]
    },
    {
     "name": "stdout",
     "output_type": "stream",
     "text": [
      "Epoch 16 validation end. LR: 0.0006548539886902891, Loss: 1.3140921930296232, Correct answers: 111/226, Val metric: 0.9020465252544897\n"
     ]
    },
    {
     "name": "stderr",
     "output_type": "stream",
     "text": [
      "\n",
      "671it [04:00,  2.79it/s]\n",
      "  1%|          | 2/226 [00:00<00:16, 13.74it/s]"
     ]
    },
    {
     "name": "stdout",
     "output_type": "stream",
     "text": [
      "Epoch 17 training end. LR: 0.0007940987335200938, Loss: 1.6894754623069848, Correct answers: 7919/10749/train_metric:0.9005671643934349\n"
     ]
    },
    {
     "name": "stderr",
     "output_type": "stream",
     "text": [
      "100%|██████████| 226/226 [00:16<00:00, 14.05it/s]"
     ]
    },
    {
     "name": "stdout",
     "output_type": "stream",
     "text": [
      "Epoch 17 validation end. LR: 0.0007940987335200938, Loss: 1.1745282991797523, Correct answers: 104/226, Val metric: 0.9205317903100703\n"
     ]
    },
    {
     "name": "stderr",
     "output_type": "stream",
     "text": [
      "\n",
      "671it [04:01,  2.78it/s]\n",
      "  1%|          | 2/226 [00:00<00:16, 13.72it/s]"
     ]
    },
    {
     "name": "stdout",
     "output_type": "stream",
     "text": [
      "Epoch 18 training end. LR: 0.0009046039886902903, Loss: 1.7164790863074062, Correct answers: 7924/10749/train_metric:0.8990670998720253\n"
     ]
    },
    {
     "name": "stderr",
     "output_type": "stream",
     "text": [
      "100%|██████████| 226/226 [00:16<00:00, 14.04it/s]"
     ]
    },
    {
     "name": "stdout",
     "output_type": "stream",
     "text": [
      "Epoch 18 validation end. LR: 0.0009046039886902903, Loss: 1.3485385675345902, Correct answers: 99/226, Val metric: 0.9011218678943826\n"
     ]
    },
    {
     "name": "stderr",
     "output_type": "stream",
     "text": [
      "\n",
      "671it [03:59,  2.81it/s]\n",
      "  1%|          | 2/226 [00:00<00:16, 13.56it/s]"
     ]
    },
    {
     "name": "stdout",
     "output_type": "stream",
     "text": [
      "Epoch 19 training end. LR: 0.0009755527298894335, Loss: 1.6966364142969361, Correct answers: 7863/10749/train_metric:0.8974013858312707\n"
     ]
    },
    {
     "name": "stderr",
     "output_type": "stream",
     "text": [
      "100%|██████████| 226/226 [00:16<00:00, 14.03it/s]"
     ]
    },
    {
     "name": "stdout",
     "output_type": "stream",
     "text": [
      "Epoch 19 validation end. LR: 0.0009755527298894335, Loss: 1.2615927362863997, Correct answers: 86/226, Val metric: 0.9074314107721186\n"
     ]
    },
    {
     "name": "stderr",
     "output_type": "stream",
     "text": [
      "\n",
      "671it [04:06,  2.72it/s]\n",
      "  1%|          | 2/226 [00:00<00:16, 13.72it/s]"
     ]
    },
    {
     "name": "stdout",
     "output_type": "stream",
     "text": [
      "Epoch 20 training end. LR: 0.0010000000000000041, Loss: 1.657346097527602, Correct answers: 7928/10749/train_metric:0.9001408505946419\n"
     ]
    },
    {
     "name": "stderr",
     "output_type": "stream",
     "text": [
      "100%|██████████| 226/226 [00:16<00:00, 14.06it/s]"
     ]
    },
    {
     "name": "stdout",
     "output_type": "stream",
     "text": [
      "Epoch 20 validation end. LR: 0.0010000000000000041, Loss: 1.1920694671900927, Correct answers: 92/226, Val metric: 0.9069622406484719\n"
     ]
    },
    {
     "name": "stderr",
     "output_type": "stream",
     "text": [
      "\n",
      "671it [04:06,  2.73it/s]\n",
      "  1%|          | 2/226 [00:00<00:16, 13.61it/s]"
     ]
    },
    {
     "name": "stdout",
     "output_type": "stream",
     "text": [
      "Epoch 21 training end. LR: 0.0009755527298894334, Loss: 1.5730583506973597, Correct answers: 7959/10749/train_metric:0.9039246199556621\n"
     ]
    },
    {
     "name": "stderr",
     "output_type": "stream",
     "text": [
      "100%|██████████| 226/226 [00:16<00:00, 14.05it/s]"
     ]
    },
    {
     "name": "stdout",
     "output_type": "stream",
     "text": [
      "Epoch 21 validation end. LR: 0.0009755527298894334, Loss: 1.1916679302148059, Correct answers: 86/226, Val metric: 0.9208547588852513\n"
     ]
    },
    {
     "name": "stderr",
     "output_type": "stream",
     "text": [
      "\n",
      "671it [03:59,  2.80it/s]\n",
      "  1%|          | 2/226 [00:00<00:16, 13.62it/s]"
     ]
    },
    {
     "name": "stdout",
     "output_type": "stream",
     "text": [
      "Epoch 22 training end. LR: 0.0009046039886902904, Loss: 1.488713128600497, Correct answers: 8051/10749/train_metric:0.9096470415646475\n"
     ]
    },
    {
     "name": "stderr",
     "output_type": "stream",
     "text": [
      "100%|██████████| 226/226 [00:16<00:00, 14.05it/s]"
     ]
    },
    {
     "name": "stdout",
     "output_type": "stream",
     "text": [
      "Epoch 22 validation end. LR: 0.0009046039886902904, Loss: 1.146503125671792, Correct answers: 116/226, Val metric: 0.913165927187236\n"
     ]
    },
    {
     "name": "stderr",
     "output_type": "stream",
     "text": [
      "\n",
      "671it [04:01,  2.78it/s]\n",
      "  1%|          | 2/226 [00:00<00:17, 12.57it/s]"
     ]
    },
    {
     "name": "stdout",
     "output_type": "stream",
     "text": [
      "Epoch 23 training end. LR: 0.0007940987335200938, Loss: 1.3067975091996384, Correct answers: 8166/10749/train_metric:0.9188884184720366\n"
     ]
    },
    {
     "name": "stderr",
     "output_type": "stream",
     "text": [
      "100%|██████████| 226/226 [00:16<00:00, 14.04it/s]"
     ]
    },
    {
     "name": "stdout",
     "output_type": "stream",
     "text": [
      "Epoch 23 validation end. LR: 0.0007940987335200938, Loss: 1.2622221655550256, Correct answers: 102/226, Val metric: 0.9018045511518964\n"
     ]
    },
    {
     "name": "stderr",
     "output_type": "stream",
     "text": [
      "\n",
      "671it [04:01,  2.78it/s]\n",
      "  1%|          | 2/226 [00:00<00:16, 13.74it/s]"
     ]
    },
    {
     "name": "stdout",
     "output_type": "stream",
     "text": [
      "Epoch 24 training end. LR: 0.0006548539886902891, Loss: 1.186164699883468, Correct answers: 8299/10749/train_metric:0.9253288610528461\n"
     ]
    },
    {
     "name": "stderr",
     "output_type": "stream",
     "text": [
      "100%|██████████| 226/226 [00:16<00:00, 14.05it/s]"
     ]
    },
    {
     "name": "stdout",
     "output_type": "stream",
     "text": [
      "Epoch 24 validation end. LR: 0.0006548539886902891, Loss: 1.0614744836250238, Correct answers: 95/226, Val metric: 0.9285407404270936\n"
     ]
    },
    {
     "name": "stderr",
     "output_type": "stream",
     "text": [
      "\n",
      "671it [04:00,  2.79it/s]\n",
      "  1%|          | 2/226 [00:00<00:16, 13.73it/s]"
     ]
    },
    {
     "name": "stdout",
     "output_type": "stream",
     "text": [
      "Epoch 25 training end. LR: 0.0005005000000000021, Loss: 1.0600534567134747, Correct answers: 8327/10749/train_metric:0.9329051280263808\n"
     ]
    },
    {
     "name": "stderr",
     "output_type": "stream",
     "text": [
      "100%|██████████| 226/226 [00:16<00:00, 14.05it/s]"
     ]
    },
    {
     "name": "stdout",
     "output_type": "stream",
     "text": [
      "Epoch 25 validation end. LR: 0.0005005000000000021, Loss: 1.0571668316832685, Correct answers: 105/226, Val metric: 0.9371514617774772\n"
     ]
    },
    {
     "name": "stderr",
     "output_type": "stream",
     "text": [
      "\n",
      "671it [04:01,  2.78it/s]\n",
      "  1%|          | 2/226 [00:00<00:16, 13.74it/s]"
     ]
    },
    {
     "name": "stdout",
     "output_type": "stream",
     "text": [
      "Epoch 26 training end. LR: 0.00034614601130971535, Loss: 0.9508659726594493, Correct answers: 8393/10749/train_metric:0.9388183520366588\n"
     ]
    },
    {
     "name": "stderr",
     "output_type": "stream",
     "text": [
      "100%|██████████| 226/226 [00:16<00:00, 14.06it/s]"
     ]
    },
    {
     "name": "stdout",
     "output_type": "stream",
     "text": [
      "Epoch 26 validation end. LR: 0.00034614601130971535, Loss: 1.0355157472391043, Correct answers: 95/226, Val metric: 0.9378199185278834\n"
     ]
    },
    {
     "name": "stderr",
     "output_type": "stream",
     "text": [
      "\n",
      "671it [04:02,  2.76it/s]\n",
      "  1%|          | 2/226 [00:00<00:16, 13.72it/s]"
     ]
    },
    {
     "name": "stdout",
     "output_type": "stream",
     "text": [
      "Epoch 27 training end. LR: 0.00020690126647991062, Loss: 0.8355614858528185, Correct answers: 8492/10749/train_metric:0.9455516128331907\n"
     ]
    },
    {
     "name": "stderr",
     "output_type": "stream",
     "text": [
      "100%|██████████| 226/226 [00:16<00:00, 14.06it/s]"
     ]
    },
    {
     "name": "stdout",
     "output_type": "stream",
     "text": [
      "Epoch 27 validation end. LR: 0.00020690126647991062, Loss: 1.0056030518185777, Correct answers: 104/226, Val metric: 0.9383079352685029\n"
     ]
    },
    {
     "name": "stderr",
     "output_type": "stream",
     "text": [
      "\n",
      "671it [03:59,  2.81it/s]\n",
      "  1%|          | 2/226 [00:00<00:16, 13.72it/s]"
     ]
    },
    {
     "name": "stdout",
     "output_type": "stream",
     "text": [
      "Epoch 28 training end. LR: 9.639601130971425e-05, Loss: 0.7450289755237973, Correct answers: 8480/10749/train_metric:0.950014849281342\n"
     ]
    },
    {
     "name": "stderr",
     "output_type": "stream",
     "text": [
      "100%|██████████| 226/226 [00:16<00:00, 14.05it/s]\n"
     ]
    },
    {
     "name": "stdout",
     "output_type": "stream",
     "text": [
      "Epoch 28 validation end. LR: 9.639601130971425e-05, Loss: 1.017029566047466, Correct answers: 100/226, Val metric: 0.9443107668608367\n",
      "Saving new best model at epoch \n"
     ]
    },
    {
     "name": "stderr",
     "output_type": "stream",
     "text": [
      "671it [04:04,  2.74it/s]\n",
      "  1%|          | 2/226 [00:00<00:16, 13.74it/s]"
     ]
    },
    {
     "name": "stdout",
     "output_type": "stream",
     "text": [
      "Epoch 29 training end. LR: 2.5447270110570967e-05, Loss: 0.6769779278839843, Correct answers: 8618/10749/train_metric:0.9541007980943208\n"
     ]
    },
    {
     "name": "stderr",
     "output_type": "stream",
     "text": [
      "100%|██████████| 226/226 [00:16<00:00, 14.06it/s]"
     ]
    },
    {
     "name": "stdout",
     "output_type": "stream",
     "text": [
      "Epoch 29 validation end. LR: 2.5447270110570967e-05, Loss: 1.018809725752974, Correct answers: 104/226, Val metric: 0.9414756126371172\n"
     ]
    },
    {
     "name": "stderr",
     "output_type": "stream",
     "text": [
      "\n",
      "671it [04:04,  2.74it/s]\n",
      "  1%|          | 2/226 [00:00<00:16, 13.74it/s]"
     ]
    },
    {
     "name": "stdout",
     "output_type": "stream",
     "text": [
      "Epoch 30 training end. LR: 1e-06, Loss: 0.6691738104311702, Correct answers: 8685/10749/train_metric:0.9534800614563294\n"
     ]
    },
    {
     "name": "stderr",
     "output_type": "stream",
     "text": [
      "100%|██████████| 226/226 [00:16<00:00, 13.82it/s]"
     ]
    },
    {
     "name": "stdout",
     "output_type": "stream",
     "text": [
      "Epoch 30 validation end. LR: 1e-06, Loss: 1.010844036541154, Correct answers: 102/226, Val metric: 0.9415996577169143\n"
     ]
    },
    {
     "name": "stderr",
     "output_type": "stream",
     "text": [
      "\n",
      "671it [03:59,  2.80it/s]\n",
      "  1%|          | 2/226 [00:00<00:16, 13.73it/s]"
     ]
    },
    {
     "name": "stdout",
     "output_type": "stream",
     "text": [
      "Epoch 31 training end. LR: 2.5447270110570814e-05, Loss: 0.6515323915775594, Correct answers: 8642/10749/train_metric:0.9538240331864045\n"
     ]
    },
    {
     "name": "stderr",
     "output_type": "stream",
     "text": [
      "100%|██████████| 226/226 [00:16<00:00, 14.03it/s]"
     ]
    },
    {
     "name": "stdout",
     "output_type": "stream",
     "text": [
      "Epoch 31 validation end. LR: 2.5447270110570814e-05, Loss: 1.0059179816625814, Correct answers: 97/226, Val metric: 0.940301267265054\n"
     ]
    },
    {
     "name": "stderr",
     "output_type": "stream",
     "text": [
      "\n",
      "671it [04:06,  2.73it/s]\n",
      "  1%|          | 2/226 [00:00<00:16, 13.73it/s]"
     ]
    },
    {
     "name": "stdout",
     "output_type": "stream",
     "text": [
      "Epoch 32 training end. LR: 9.639601130971386e-05, Loss: 0.70096441983466, Correct answers: 8601/10749/train_metric:0.9522988699850569\n"
     ]
    },
    {
     "name": "stderr",
     "output_type": "stream",
     "text": [
      "100%|██████████| 226/226 [00:16<00:00, 14.04it/s]\n"
     ]
    },
    {
     "name": "stdout",
     "output_type": "stream",
     "text": [
      "Epoch 32 validation end. LR: 9.639601130971386e-05, Loss: 1.0148637273670298, Correct answers: 104/226, Val metric: 0.9461347845861121\n",
      "Saving new best model at epoch \n",
      "Starting training loop for 4 fold\n"
     ]
    },
    {
     "name": "stderr",
     "output_type": "stream",
     "text": [
      "681it [04:12,  2.70it/s]\n",
      "  1%|          | 2/226 [00:00<00:16, 13.77it/s]"
     ]
    },
    {
     "name": "stdout",
     "output_type": "stream",
     "text": [
      "Epoch 0 training end. LR: 0.001, Loss: 5.106236969321835, Correct answers: 4511/10898/train_metric:0.5915781677253179\n"
     ]
    },
    {
     "name": "stderr",
     "output_type": "stream",
     "text": [
      "100%|██████████| 226/226 [00:23<00:00,  9.56it/s]\n"
     ]
    },
    {
     "name": "stdout",
     "output_type": "stream",
     "text": [
      "Epoch 0 validation end. LR: 0.001, Loss: 2.21923484949939, Correct answers: 94/226, Val metric: 0.7903210541858829\n",
      "Saving new best model at epoch \n"
     ]
    },
    {
     "name": "stderr",
     "output_type": "stream",
     "text": [
      "681it [04:11,  2.71it/s]\n",
      "  1%|          | 2/226 [00:00<00:16, 13.79it/s]"
     ]
    },
    {
     "name": "stdout",
     "output_type": "stream",
     "text": [
      "Epoch 1 training end. LR: 0.0009755527298894294, Loss: 3.3312407373156665, Correct answers: 6587/10898/train_metric:0.7863578387747319\n"
     ]
    },
    {
     "name": "stderr",
     "output_type": "stream",
     "text": [
      "100%|██████████| 226/226 [00:16<00:00, 14.05it/s]\n"
     ]
    },
    {
     "name": "stdout",
     "output_type": "stream",
     "text": [
      "Epoch 1 validation end. LR: 0.0009755527298894294, Loss: 1.7298456419885686, Correct answers: 106/226, Val metric: 0.853635237216671\n",
      "Saving new best model at epoch \n"
     ]
    },
    {
     "name": "stderr",
     "output_type": "stream",
     "text": [
      "681it [04:03,  2.80it/s]\n",
      "  1%|          | 2/226 [00:00<00:16, 13.80it/s]"
     ]
    },
    {
     "name": "stdout",
     "output_type": "stream",
     "text": [
      "Epoch 2 training end. LR: 0.0009046039886902864, Loss: 2.7608721621236088, Correct answers: 7167/10898/train_metric:0.8340141176915433\n"
     ]
    },
    {
     "name": "stderr",
     "output_type": "stream",
     "text": [
      "100%|██████████| 226/226 [00:16<00:00, 14.05it/s]\n"
     ]
    },
    {
     "name": "stdout",
     "output_type": "stream",
     "text": [
      "Epoch 2 validation end. LR: 0.0009046039886902864, Loss: 1.5477520659961532, Correct answers: 91/226, Val metric: 0.8696998616684073\n",
      "Saving new best model at epoch \n"
     ]
    },
    {
     "name": "stderr",
     "output_type": "stream",
     "text": [
      "681it [03:59,  2.84it/s]\n",
      "  1%|          | 2/226 [00:00<00:16, 13.77it/s]"
     ]
    },
    {
     "name": "stdout",
     "output_type": "stream",
     "text": [
      "Epoch 3 training end. LR: 0.0007940987335200905, Loss: 2.405250141098986, Correct answers: 7479/10898/train_metric:0.8615220980531779\n"
     ]
    },
    {
     "name": "stderr",
     "output_type": "stream",
     "text": [
      "100%|██████████| 226/226 [00:16<00:00, 13.55it/s]\n"
     ]
    },
    {
     "name": "stdout",
     "output_type": "stream",
     "text": [
      "Epoch 3 validation end. LR: 0.0007940987335200905, Loss: 1.5216142867518738, Correct answers: 103/226, Val metric: 0.8912595172772162\n",
      "Saving new best model at epoch \n"
     ]
    },
    {
     "name": "stderr",
     "output_type": "stream",
     "text": [
      "681it [04:00,  2.83it/s]\n",
      "  1%|          | 2/226 [00:00<00:16, 13.78it/s]"
     ]
    },
    {
     "name": "stdout",
     "output_type": "stream",
     "text": [
      "Epoch 4 training end. LR: 0.0006548539886902864, Loss: 2.0868956407261314, Correct answers: 7762/10898/train_metric:0.8792802380331101\n"
     ]
    },
    {
     "name": "stderr",
     "output_type": "stream",
     "text": [
      "100%|██████████| 226/226 [00:16<00:00, 14.07it/s]"
     ]
    },
    {
     "name": "stdout",
     "output_type": "stream",
     "text": [
      "Epoch 4 validation end. LR: 0.0006548539886902864, Loss: 1.5073975166388318, Correct answers: 89/226, Val metric: 0.8800830038577309\n"
     ]
    },
    {
     "name": "stderr",
     "output_type": "stream",
     "text": [
      "\n",
      "681it [04:06,  2.76it/s]\n",
      "  1%|          | 2/226 [00:00<00:16, 13.20it/s]"
     ]
    },
    {
     "name": "stdout",
     "output_type": "stream",
     "text": [
      "Epoch 5 training end. LR: 0.0005005000000000001, Loss: 1.8135468858279145, Correct answers: 7935/10898/train_metric:0.8931614899507906\n"
     ]
    },
    {
     "name": "stderr",
     "output_type": "stream",
     "text": [
      "100%|██████████| 226/226 [00:16<00:00, 14.05it/s]"
     ]
    },
    {
     "name": "stdout",
     "output_type": "stream",
     "text": [
      "Epoch 5 validation end. LR: 0.0005005000000000001, Loss: 1.428078520614489, Correct answers: 77/226, Val metric: 0.885111301455138\n"
     ]
    },
    {
     "name": "stderr",
     "output_type": "stream",
     "text": [
      "\n",
      "681it [03:58,  2.86it/s]\n",
      "  1%|          | 2/226 [00:00<00:16, 13.81it/s]"
     ]
    },
    {
     "name": "stdout",
     "output_type": "stream",
     "text": [
      "Epoch 6 training end. LR: 0.0003461460113097139, Loss: 1.589566902485888, Correct answers: 8104/10898/train_metric:0.9074775443015816\n"
     ]
    },
    {
     "name": "stderr",
     "output_type": "stream",
     "text": [
      "100%|██████████| 226/226 [00:16<00:00, 14.02it/s]\n"
     ]
    },
    {
     "name": "stdout",
     "output_type": "stream",
     "text": [
      "Epoch 6 validation end. LR: 0.0003461460113097139, Loss: 1.2804736078312966, Correct answers: 98/226, Val metric: 0.9133222640097453\n",
      "Saving new best model at epoch \n"
     ]
    },
    {
     "name": "stderr",
     "output_type": "stream",
     "text": [
      "681it [04:06,  2.76it/s]\n",
      "  1%|          | 2/226 [00:00<00:16, 13.80it/s]"
     ]
    },
    {
     "name": "stdout",
     "output_type": "stream",
     "text": [
      "Epoch 7 training end. LR: 0.00020690126647990976, Loss: 1.3498670456167885, Correct answers: 8237/10898/train_metric:0.9194868502588712\n"
     ]
    },
    {
     "name": "stderr",
     "output_type": "stream",
     "text": [
      "100%|██████████| 226/226 [00:16<00:00, 14.06it/s]\n"
     ]
    },
    {
     "name": "stdout",
     "output_type": "stream",
     "text": [
      "Epoch 7 validation end. LR: 0.00020690126647990976, Loss: 1.22754144879569, Correct answers: 96/226, Val metric: 0.9210814885704267\n",
      "Saving new best model at epoch \n"
     ]
    },
    {
     "name": "stderr",
     "output_type": "stream",
     "text": [
      "681it [04:02,  2.81it/s]\n",
      "  1%|          | 2/226 [00:00<00:16, 13.79it/s]"
     ]
    },
    {
     "name": "stdout",
     "output_type": "stream",
     "text": [
      "Epoch 8 training end. LR: 9.639601130971382e-05, Loss: 1.203344696243779, Correct answers: 8338/10898/train_metric:0.9268253018885422\n"
     ]
    },
    {
     "name": "stderr",
     "output_type": "stream",
     "text": [
      "100%|██████████| 226/226 [00:16<00:00, 14.06it/s]\n"
     ]
    },
    {
     "name": "stdout",
     "output_type": "stream",
     "text": [
      "Epoch 8 validation end. LR: 9.639601130971382e-05, Loss: 1.131678916711723, Correct answers: 94/226, Val metric: 0.9317690703990299\n",
      "Saving new best model at epoch \n"
     ]
    },
    {
     "name": "stderr",
     "output_type": "stream",
     "text": [
      "681it [04:04,  2.79it/s]\n",
      "  1%|          | 2/226 [00:00<00:16, 13.82it/s]"
     ]
    },
    {
     "name": "stdout",
     "output_type": "stream",
     "text": [
      "Epoch 9 training end. LR: 2.5447270110570814e-05, Loss: 1.0907685385576604, Correct answers: 8417/10898/train_metric:0.9331278360453921\n"
     ]
    },
    {
     "name": "stderr",
     "output_type": "stream",
     "text": [
      "100%|██████████| 226/226 [00:16<00:00, 14.01it/s]\n"
     ]
    },
    {
     "name": "stdout",
     "output_type": "stream",
     "text": [
      "Epoch 9 validation end. LR: 2.5447270110570814e-05, Loss: 1.0743215780342574, Correct answers: 99/226, Val metric: 0.9369353044458854\n",
      "Saving new best model at epoch \n"
     ]
    },
    {
     "name": "stderr",
     "output_type": "stream",
     "text": [
      "681it [04:03,  2.80it/s]\n",
      "  1%|          | 2/226 [00:00<00:17, 12.81it/s]"
     ]
    },
    {
     "name": "stdout",
     "output_type": "stream",
     "text": [
      "Epoch 10 training end. LR: 1e-06, Loss: 1.0575059347522067, Correct answers: 8426/10898/train_metric:0.9354651818037754\n"
     ]
    },
    {
     "name": "stderr",
     "output_type": "stream",
     "text": [
      "100%|██████████| 226/226 [00:16<00:00, 14.06it/s]"
     ]
    },
    {
     "name": "stdout",
     "output_type": "stream",
     "text": [
      "Epoch 10 validation end. LR: 1e-06, Loss: 1.0741395612733553, Correct answers: 99/226, Val metric: 0.934481528795688\n"
     ]
    },
    {
     "name": "stderr",
     "output_type": "stream",
     "text": [
      "\n",
      "681it [04:05,  2.77it/s]\n",
      "  1%|          | 2/226 [00:00<00:16, 13.77it/s]"
     ]
    },
    {
     "name": "stdout",
     "output_type": "stream",
     "text": [
      "Epoch 11 training end. LR: 2.5447270110570814e-05, Loss: 1.0576803796266845, Correct answers: 8408/10898/train_metric:0.9360526147737821\n"
     ]
    },
    {
     "name": "stderr",
     "output_type": "stream",
     "text": [
      "100%|██████████| 226/226 [00:16<00:00, 14.07it/s]\n"
     ]
    },
    {
     "name": "stdout",
     "output_type": "stream",
     "text": [
      "Epoch 11 validation end. LR: 2.5447270110570814e-05, Loss: 1.0624973942748213, Correct answers: 101/226, Val metric: 0.9403412971001467\n",
      "Saving new best model at epoch \n"
     ]
    },
    {
     "name": "stderr",
     "output_type": "stream",
     "text": [
      "681it [04:04,  2.79it/s]\n",
      "  1%|          | 2/226 [00:00<00:16, 13.79it/s]"
     ]
    },
    {
     "name": "stdout",
     "output_type": "stream",
     "text": [
      "Epoch 12 training end. LR: 9.639601130971413e-05, Loss: 1.0904384815789179, Correct answers: 8455/10898/train_metric:0.9337333721537296\n"
     ]
    },
    {
     "name": "stderr",
     "output_type": "stream",
     "text": [
      "100%|██████████| 226/226 [00:16<00:00, 14.06it/s]"
     ]
    },
    {
     "name": "stdout",
     "output_type": "stream",
     "text": [
      "Epoch 12 validation end. LR: 9.639601130971413e-05, Loss: 1.1520790336406337, Correct answers: 88/226, Val metric: 0.9322376494669227\n"
     ]
    },
    {
     "name": "stderr",
     "output_type": "stream",
     "text": [
      "\n",
      "681it [04:05,  2.77it/s]\n",
      "  1%|          | 2/226 [00:00<00:16, 13.82it/s]"
     ]
    },
    {
     "name": "stdout",
     "output_type": "stream",
     "text": [
      "Epoch 13 training end. LR: 0.00020690126647991054, Loss: 1.235103805816121, Correct answers: 8310/10898/train_metric:0.9242627688968241\n"
     ]
    },
    {
     "name": "stderr",
     "output_type": "stream",
     "text": [
      "100%|██████████| 226/226 [00:16<00:00, 14.07it/s]"
     ]
    },
    {
     "name": "stdout",
     "output_type": "stream",
     "text": [
      "Epoch 13 validation end. LR: 0.00020690126647991054, Loss: 1.2730571717287587, Correct answers: 103/226, Val metric: 0.9151350572615543\n"
     ]
    },
    {
     "name": "stderr",
     "output_type": "stream",
     "text": [
      "\n",
      "681it [04:03,  2.80it/s]\n",
      "  1%|          | 2/226 [00:00<00:16, 13.83it/s]"
     ]
    },
    {
     "name": "stdout",
     "output_type": "stream",
     "text": [
      "Epoch 14 training end. LR: 0.0003461460113097153, Loss: 1.3827123066927367, Correct answers: 8173/10898/train_metric:0.9185524473941473\n"
     ]
    },
    {
     "name": "stderr",
     "output_type": "stream",
     "text": [
      "100%|██████████| 226/226 [00:16<00:00, 14.07it/s]"
     ]
    },
    {
     "name": "stdout",
     "output_type": "stream",
     "text": [
      "Epoch 14 validation end. LR: 0.0003461460113097153, Loss: 1.2053385856932244, Correct answers: 95/226, Val metric: 0.9216711897359312\n"
     ]
    },
    {
     "name": "stderr",
     "output_type": "stream",
     "text": [
      "\n",
      "681it [04:00,  2.84it/s]\n",
      "  1%|          | 2/226 [00:00<00:16, 13.68it/s]"
     ]
    },
    {
     "name": "stdout",
     "output_type": "stream",
     "text": [
      "Epoch 15 training end. LR: 0.0005005000000000021, Loss: 1.5973967918346632, Correct answers: 8036/10898/train_metric:0.9043987198270945\n"
     ]
    },
    {
     "name": "stderr",
     "output_type": "stream",
     "text": [
      "100%|██████████| 226/226 [00:16<00:00, 14.06it/s]"
     ]
    },
    {
     "name": "stdout",
     "output_type": "stream",
     "text": [
      "Epoch 15 validation end. LR: 0.0005005000000000021, Loss: 1.2471536914859198, Correct answers: 99/226, Val metric: 0.922765357148491\n"
     ]
    },
    {
     "name": "stderr",
     "output_type": "stream",
     "text": [
      "\n",
      "681it [04:04,  2.79it/s]\n",
      "  1%|          | 2/226 [00:00<00:16, 13.82it/s]"
     ]
    },
    {
     "name": "stdout",
     "output_type": "stream",
     "text": [
      "Epoch 16 training end. LR: 0.0006548539886902891, Loss: 1.6824699757120158, Correct answers: 8062/10898/train_metric:0.9040672304185873\n"
     ]
    },
    {
     "name": "stderr",
     "output_type": "stream",
     "text": [
      "100%|██████████| 226/226 [00:16<00:00, 14.04it/s]"
     ]
    },
    {
     "name": "stdout",
     "output_type": "stream",
     "text": [
      "Epoch 16 validation end. LR: 0.0006548539886902891, Loss: 1.1490644353680906, Correct answers: 92/226, Val metric: 0.9190458867065756\n"
     ]
    },
    {
     "name": "stderr",
     "output_type": "stream",
     "text": [
      "\n",
      "681it [04:04,  2.79it/s]\n",
      "  1%|          | 2/226 [00:00<00:16, 13.81it/s]"
     ]
    },
    {
     "name": "stdout",
     "output_type": "stream",
     "text": [
      "Epoch 17 training end. LR: 0.0007940987335200938, Loss: 1.7718991603970353, Correct answers: 7927/10898/train_metric:0.8990564872543498\n"
     ]
    },
    {
     "name": "stderr",
     "output_type": "stream",
     "text": [
      "100%|██████████| 226/226 [00:16<00:00, 14.06it/s]"
     ]
    },
    {
     "name": "stdout",
     "output_type": "stream",
     "text": [
      "Epoch 17 validation end. LR: 0.0007940987335200938, Loss: 1.3327827073831473, Correct answers: 94/226, Val metric: 0.9109399634289012\n"
     ]
    },
    {
     "name": "stderr",
     "output_type": "stream",
     "text": [
      "\n",
      "681it [04:07,  2.75it/s]\n",
      "  1%|          | 2/226 [00:00<00:16, 13.79it/s]"
     ]
    },
    {
     "name": "stdout",
     "output_type": "stream",
     "text": [
      "Epoch 18 training end. LR: 0.0009046039886902903, Loss: 1.7629061711954825, Correct answers: 7915/10898/train_metric:0.8954453352811783\n"
     ]
    },
    {
     "name": "stderr",
     "output_type": "stream",
     "text": [
      "100%|██████████| 226/226 [00:16<00:00, 14.07it/s]"
     ]
    },
    {
     "name": "stdout",
     "output_type": "stream",
     "text": [
      "Epoch 18 validation end. LR: 0.0009046039886902903, Loss: 1.4249988593886385, Correct answers: 111/226, Val metric: 0.8800175035852731\n"
     ]
    },
    {
     "name": "stderr",
     "output_type": "stream",
     "text": [
      "\n",
      "681it [03:54,  2.90it/s]\n",
      "  1%|          | 2/226 [00:00<00:16, 13.82it/s]"
     ]
    },
    {
     "name": "stdout",
     "output_type": "stream",
     "text": [
      "Epoch 19 training end. LR: 0.0009755527298894335, Loss: 1.7327559171531695, Correct answers: 8002/10898/train_metric:0.8991947241759053\n"
     ]
    },
    {
     "name": "stderr",
     "output_type": "stream",
     "text": [
      "100%|██████████| 226/226 [00:16<00:00, 14.07it/s]"
     ]
    },
    {
     "name": "stdout",
     "output_type": "stream",
     "text": [
      "Epoch 19 validation end. LR: 0.0009755527298894335, Loss: 1.3503407018374554, Correct answers: 78/226, Val metric: 0.907331153359914\n"
     ]
    },
    {
     "name": "stderr",
     "output_type": "stream",
     "text": [
      "\n",
      "681it [04:05,  2.78it/s]\n",
      "  1%|          | 2/226 [00:00<00:16, 13.83it/s]"
     ]
    },
    {
     "name": "stdout",
     "output_type": "stream",
     "text": [
      "Epoch 20 training end. LR: 0.0010000000000000041, Loss: 1.678723194044242, Correct answers: 8020/10898/train_metric:0.9033911183779626\n"
     ]
    },
    {
     "name": "stderr",
     "output_type": "stream",
     "text": [
      "100%|██████████| 226/226 [00:16<00:00, 14.06it/s]"
     ]
    },
    {
     "name": "stdout",
     "output_type": "stream",
     "text": [
      "Epoch 20 validation end. LR: 0.0010000000000000041, Loss: 1.4252730597436956, Correct answers: 88/226, Val metric: 0.8972882054851081\n"
     ]
    },
    {
     "name": "stderr",
     "output_type": "stream",
     "text": [
      "\n",
      "681it [03:58,  2.85it/s]\n",
      "  1%|          | 2/226 [00:00<00:16, 13.83it/s]"
     ]
    },
    {
     "name": "stdout",
     "output_type": "stream",
     "text": [
      "Epoch 21 training end. LR: 0.0009755527298894334, Loss: 1.6167407818740336, Correct answers: 8020/10898/train_metric:0.9048624382965692\n"
     ]
    },
    {
     "name": "stderr",
     "output_type": "stream",
     "text": [
      "100%|██████████| 226/226 [00:16<00:00, 14.06it/s]"
     ]
    },
    {
     "name": "stdout",
     "output_type": "stream",
     "text": [
      "Epoch 21 validation end. LR: 0.0009755527298894334, Loss: 1.466684130440771, Correct answers: 109/226, Val metric: 0.8959728240759909\n"
     ]
    },
    {
     "name": "stderr",
     "output_type": "stream",
     "text": [
      "\n",
      "681it [04:06,  2.77it/s]\n",
      "  1%|          | 2/226 [00:00<00:16, 13.82it/s]"
     ]
    },
    {
     "name": "stdout",
     "output_type": "stream",
     "text": [
      "Epoch 22 training end. LR: 0.0009046039886902904, Loss: 1.495545984496104, Correct answers: 8080/10898/train_metric:0.9111011855382973\n"
     ]
    },
    {
     "name": "stderr",
     "output_type": "stream",
     "text": [
      "100%|██████████| 226/226 [00:16<00:00, 14.07it/s]"
     ]
    },
    {
     "name": "stdout",
     "output_type": "stream",
     "text": [
      "Epoch 22 validation end. LR: 0.0009046039886902904, Loss: 1.3761609191388156, Correct answers: 89/226, Val metric: 0.8936407861207841\n"
     ]
    },
    {
     "name": "stderr",
     "output_type": "stream",
     "text": [
      "\n",
      "681it [04:02,  2.80it/s]\n",
      "  1%|          | 2/226 [00:00<00:16, 13.81it/s]"
     ]
    },
    {
     "name": "stdout",
     "output_type": "stream",
     "text": [
      "Epoch 23 training end. LR: 0.0007940987335200938, Loss: 1.3902137242093486, Correct answers: 8108/10898/train_metric:0.915277618307022\n"
     ]
    },
    {
     "name": "stderr",
     "output_type": "stream",
     "text": [
      "100%|██████████| 226/226 [00:16<00:00, 14.04it/s]"
     ]
    },
    {
     "name": "stdout",
     "output_type": "stream",
     "text": [
      "Epoch 23 validation end. LR: 0.0007940987335200938, Loss: 1.2835219940253064, Correct answers: 101/226, Val metric: 0.9114962548032958\n"
     ]
    },
    {
     "name": "stderr",
     "output_type": "stream",
     "text": [
      "\n",
      "681it [04:04,  2.78it/s]\n",
      "  1%|          | 2/226 [00:00<00:16, 13.83it/s]"
     ]
    },
    {
     "name": "stdout",
     "output_type": "stream",
     "text": [
      "Epoch 24 training end. LR: 0.0006548539886902891, Loss: 1.2375545167581625, Correct answers: 8333/10898/train_metric:0.925680680137825\n"
     ]
    },
    {
     "name": "stderr",
     "output_type": "stream",
     "text": [
      "100%|██████████| 226/226 [00:16<00:00, 14.07it/s]"
     ]
    },
    {
     "name": "stdout",
     "output_type": "stream",
     "text": [
      "Epoch 24 validation end. LR: 0.0006548539886902891, Loss: 1.1888685416331333, Correct answers: 95/226, Val metric: 0.9294142444716762\n"
     ]
    },
    {
     "name": "stderr",
     "output_type": "stream",
     "text": [
      "\n",
      "681it [04:09,  2.73it/s]\n",
      "  1%|          | 2/226 [00:00<00:16, 13.80it/s]"
     ]
    },
    {
     "name": "stdout",
     "output_type": "stream",
     "text": [
      "Epoch 25 training end. LR: 0.0005005000000000021, Loss: 1.1142037849813131, Correct answers: 8376/10898/train_metric:0.9294642193101372\n"
     ]
    },
    {
     "name": "stderr",
     "output_type": "stream",
     "text": [
      "100%|██████████| 226/226 [00:16<00:00, 14.08it/s]"
     ]
    },
    {
     "name": "stdout",
     "output_type": "stream",
     "text": [
      "Epoch 25 validation end. LR: 0.0005005000000000021, Loss: 1.3814796705161576, Correct answers: 102/226, Val metric: 0.9130232169502083\n"
     ]
    },
    {
     "name": "stderr",
     "output_type": "stream",
     "text": [
      "\n",
      "681it [04:00,  2.84it/s]\n",
      "  1%|          | 2/226 [00:00<00:16, 13.82it/s]"
     ]
    },
    {
     "name": "stdout",
     "output_type": "stream",
     "text": [
      "Epoch 26 training end. LR: 0.00034614601130971535, Loss: 0.9802051243015323, Correct answers: 8463/10898/train_metric:0.9383560734645484\n"
     ]
    },
    {
     "name": "stderr",
     "output_type": "stream",
     "text": [
      "100%|██████████| 226/226 [00:16<00:00, 14.06it/s]"
     ]
    },
    {
     "name": "stdout",
     "output_type": "stream",
     "text": [
      "Epoch 26 validation end. LR: 0.00034614601130971535, Loss: 1.2565688707132254, Correct answers: 89/226, Val metric: 0.9255894832280486\n"
     ]
    },
    {
     "name": "stderr",
     "output_type": "stream",
     "text": [
      "\n",
      "681it [04:03,  2.79it/s]\n",
      "  1%|          | 2/226 [00:00<00:16, 13.82it/s]"
     ]
    },
    {
     "name": "stdout",
     "output_type": "stream",
     "text": [
      "Epoch 27 training end. LR: 0.00020690126647991062, Loss: 0.8582825415525668, Correct answers: 8522/10898/train_metric:0.9440478192205712\n"
     ]
    },
    {
     "name": "stderr",
     "output_type": "stream",
     "text": [
      "100%|██████████| 226/226 [00:16<00:00, 14.06it/s]"
     ]
    },
    {
     "name": "stdout",
     "output_type": "stream",
     "text": [
      "Epoch 27 validation end. LR: 0.00020690126647991062, Loss: 1.2081098303330684, Correct answers: 98/226, Val metric: 0.9392739621995218\n"
     ]
    },
    {
     "name": "stderr",
     "output_type": "stream",
     "text": [
      "\n",
      "681it [04:00,  2.83it/s]\n",
      "  1%|          | 2/226 [00:00<00:16, 13.81it/s]"
     ]
    },
    {
     "name": "stdout",
     "output_type": "stream",
     "text": [
      "Epoch 28 training end. LR: 9.639601130971425e-05, Loss: 0.7739600841442832, Correct answers: 8658/10898/train_metric:0.9515620320825702\n"
     ]
    },
    {
     "name": "stderr",
     "output_type": "stream",
     "text": [
      "100%|██████████| 226/226 [00:16<00:00, 14.07it/s]"
     ]
    },
    {
     "name": "stdout",
     "output_type": "stream",
     "text": [
      "Epoch 28 validation end. LR: 9.639601130971425e-05, Loss: 1.2461272003376378, Correct answers: 99/226, Val metric: 0.9373514040907326\n"
     ]
    },
    {
     "name": "stderr",
     "output_type": "stream",
     "text": [
      "\n",
      "681it [04:04,  2.78it/s]\n",
      "  1%|          | 2/226 [00:00<00:16, 13.81it/s]"
     ]
    },
    {
     "name": "stdout",
     "output_type": "stream",
     "text": [
      "Epoch 29 training end. LR: 2.5447270110570967e-05, Loss: 0.7333493924558863, Correct answers: 8660/10898/train_metric:0.9523752933497828\n"
     ]
    },
    {
     "name": "stderr",
     "output_type": "stream",
     "text": [
      "100%|██████████| 226/226 [00:16<00:00, 14.06it/s]"
     ]
    },
    {
     "name": "stdout",
     "output_type": "stream",
     "text": [
      "Epoch 29 validation end. LR: 2.5447270110570967e-05, Loss: 1.2257105017130354, Correct answers: 106/226, Val metric: 0.9338553052159246\n"
     ]
    },
    {
     "name": "stderr",
     "output_type": "stream",
     "text": [
      "\n",
      "681it [03:57,  2.86it/s]\n",
      "  1%|          | 2/226 [00:00<00:16, 13.84it/s]"
     ]
    },
    {
     "name": "stdout",
     "output_type": "stream",
     "text": [
      "Epoch 30 training end. LR: 1e-06, Loss: 0.7127866479684428, Correct answers: 8678/10898/train_metric:0.9542361630451838\n"
     ]
    },
    {
     "name": "stderr",
     "output_type": "stream",
     "text": [
      "100%|██████████| 226/226 [00:16<00:00, 14.03it/s]"
     ]
    },
    {
     "name": "stdout",
     "output_type": "stream",
     "text": [
      "Epoch 30 validation end. LR: 1e-06, Loss: 1.2295861771676393, Correct answers: 102/226, Val metric: 0.9343146090154554\n"
     ]
    },
    {
     "name": "stderr",
     "output_type": "stream",
     "text": [
      "\n",
      "681it [04:00,  2.83it/s]\n",
      "  1%|          | 2/226 [00:00<00:18, 11.96it/s]"
     ]
    },
    {
     "name": "stdout",
     "output_type": "stream",
     "text": [
      "Epoch 31 training end. LR: 2.5447270110570814e-05, Loss: 0.6937553452959669, Correct answers: 8647/10898/train_metric:0.9520342862770856\n"
     ]
    },
    {
     "name": "stderr",
     "output_type": "stream",
     "text": [
      "100%|██████████| 226/226 [00:16<00:00, 14.03it/s]"
     ]
    },
    {
     "name": "stdout",
     "output_type": "stream",
     "text": [
      "Epoch 31 validation end. LR: 2.5447270110570814e-05, Loss: 1.2398114837376417, Correct answers: 98/226, Val metric: 0.9363580854505245\n"
     ]
    },
    {
     "name": "stderr",
     "output_type": "stream",
     "text": [
      "\n",
      "681it [04:00,  2.83it/s]\n",
      "  1%|          | 2/226 [00:00<00:16, 13.80it/s]"
     ]
    },
    {
     "name": "stdout",
     "output_type": "stream",
     "text": [
      "Epoch 32 training end. LR: 9.639601130971386e-05, Loss: 0.7333526600168665, Correct answers: 8638/10898/train_metric:0.9520209698255199\n"
     ]
    },
    {
     "name": "stderr",
     "output_type": "stream",
     "text": [
      "100%|██████████| 226/226 [00:16<00:00, 13.96it/s]\n"
     ]
    },
    {
     "name": "stdout",
     "output_type": "stream",
     "text": [
      "Epoch 32 validation end. LR: 9.639601130971386e-05, Loss: 1.176467846980137, Correct answers: 100/226, Val metric: 0.9428809655459325\n",
      "Saving new best model at epoch \n"
     ]
    }
   ],
   "source": [
    "folds = [1,2,3,4]\n",
    "for fold in folds:\n",
    "    model = AudioSEDModel(**model_param)\n",
    "    optimizer = torch.optim.AdamW(model.parameters(), lr=Config.LR_ADAM, weight_decay = 0.01)# momentum = 0.9)\n",
    "    scheduler =torch.optim.lr_scheduler.CosineAnnealingLR(optimizer, T_max=10, eta_min=1e-6)\n",
    "    if torch.cuda.is_available():\n",
    "        model = model.cuda()\n",
    "    \n",
    "    pseudo_test_samples = pseudo_test_new.sample(n=200, random_state=fold)\n",
    "    pseudo_fp_samples = pseudo_fp_new.sample(n=2000, random_state=fold)\n",
    "    #pseudo_fp_samples[\"fold\"] = 5\n",
    "    pseudo_test_samples[\"fold\"] = 5\n",
    "    pseudo_fp_samples[\"fold\"] = 5\n",
    "    pseudo = pd.concat([pseudo_tp_new, pseudo_test_samples, pseudo_fp_samples], ignore_index=True)\n",
    "    X_train = pseudo[(pseudo['fold'] != fold)].reset_index(drop=True)\n",
    "    X_val = pseudo[pseudo['fold'] == fold].reset_index(drop=True)   \n",
    "    X_train = X_train[['recording_id', 'species_id', 'songtype_id', 't_min', 'f_min', 't_max', \"f_max\", \"is_pseudo\", \"fold\"]]\n",
    "    X_train[\"label\"] = 1\n",
    "    X_train = X_train.fillna(value=1)\n",
    "    X_train.loc[X_train.is_pseudo == 1, \"label\"] = 0.9   \n",
    "    train_dataset = RainforestDataset(X_train, audio_transforms=audio_transform_train, image_transforms=None)\n",
    "    train_loader = DataLoader(train_dataset, batch_size=Config.BATCH_SIZE, shuffle=True, num_workers = Config.NUM_WORKERS, drop_last = True)\n",
    "    best_corrects = 0\n",
    "    files_ids = copy.deepcopy(X_val.recording_id.unique())\n",
    "    mixup=False\n",
    "    # Train loop\n",
    "    print(f'Starting training loop for {fold} fold')\n",
    "    for e in range(0, 33):\n",
    "        # Stats\n",
    "        train_loss = []\n",
    "        train_corr = []\n",
    "        train_metrics = []\n",
    "\n",
    "        # Single epoch - train\n",
    "        model.train()\n",
    "        for batch, (data, target) in tqdm(enumerate(train_loader)):\n",
    "            data = data.float()\n",
    "            if mixup:\n",
    "                mixup_lambda = torch.tensor(mixup_augmenter.get_lambda(len(data)))\n",
    "                target = do_mixup(target, mixup_lambda)\n",
    "            if torch.cuda.is_available():\n",
    "                data, target = data.cuda(), target.cuda()\n",
    "                if mixup:\n",
    "                    mixup_lambda =  mixup_lambda.cuda()  \n",
    "            optimizer.zero_grad()\n",
    "            if mixup:\n",
    "                output = model(data, mixup_lambda )\n",
    "            else:\n",
    "                output = model(data)\n",
    "            label_smoothing_list = [0.02, 0.015, 0.01]\n",
    "            label_smoothing = random.choice(label_smoothing_list) \n",
    "            targets_smooth = target * (1 - label_smoothing) + 0.5 * label_smoothing\n",
    "\n",
    "            loss = lsep_loss(output, targets_smooth)\n",
    "            framewise_output = output[\"framewise_logit\"]\n",
    "            clipwise_output_with_max, _ = framewise_output.max(dim=1)\n",
    "            train_metric = lwlrap(target.cpu().detach().numpy(), clipwise_output_with_max.cpu().detach().numpy())\n",
    "            train_metrics.append(train_metric.item())\n",
    "\n",
    "            loss.backward()\n",
    "            optimizer.step()\n",
    "            vals, answers = torch.max(output[\"clipwise_output\"], 1)\n",
    "            vals, targets = torch.max(target, 1)\n",
    "            corrects = 0\n",
    "            for i in range(0, len(answers)):\n",
    "                if answers[i] == targets[i]:\n",
    "                    corrects = corrects + 1\n",
    "            train_corr.append(corrects)\n",
    "            train_loss.append(loss.item())\n",
    "            train_epoch_metric = sum(train_metrics) / len(train_loss)\n",
    "\n",
    "        # Stats\n",
    "        for g in optimizer.param_groups:\n",
    "            lr = g['lr']\n",
    "        print('Epoch ' + str(e) + ' training end. LR: ' + str(lr) + ', Loss: ' + str(sum(train_loss) / len(train_loss)) +\n",
    "              ', Correct answers: ' + str(sum(train_corr)) + '/' + str(train_dataset.__len__()) + '/train_metric:' + str(train_epoch_metric))\n",
    "\n",
    "        with torch.no_grad():\n",
    "                    # Stats\n",
    "            val_loss, val_corr, valid_epoch_metric = validate(model, files_ids, X_val)\n",
    "        # Stats\n",
    "        print('Epoch ' + str(e) + ' validation end. LR: ' + str(lr) + ', Loss: ' + str(sum(val_loss) / len(val_loss)) +\n",
    "              ', Correct answers: ' + str(sum(val_corr)) + '/' + str(len(files_ids)) + \", Val metric: \" + str(valid_epoch_metric))\n",
    "\n",
    "        if valid_epoch_metric > best_corrects:\n",
    "            print('Saving new best model at epoch ') #+ str(e) + ' ' + str(sum(val_corr)) + '/' + str(len(files_ids)))\n",
    "            torch.save(model.state_dict(), f'best_model_dense_301_fold{fold}.pt')\n",
    "            best_corrects = valid_epoch_metric\n",
    "            \n",
    "        scheduler.step()"
   ]
  },
  {
   "cell_type": "code",
   "execution_count": 12,
   "metadata": {},
   "outputs": [],
   "source": [
    "torch.save(model.state_dict(), 'best_model_mobilenet_375_fold4.pt')"
   ]
  },
  {
   "cell_type": "code",
   "execution_count": 18,
   "metadata": {},
   "outputs": [
    {
     "name": "stderr",
     "output_type": "stream",
     "text": [
      "100%|██████████| 226/226 [00:16<00:00, 13.47it/s]"
     ]
    },
    {
     "name": "stdout",
     "output_type": "stream",
     "text": [
      "Loss: 3.2887108969477428, Correct answers: 99/226, Val metric: 0.9482691696956796\n"
     ]
    },
    {
     "name": "stderr",
     "output_type": "stream",
     "text": [
      "\n"
     ]
    }
   ],
   "source": [
    "pseudo_fp_samples = pseudo_fp_last.sample(n=2000, random_state=3)\n",
    "pseudo_fp_samples[\"fold\"] = 5\n",
    "pseudo = pd.concat([pseudo_tp_last, pseudo_fp_samples], ignore_index=True)\n",
    "X_val = pseudo[pseudo['fold'] == 3].reset_index(drop=True)  \n",
    "model = AudioSEDModel(**model_param)\n",
    "model.load_state_dict(torch.load(\"best_model_mobilenet_375_fold3.pt\"))\n",
    "files_ids = X_val.recording_id.unique()\n",
    "model.cuda()\n",
    "with torch.no_grad():\n",
    "                # Stats\n",
    "        answers_list =  []\n",
    "        targets_list = []\n",
    "        val_loss = []\n",
    "        val_corr = []\n",
    "        val_metrics = []\n",
    "        model.eval()\n",
    "        for i in tqdm(range(0, len(files_ids))):\n",
    "            data, target = load_val_file(files_ids[i], X_val)\n",
    "            data, target = torch.tensor(data), torch.tensor(target)\n",
    "            data = data.float()\n",
    "            if torch.cuda.is_available():\n",
    "                data, target = data.cuda(), target.cuda().unsqueeze(0)\n",
    "            output = model(data)\n",
    "            #output = output.squeeze()\n",
    "            framewise_output = output[\"framewise_output\"]\n",
    "            output, _ = framewise_output.max(dim=1) \n",
    "            output, _ = torch.max(output, 0)\n",
    "            #output, _ = torch.max(output[\"clipwise_output\"], 0)\n",
    "            output = output.unsqueeze(0)\n",
    "            #print(output.shape)\n",
    "            loss = lsep_loss_stable(output, target)\n",
    "            val_metric = lwlrap(target.cpu().numpy(), output.cpu().numpy())\n",
    "            vals, answers = torch.max(output, 1)\n",
    "            vals, targets = torch.max(target, 1)\n",
    "            answers_list.append(answers.item())\n",
    "            targets_list.append(targets.item())\n",
    "            val_metrics.append(val_metric.item())\n",
    "            corrects = 0\n",
    "            for i in range(0, len(answers)):\n",
    "                if answers[i] == targets[i]:\n",
    "                    corrects = corrects + 1\n",
    "            val_corr.append(corrects)\n",
    "            val_loss.append(loss.item())\n",
    "\n",
    "    \n",
    "valid_epoch_metric = sum(val_metrics) / len(val_loss)\n",
    "# Stats\n",
    "print('Loss: ' + str(sum(val_loss) / len(val_loss)) +\n",
    "      ', Correct answers: ' + str(sum(val_corr)) + '/' + str(len(files_ids)) + \", Val metric: \" + str(valid_epoch_metric))\n",
    "\n"
   ]
  },
  {
   "cell_type": "code",
   "execution_count": 12,
   "metadata": {},
   "outputs": [
    {
     "ename": "NameError",
     "evalue": "name 'answers_list' is not defined",
     "output_type": "error",
     "traceback": [
      "\u001b[0;31m---------------------------------------------------------------------------\u001b[0m",
      "\u001b[0;31mNameError\u001b[0m                                 Traceback (most recent call last)",
      "\u001b[0;32m<ipython-input-12-1e28c0d013ce>\u001b[0m in \u001b[0;36m<module>\u001b[0;34m\u001b[0m\n\u001b[1;32m      1\u001b[0m \u001b[0merrors\u001b[0m \u001b[0;34m=\u001b[0m \u001b[0;34m[\u001b[0m\u001b[0;34m]\u001b[0m\u001b[0;34m\u001b[0m\u001b[0;34m\u001b[0m\u001b[0m\n\u001b[0;32m----> 2\u001b[0;31m \u001b[0;32mfor\u001b[0m \u001b[0mi\u001b[0m \u001b[0;32min\u001b[0m \u001b[0mrange\u001b[0m\u001b[0;34m(\u001b[0m\u001b[0mlen\u001b[0m\u001b[0;34m(\u001b[0m\u001b[0manswers_list\u001b[0m\u001b[0;34m)\u001b[0m\u001b[0;34m)\u001b[0m\u001b[0;34m:\u001b[0m\u001b[0;34m\u001b[0m\u001b[0;34m\u001b[0m\u001b[0m\n\u001b[0m\u001b[1;32m      3\u001b[0m     \u001b[0;32mif\u001b[0m \u001b[0manswers_list\u001b[0m\u001b[0;34m[\u001b[0m\u001b[0mi\u001b[0m\u001b[0;34m]\u001b[0m \u001b[0;34m!=\u001b[0m \u001b[0mtargets_list\u001b[0m\u001b[0;34m[\u001b[0m\u001b[0mi\u001b[0m\u001b[0;34m]\u001b[0m\u001b[0;34m:\u001b[0m\u001b[0;34m\u001b[0m\u001b[0;34m\u001b[0m\u001b[0m\n\u001b[1;32m      4\u001b[0m         \u001b[0merrors\u001b[0m\u001b[0;34m.\u001b[0m\u001b[0mappend\u001b[0m\u001b[0;34m(\u001b[0m\u001b[0mtargets_list\u001b[0m\u001b[0;34m[\u001b[0m\u001b[0mi\u001b[0m\u001b[0;34m]\u001b[0m\u001b[0;34m)\u001b[0m\u001b[0;34m\u001b[0m\u001b[0;34m\u001b[0m\u001b[0m\n\u001b[1;32m      5\u001b[0m \u001b[0;34m\u001b[0m\u001b[0m\n",
      "\u001b[0;31mNameError\u001b[0m: name 'answers_list' is not defined"
     ]
    }
   ],
   "source": [
    "errors = []\n",
    "for i in range(len(answers_list)):\n",
    "    if answers_list[i] != targets_list[i]:\n",
    "        errors.append(targets_list[i])\n",
    "        \n",
    "from collections import Counter\n",
    "error_count = sorted(Counter(errors).items(),key = lambda i: i[0])\n",
    "target_count = sorted(Counter(targets_list).items(),key = lambda i: i[0])\n",
    "print(error_count, target_count, sep = \"\\n\")\n"
   ]
  },
  {
   "cell_type": "code",
   "execution_count": 19,
   "metadata": {
    "papermill": {
     "duration": 0.995151,
     "end_time": "2020-12-20T18:27:34.774887",
     "exception": false,
     "start_time": "2020-12-20T18:27:33.779736",
     "status": "completed"
    },
    "tags": []
   },
   "outputs": [],
   "source": [
    "# Already defined above; for reference\n",
    "fft = 2048\n",
    "hop = 512 * 1\n",
    "# Less rounding errors this way\n",
    "sr = 48000\n",
    "length =  10 * sr\n",
    "fmin = 84\n",
    "fmax = 15056\n",
    "\n",
    "\n",
    "def load_test_file(f): \n",
    "    wav, sr = librosa.load('../data/train/' + f, sr=None)\n",
    "\n",
    "        # Split for enough segments to not miss anything\n",
    "    segments = len(wav) / length\n",
    "    segments = int(np.ceil(segments))\n",
    "    \n",
    "    mel_array = []\n",
    "    \n",
    "    for i in range(0, segments):\n",
    "        # Last segment going from the end\n",
    "        if (i + 1) * length > len(wav):\n",
    "            wav_slice = wav[len(wav) - length:len(wav)]\n",
    "        else:\n",
    "            wav_slice = wav[i * length:(i + 1) * length]\n",
    "        #new_sample_rate = 24000\n",
    "        #wav_slice = librosa.resample(slice, Config.SR, new_sample_rate)\n",
    "        #wav_slice = np.expand_dims(wav_slice, axis=0).astype(np.float32) \n",
    "        wav_slice = wav_slice.astype(np.float32) \n",
    "        mel_array.append(wav_slice)\n",
    "    \n",
    "    return np.array(mel_array)"
   ]
  },
  {
   "cell_type": "code",
   "execution_count": 21,
   "metadata": {},
   "outputs": [],
   "source": [
    "model = AudioSEDModel(**model_param)\n",
    "model.load_state_dict(torch.load(f\"best_model_0_pseudo_resnet50.pt\"))\n",
    "\n",
    "model.cuda()\n",
    "model.eval()\n",
    "PERIOD = 10\n",
    "global_time = 0.0\n",
    "threshold = 0.1\n",
    "estimated_event_list = []\n",
    "\n",
    "test_files = train_files\n",
    "\n",
    "for i in range(0, len(test_files)):\n",
    "    global_time = 0.0\n",
    "    data = load_test_file(test_files[i])\n",
    "    file_id = str.split(test_files[i], '.')[0]\n",
    "    for part in data:\n",
    "    \n",
    "        part = torch.tensor(part).unsqueeze(0)\n",
    "        part = part.float()\n",
    "        if torch.cuda.is_available():\n",
    "            part = part.cuda()\n",
    "\n",
    "        output = model(part)\n",
    "\n",
    "        framewise_outputs = output[\"framewise_output\"].detach().cpu().numpy()[0]\n",
    "\n",
    "        thresholded = framewise_outputs >= threshold\n",
    "\n",
    "        #print(thresholded)\n",
    "        #print(thresholded.shape)\n",
    "\n",
    "        for target_idx in range(thresholded.shape[1]):\n",
    "            if thresholded[:, target_idx].mean() == 0:\n",
    "                pass\n",
    "            else:\n",
    "                detected = np.argwhere(thresholded[:, target_idx]).reshape(-1)\n",
    "                head_idx = 0\n",
    "                tail_idx = 0\n",
    "                while True:\n",
    "                    if (tail_idx + 1 == len(detected)) or (detected[tail_idx + 1] - detected[tail_idx] != 1):\n",
    "                        onset = 0.01 * detected[head_idx] + global_time\n",
    "                        offset = 0.01 * detected[tail_idx] + global_time\n",
    "                        onset_idx = detected[head_idx]\n",
    "                        offset_idx = detected[tail_idx]\n",
    "                        max_confidence = framewise_outputs[onset_idx:offset_idx, target_idx].max()\n",
    "                        mean_confidence = framewise_outputs[onset_idx:offset_idx, target_idx].mean()\n",
    "                        estimated_event = {\n",
    "                            \"file_id\": file_id,\n",
    "                            \"species_id\": target_idx,\n",
    "                            \"onset\": onset,\n",
    "                            \"offset\": offset,\n",
    "                            \"max_confidence\": max_confidence,\n",
    "                            \"mean_confidence\": mean_confidence\n",
    "                        }\n",
    "                        estimated_event_list.append(estimated_event)\n",
    "                        head_idx = tail_idx + 1\n",
    "                        tail_idx = tail_idx + 1\n",
    "                        if head_idx >= len(detected):\n",
    "                            break\n",
    "                    else:\n",
    "                        tail_idx += 1\n",
    "\n",
    "        global_time += PERIOD\n",
    "\n",
    "prediction_df = pd.DataFrame(estimated_event_list)"
   ]
  },
  {
   "cell_type": "code",
   "execution_count": 22,
   "metadata": {},
   "outputs": [
    {
     "data": {
      "text/plain": [
       "4718"
      ]
     },
     "execution_count": 22,
     "metadata": {},
     "output_type": "execute_result"
    }
   ],
   "source": [
    "len(prediction_df.file_id.unique())"
   ]
  },
  {
   "cell_type": "code",
   "execution_count": 23,
   "metadata": {},
   "outputs": [],
   "source": [
    "prediction_df.to_csv(\"pseudolabels_raw_sed_train.csv\", index=False)"
   ]
  },
  {
   "cell_type": "code",
   "execution_count": 34,
   "metadata": {},
   "outputs": [],
   "source": [
    "submission = pd.DataFrame(columns=['recording_id','s0','s1','s2','s3','s4','s5','s6','s7','s8','s9','s10','s11',\n",
    "                               's12','s13','s14','s15','s16','s17','s18','s19','s20','s21','s22','s23'])"
   ]
  },
  {
   "cell_type": "code",
   "execution_count": 37,
   "metadata": {},
   "outputs": [],
   "source": [
    "prediction_df = pd.read_csv(\"pseudolabels_raw_sed.csv\")"
   ]
  },
  {
   "cell_type": "code",
   "execution_count": 38,
   "metadata": {},
   "outputs": [
    {
     "data": {
      "text/plain": [
       "1992"
      ]
     },
     "execution_count": 38,
     "metadata": {},
     "output_type": "execute_result"
    }
   ],
   "source": [
    "len(prediction_df.file_id.unique())"
   ]
  },
  {
   "cell_type": "code",
   "execution_count": 39,
   "metadata": {},
   "outputs": [],
   "source": [
    "#prediction_df = pd.read_csv(\"pseudolabels_raw_fold1.csv\")\n",
    "for file_id, sub_df in prediction_df.groupby(\"file_id\"):\n",
    "    events = sub_df[[\"file_id\", \"species_id\", \"onset\", \"offset\", \"max_confidence\", ]]\n",
    "    sub_row = []\n",
    "    recording_id = events.file_id.unique()[0]\n",
    "    sub_row.append(recording_id)\n",
    "    unique = events.species_id.unique()\n",
    "    label_array = np.zeros(24, dtype=np.float32)\n",
    "    for i in unique:\n",
    "        pred_proba = events[events.species_id==i].max_confidence.max()\n",
    "\n",
    "        label_array[int(i)] = pred_proba \n",
    "    sub_row.extend(list(label_array))\n",
    "    sub_series = pd.Series(sub_row, index = submission.columns)\n",
    "    submission = submission.append(sub_series, ignore_index=True)\n",
    "\n"
   ]
  },
  {
   "cell_type": "code",
   "execution_count": 40,
   "metadata": {},
   "outputs": [
    {
     "data": {
      "text/plain": [
       "(1992, 25)"
      ]
     },
     "execution_count": 40,
     "metadata": {},
     "output_type": "execute_result"
    }
   ],
   "source": [
    "submission.shape"
   ]
  },
  {
   "cell_type": "code",
   "execution_count": 41,
   "metadata": {},
   "outputs": [],
   "source": [
    "submission.to_csv(\"test_submission_from_frames.csv\", index=False )"
   ]
  },
  {
   "cell_type": "code",
   "execution_count": null,
   "metadata": {},
   "outputs": [],
   "source": []
  }
 ],
 "metadata": {
  "kernelspec": {
   "display_name": "Python 3",
   "language": "python",
   "name": "python3"
  },
  "language_info": {
   "codemirror_mode": {
    "name": "ipython",
    "version": 3
   },
   "file_extension": ".py",
   "mimetype": "text/x-python",
   "name": "python",
   "nbconvert_exporter": "python",
   "pygments_lexer": "ipython3",
   "version": "3.6.12"
  },
  "papermill": {
   "duration": 1833.679699,
   "end_time": "2020-12-20T18:44:03.770668",
   "environment_variables": {},
   "exception": null,
   "input_path": "__notebook__.ipynb",
   "output_path": "__notebook__.ipynb",
   "parameters": {},
   "start_time": "2020-12-20T18:13:30.090969",
   "version": "2.1.0"
  },
  "widgets": {
   "application/vnd.jupyter.widget-state+json": {
    "state": {
     "0f15442e94a44248b50672c2777030c9": {
      "model_module": "@jupyter-widgets/controls",
      "model_module_version": "1.5.0",
      "model_name": "DescriptionStyleModel",
      "state": {
       "_model_module": "@jupyter-widgets/controls",
       "_model_module_version": "1.5.0",
       "_model_name": "DescriptionStyleModel",
       "_view_count": null,
       "_view_module": "@jupyter-widgets/base",
       "_view_module_version": "1.2.0",
       "_view_name": "StyleView",
       "description_width": ""
      }
     },
     "4c435759345342aebeb8f5670af57f75": {
      "model_module": "@jupyter-widgets/controls",
      "model_module_version": "1.5.0",
      "model_name": "HTMLModel",
      "state": {
       "_dom_classes": [],
       "_model_module": "@jupyter-widgets/controls",
       "_model_module_version": "1.5.0",
       "_model_name": "HTMLModel",
       "_view_count": null,
       "_view_module": "@jupyter-widgets/controls",
       "_view_module_version": "1.5.0",
       "_view_name": "HTMLView",
       "description": "",
       "description_tooltip": null,
       "layout": "IPY_MODEL_e56ad2e6997c43d695706f19b3c85f92",
       "placeholder": "​",
       "style": "IPY_MODEL_0f15442e94a44248b50672c2777030c9",
       "value": " 105M/105M [00:05&lt;00:00, 22.0MB/s]"
      }
     },
     "8b8ab01ab9604583ae4dbf53f3058ecf": {
      "model_module": "@jupyter-widgets/controls",
      "model_module_version": "1.5.0",
      "model_name": "FloatProgressModel",
      "state": {
       "_dom_classes": [],
       "_model_module": "@jupyter-widgets/controls",
       "_model_module_version": "1.5.0",
       "_model_name": "FloatProgressModel",
       "_view_count": null,
       "_view_module": "@jupyter-widgets/controls",
       "_view_module_version": "1.5.0",
       "_view_name": "ProgressView",
       "bar_style": "success",
       "description": "100%",
       "description_tooltip": null,
       "layout": "IPY_MODEL_e0f16c2b57ec45a0a100f1e728ab3d50",
       "max": 110273258,
       "min": 0,
       "orientation": "horizontal",
       "style": "IPY_MODEL_98b001f4de7143579e81c44054c3e04c",
       "value": 110273258
      }
     },
     "98b001f4de7143579e81c44054c3e04c": {
      "model_module": "@jupyter-widgets/controls",
      "model_module_version": "1.5.0",
      "model_name": "ProgressStyleModel",
      "state": {
       "_model_module": "@jupyter-widgets/controls",
       "_model_module_version": "1.5.0",
       "_model_name": "ProgressStyleModel",
       "_view_count": null,
       "_view_module": "@jupyter-widgets/base",
       "_view_module_version": "1.2.0",
       "_view_name": "StyleView",
       "bar_color": null,
       "description_width": "initial"
      }
     },
     "c71fd161194b4e9d8f6df0c22ddc66c2": {
      "model_module": "@jupyter-widgets/base",
      "model_module_version": "1.2.0",
      "model_name": "LayoutModel",
      "state": {
       "_model_module": "@jupyter-widgets/base",
       "_model_module_version": "1.2.0",
       "_model_name": "LayoutModel",
       "_view_count": null,
       "_view_module": "@jupyter-widgets/base",
       "_view_module_version": "1.2.0",
       "_view_name": "LayoutView",
       "align_content": null,
       "align_items": null,
       "align_self": null,
       "border": null,
       "bottom": null,
       "display": null,
       "flex": null,
       "flex_flow": null,
       "grid_area": null,
       "grid_auto_columns": null,
       "grid_auto_flow": null,
       "grid_auto_rows": null,
       "grid_column": null,
       "grid_gap": null,
       "grid_row": null,
       "grid_template_areas": null,
       "grid_template_columns": null,
       "grid_template_rows": null,
       "height": null,
       "justify_content": null,
       "justify_items": null,
       "left": null,
       "margin": null,
       "max_height": null,
       "max_width": null,
       "min_height": null,
       "min_width": null,
       "object_fit": null,
       "object_position": null,
       "order": null,
       "overflow": null,
       "overflow_x": null,
       "overflow_y": null,
       "padding": null,
       "right": null,
       "top": null,
       "visibility": null,
       "width": null
      }
     },
     "e0f16c2b57ec45a0a100f1e728ab3d50": {
      "model_module": "@jupyter-widgets/base",
      "model_module_version": "1.2.0",
      "model_name": "LayoutModel",
      "state": {
       "_model_module": "@jupyter-widgets/base",
       "_model_module_version": "1.2.0",
       "_model_name": "LayoutModel",
       "_view_count": null,
       "_view_module": "@jupyter-widgets/base",
       "_view_module_version": "1.2.0",
       "_view_name": "LayoutView",
       "align_content": null,
       "align_items": null,
       "align_self": null,
       "border": null,
       "bottom": null,
       "display": null,
       "flex": null,
       "flex_flow": null,
       "grid_area": null,
       "grid_auto_columns": null,
       "grid_auto_flow": null,
       "grid_auto_rows": null,
       "grid_column": null,
       "grid_gap": null,
       "grid_row": null,
       "grid_template_areas": null,
       "grid_template_columns": null,
       "grid_template_rows": null,
       "height": null,
       "justify_content": null,
       "justify_items": null,
       "left": null,
       "margin": null,
       "max_height": null,
       "max_width": null,
       "min_height": null,
       "min_width": null,
       "object_fit": null,
       "object_position": null,
       "order": null,
       "overflow": null,
       "overflow_x": null,
       "overflow_y": null,
       "padding": null,
       "right": null,
       "top": null,
       "visibility": null,
       "width": null
      }
     },
     "e56ad2e6997c43d695706f19b3c85f92": {
      "model_module": "@jupyter-widgets/base",
      "model_module_version": "1.2.0",
      "model_name": "LayoutModel",
      "state": {
       "_model_module": "@jupyter-widgets/base",
       "_model_module_version": "1.2.0",
       "_model_name": "LayoutModel",
       "_view_count": null,
       "_view_module": "@jupyter-widgets/base",
       "_view_module_version": "1.2.0",
       "_view_name": "LayoutView",
       "align_content": null,
       "align_items": null,
       "align_self": null,
       "border": null,
       "bottom": null,
       "display": null,
       "flex": null,
       "flex_flow": null,
       "grid_area": null,
       "grid_auto_columns": null,
       "grid_auto_flow": null,
       "grid_auto_rows": null,
       "grid_column": null,
       "grid_gap": null,
       "grid_row": null,
       "grid_template_areas": null,
       "grid_template_columns": null,
       "grid_template_rows": null,
       "height": null,
       "justify_content": null,
       "justify_items": null,
       "left": null,
       "margin": null,
       "max_height": null,
       "max_width": null,
       "min_height": null,
       "min_width": null,
       "object_fit": null,
       "object_position": null,
       "order": null,
       "overflow": null,
       "overflow_x": null,
       "overflow_y": null,
       "padding": null,
       "right": null,
       "top": null,
       "visibility": null,
       "width": null
      }
     },
     "ff6567e773d44b348f8b0ef7a4cf61e9": {
      "model_module": "@jupyter-widgets/controls",
      "model_module_version": "1.5.0",
      "model_name": "HBoxModel",
      "state": {
       "_dom_classes": [],
       "_model_module": "@jupyter-widgets/controls",
       "_model_module_version": "1.5.0",
       "_model_name": "HBoxModel",
       "_view_count": null,
       "_view_module": "@jupyter-widgets/controls",
       "_view_module_version": "1.5.0",
       "_view_name": "HBoxView",
       "box_style": "",
       "children": [
        "IPY_MODEL_8b8ab01ab9604583ae4dbf53f3058ecf",
        "IPY_MODEL_4c435759345342aebeb8f5670af57f75"
       ],
       "layout": "IPY_MODEL_c71fd161194b4e9d8f6df0c22ddc66c2"
      }
     }
    },
    "version_major": 2,
    "version_minor": 0
   }
  }
 },
 "nbformat": 4,
 "nbformat_minor": 4
}
