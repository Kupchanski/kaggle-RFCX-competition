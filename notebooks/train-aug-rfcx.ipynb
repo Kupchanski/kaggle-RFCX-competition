{
 "cells": [
  {
   "cell_type": "code",
   "execution_count": 1,
   "metadata": {
    "_cell_guid": "b1076dfc-b9ad-4769-8c92-a6c4dae69d19",
    "_uuid": "8f2839f25d086af736a60e9eeb907d3b93b6e0e5",
    "papermill": {
     "duration": 5.863545,
     "end_time": "2020-12-20T18:13:59.855931",
     "exception": false,
     "start_time": "2020-12-20T18:13:53.992386",
     "status": "completed"
    },
    "tags": []
   },
   "outputs": [
    {
     "name": "stderr",
     "output_type": "stream",
     "text": [
      "/home/user/.local/lib/python3.6/site-packages/torchaudio/backend/utils.py:54: UserWarning: \"sox\" backend is being deprecated. The default backend will be changed to \"sox_io\" backend in 0.8.0 and \"sox\" backend will be removed in 0.9.0. Please migrate to \"sox_io\" backend. Please refer to https://github.com/pytorch/audio/issues/903 for the detail.\n",
      "  '\"sox\" backend is being deprecated. '\n"
     ]
    }
   ],
   "source": [
    "import os\n",
    "import cv2\n",
    "import csv\n",
    "import sys\n",
    "import copy\n",
    "from tqdm import tqdm\n",
    "import random\n",
    "import librosa\n",
    "import librosa.display\n",
    "import numpy as np \n",
    "import pandas as pd \n",
    "import torch\n",
    "import torch.nn as nn\n",
    "import torch.nn.functional as F\n",
    "from torch.utils.data import Dataset, DataLoader\n",
    "from sklearn.metrics import label_ranking_average_precision_score, accuracy_score\n",
    "import torchvision\n",
    "import torchaudio\n",
    "\n",
    "import matplotlib.pyplot as plt\n",
    "import IPython.display as ipd \n",
    "import skimage.io\n",
    "from skimage.transform import resize\n",
    "import albumentations as albu\n",
    "from albumentations import pytorch as AT\n",
    "from PIL import Image\n",
    "\n",
    "\n",
    "import pretrainedmodels\n",
    "from resnest.torch import resnest50\n",
    "import timm\n",
    "\n",
    "sys.path.append('../')\n",
    "\n",
    "import src.audio_augs as aa\n",
    "from src.utils import patch_first_conv\n",
    "from src.loss import lsep_loss_stable, lsep_loss\n",
    "from src.batch_mixer import BatchMixer\n",
    "from src.pann import *\n",
    "\n",
    "import warnings\n",
    "warnings.filterwarnings('ignore')\n"
   ]
  },
  {
   "cell_type": "code",
   "execution_count": 2,
   "metadata": {
    "_cell_guid": "79c7e3d0-c299-4dcb-8224-4455121ee9b0",
    "_uuid": "d629ff2d2480ee46fbb7e2d37f6b5fab8052498a",
    "papermill": {
     "duration": 0.37611,
     "end_time": "2020-12-20T18:14:00.248664",
     "exception": false,
     "start_time": "2020-12-20T18:13:59.872554",
     "status": "completed"
    },
    "tags": []
   },
   "outputs": [],
   "source": [
    "train_folder_path = \"../data/train/\"\n",
    "train_np_folder_path = \"../data/train_np/\"\n",
    "test_folder_path = \"../data/test/\"\n",
    "sample_submission = \"../data/sample_submission.csv\"\n",
    "train_tp_path = \"../data/train_tp.csv\"\n",
    "train_fp_path = \"../data/train_fp.csv\"\n",
    "train_tp_folds = pd.read_csv(\"../data/train_tp_folds_v3.csv\")\n",
    "train_fp_folds = pd.read_csv(\"train_fp_folds.csv\").drop(\"Unnamed: 0\", 1)\n",
    "\n",
    "train_files = os.listdir(train_folder_path)\n",
    "test_files = os.listdir(test_folder_path)\n",
    "\n",
    "train_tp = pd.read_csv(train_tp_path)\n",
    "train_fp = pd.read_csv(train_fp_path)\n",
    "\n",
    "_df = pd.read_csv(\"missing_3classes_extended.csv\")\n",
    "_df = _df.drop(columns=\"Unnamed: 0\")\n",
    "\n",
    "pseudo = pd.read_csv(\"pseudolabels_raw.csv\")\n",
    "pseudo_clear = pseudo[pseudo.mean_confidence > 0.99]"
   ]
  },
  {
   "cell_type": "code",
   "execution_count": 3,
   "metadata": {},
   "outputs": [],
   "source": [
    "pseudo_clear = pseudo_clear.rename(columns={\"offset\": \"t_max\", \"onset\": \"t_min\", \"file_id\": \"recording_id\", \"max_confidence\":\"f_min\", \"mean_confidence\": \"f_max\"})\n",
    "pseudo_clear[\"songtype_id\"] =1 \n",
    "pseudo_clear = pseudo_clear[['recording_id', 'species_id', 'songtype_id', 't_min', 'f_min', 't_max', \"f_max\"]]\n",
    "pseudo_clear = pseudo_clear[~(pseudo_clear.species_id == 12)]"
   ]
  },
  {
   "cell_type": "code",
   "execution_count": 4,
   "metadata": {},
   "outputs": [],
   "source": [
    "class Config:\n",
    "    SEED = 17\n",
    "    NUM_BIRDS = 24\n",
    "    BATCH_SIZE = 16\n",
    "    NUM_WORKERS = 8\n",
    "    IMG_H = 200\n",
    "    IMG_W = 600\n",
    "    FOLD = 0\n",
    "    TEST_FOLD = 5\n",
    "    \n",
    "    #optimizer params\n",
    "    LR = 0.01\n",
    "    LR_ADAM = 9e-4\n",
    "    WEIGHT_DECAY = 0.0001\n",
    "    MOMENTUM = 0.9\n",
    "    T_MAX = 8\n",
    "    \n",
    "    #scheduler params\n",
    "    FACTOR = 0.7\n",
    "    PATIENCE = 2\n",
    "    \n",
    "    #spec params\n",
    "    FFT = 2048\n",
    "    HOP = 512\n",
    "    MEL = 224\n",
    "    SR = 48000\n",
    "    Fmin = 84 \n",
    "    Fmax = 15056\n",
    "    LENGTH_1  = 10 * SR\n",
    "    LENGTH_2 = 5*SR\n",
    "    STRIDE = 5\n",
    "    #TODO: MAKE AUGS CONF"
   ]
  },
  {
   "cell_type": "code",
   "execution_count": 5,
   "metadata": {
    "papermill": {
     "duration": 0.030754,
     "end_time": "2020-12-20T18:14:00.693737",
     "exception": false,
     "start_time": "2020-12-20T18:14:00.662983",
     "status": "completed"
    },
    "tags": []
   },
   "outputs": [],
   "source": [
    "def seed_everything(seed):\n",
    "    random.seed(seed)\n",
    "    os.environ['PYTHONHASHSEED'] = str(seed)\n",
    "    np.random.seed(seed)\n",
    "    torch.manual_seed(seed)\n",
    "    torch.cuda.manual_seed(seed)\n",
    "    torch.backends.cudnn.deterministic = True\n",
    "    torch.backends.cudnn.benchmark = False\n",
    "\n",
    "seed_everything(Config.SEED)\n",
    "\n",
    "def wav2mel(wav, power):\n",
    "    mel_spec = librosa.feature.melspectrogram(wav, n_fft=Config.FFT, \n",
    "                                                  hop_length=Config.HOP, \n",
    "                                                  sr=Config.SR, \n",
    "                                                  fmin=Config.Fmin, \n",
    "                                                  fmax=Config.Fmax, \n",
    "                                                  power=power, n_mels=Config.MEL)\n",
    "    mel_spec = librosa.power_to_db(mel_spec, ref=np.max)\n",
    "    return mel_spec\n",
    "\n",
    "pcen_parameters = {   \n",
    "      \"gain\": 0.98,\n",
    "      \"bias\": 2,\n",
    "      \"power\": 0.5,\n",
    "      \"time_constant\": 0.4,\n",
    "      \"eps\": 0.000001 }\n",
    "\n",
    "def normalize_melspec(X: np.ndarray):\n",
    "    eps = 1e-6\n",
    "    mean = X.mean()\n",
    "    X = X - mean\n",
    "    std = X.std()\n",
    "    Xstd = X / (std + eps)\n",
    "    norm_min, norm_max = Xstd.min(), Xstd.max()\n",
    "    if (norm_max - norm_min) > eps:\n",
    "        V = Xstd\n",
    "        V[V < norm_min] = norm_min\n",
    "        V[V > norm_max] = norm_max\n",
    "        V = 255 * (V - norm_min) / (norm_max - norm_min)\n",
    "        V = V.astype(np.uint8)\n",
    "    else:\n",
    "        # Just zero\n",
    "        V = np.zeros_like(Xstd, dtype=np.uint8)\n",
    "    return V\n",
    "\n",
    "def crop_or_pad(y, is_train=True):\n",
    "    length = Config.LENGTH_1\n",
    "    if len(y) < length:\n",
    "        y = np.pad(y, length, \"minimum\")\n",
    "    elif len(y) > length:\n",
    "        if not is_train:\n",
    "            start = 0\n",
    "        else:\n",
    "            start = np.random.randint(len(y) - length)\n",
    "\n",
    "        y = y[start:start + length]\n",
    "\n",
    "    y = y.astype(np.float32, copy=False)\n",
    "\n",
    "    return y"
   ]
  },
  {
   "cell_type": "code",
   "execution_count": 6,
   "metadata": {
    "papermill": {
     "duration": 0.03189,
     "end_time": "2020-12-20T18:14:00.743201",
     "exception": false,
     "start_time": "2020-12-20T18:14:00.711311",
     "status": "completed"
    },
    "tags": []
   },
   "outputs": [],
   "source": [
    "class RainforestDataset(Dataset):\n",
    "    def __init__(self, df, audio_transforms = None, image_transforms = None,):\n",
    "        self.audio_transforms = audio_transforms\n",
    "        self.img_transforms = image_transforms\n",
    "        self.df = df\n",
    "\n",
    "    def __len__(self):\n",
    "        return len(self.df)\n",
    "    \n",
    "    def __getitem__(self, idx):\n",
    "        sample = copy.deepcopy(self.df.iloc[idx, :].values)\n",
    "\n",
    "        #bird_id = sample[1]\n",
    "        #label_array = np.zeros(Config.NUM_BIRDS, dtype=np.single)\n",
    "        #if sample[-1]:\n",
    "        #    label_array[bird_id] = 1.\n",
    "        try:\n",
    "            wav = np.load(train_np_folder_path + sample[0] + \".npy\")\n",
    "        except:\n",
    "            wav, sr = librosa.load('../data/test/' + sample[0] + \".flac\", sr=None)\n",
    "        tmin = float(sample[3]) * Config.SR\n",
    "        tmax = float(sample[5]) * Config.SR\n",
    "        center = np.round((tmin + tmax) / 2)   \n",
    "        beginning = center - Config.LENGTH_1 / 2\n",
    "        if beginning < 0:\n",
    "            beginning = 0\n",
    "            \n",
    "        beginning = np.random.randint( beginning , center)\n",
    "        ending = beginning + Config.LENGTH_1\n",
    "        if ending > len(wav):\n",
    "            ending = len(wav)\n",
    "            beginning = ending - Config.LENGTH_1 \n",
    "            \n",
    "        wav_slice = wav[int(beginning):int(ending)]\n",
    "        \n",
    "        beginning_time = beginning / Config.SR\n",
    "        ending_time = ending / Config.SR\n",
    "        recording_id = sample[0]\n",
    "        query_string = f\"recording_id == '{recording_id}' & \"\n",
    "        query_string += f\"t_min < {ending_time} & t_max > {beginning_time}\"\n",
    "        all_tp_events = self.df.query(query_string)\n",
    "\n",
    "        label_array = np.zeros(24, dtype=np.float32)\n",
    "        for species_id in all_tp_events[\"species_id\"].unique():\n",
    "            label_array[int(species_id)] = 1.0\n",
    "            if species_id == 12:\n",
    "                    label_array[3] = 0.99\n",
    "        \n",
    "        if self.audio_transforms: # and bird_id not in (3, 7, 8, 9):\n",
    "            wav_slice =  self.audio_transforms(wav_slice)\n",
    "\n",
    "        mel_spec = wav2mel(wav_slice, power=1)\n",
    "        mel_spec_power =  wav2mel(wav_slice, power=1.5)\n",
    "        pcen = librosa.pcen(mel_spec, **pcen_parameters)\n",
    "        #mel_spec = np.expand_dims(mel_spec, axis=2).astype(np.float32)\n",
    "        #print(np.max(mel_spec))\n",
    "        image = np.stack([normalize_melspec(mel_spec), normalize_melspec(pcen), normalize_melspec(mel_spec_power)], axis=-1).astype(np.float32)\n",
    "        \n",
    "        \n",
    "        if self.img_transforms:\n",
    "            image =  self.img_transforms(image=image)\n",
    "            mel_spec = image[\"image\"]\n",
    "        \n",
    "        return mel_spec, label_array"
   ]
  },
  {
   "cell_type": "code",
   "execution_count": 7,
   "metadata": {
    "papermill": {
     "duration": 0.190203,
     "end_time": "2020-12-20T18:14:00.950678",
     "exception": false,
     "start_time": "2020-12-20T18:14:00.760475",
     "status": "completed"
    },
    "tags": []
   },
   "outputs": [
    {
     "name": "stdout",
     "output_type": "stream",
     "text": [
      "Training on 1155 examples\n",
      "Validating on 218 examples\n"
     ]
    }
   ],
   "source": [
    "X_train = train_tp_folds[(train_tp_folds['fold'] != Config.FOLD)].reset_index(drop=True)\n",
    "X_val = train_tp_folds[train_tp_folds['fold'] == Config.FOLD].reset_index(drop=True)\n",
    "\n",
    "\n",
    "_df = _df[(_df.recording_id.isin(X_train.recording_id)) ]\n",
    "X_train = X_train[_df.columns]\n",
    "X_train = pd.concat([X_train, _df])\n",
    "\n",
    "add_pseudo = False\n",
    "if add_pseudo:\n",
    "    X_train = X_train[pseudo_clear.columns]\n",
    "    X_train = pd.concat([X_train, pseudo_clear])\n",
    "\n",
    "print('Training on ' + str(len(X_train)) + ' examples')\n",
    "print('Validating on ' + str(len(X_val)) + ' examples')"
   ]
  },
  {
   "cell_type": "code",
   "execution_count": 8,
   "metadata": {
    "papermill": {
     "duration": 0.031559,
     "end_time": "2020-12-20T18:14:01.049055",
     "exception": false,
     "start_time": "2020-12-20T18:14:01.017496",
     "status": "completed"
    },
    "tags": []
   },
   "outputs": [],
   "source": [
    "audio_transform_train = aa.Compose([\n",
    "  aa.OneOf([\n",
    "    aa.GaussianNoiseSNR(min_snr=5.0, max_snr=20.0),\n",
    "    aa.PinkNoiseSNR( min_snr=5.0, max_snr=20.0,)\n",
    "  ]),\n",
    "  #aa.PitchShift(max_steps=1.2, sr=Config.SR, p=0.3),\n",
    "  #aa.TimeStretch(max_rate=1.2, p=0.3),\n",
    "  aa.TimeShift(sr=Config.SR),\n",
    "  aa.VolumeControl(mode=\"sine\", p=0.5),  \n",
    "\n",
    "])\n",
    "\n",
    "image_transform_train = albu.Compose([albu.Resize(Config.IMG_H, Config.IMG_W), AT.ToTensorV2()])\n",
    "transform_val = albu.Compose([albu.Resize(Config.IMG_H, Config.IMG_W), AT.ToTensorV2()])"
   ]
  },
  {
   "cell_type": "code",
   "execution_count": 9,
   "metadata": {
    "jupyter": {
     "source_hidden": true
    }
   },
   "outputs": [],
   "source": [
    "from torch.nn import BCEWithLogitsLoss, CrossEntropyLoss\n",
    "\n",
    "class PANNsLoss(nn.Module):\n",
    "    def __init__(self):\n",
    "        super().__init__()\n",
    "\n",
    "        self.bce = nn.BCELoss()\n",
    "\n",
    "    def forward(self, input, target):\n",
    "        input_ = input[\"clipwise_output\"]\n",
    "        input_ = torch.where(torch.isnan(input_),\n",
    "                             torch.zeros_like(input_),\n",
    "                             input_)\n",
    "        input_ = torch.where(torch.isinf(input_),\n",
    "                             torch.zeros_like(input_),\n",
    "                             input_)\n",
    "\n",
    "        target = target.float()\n",
    "\n",
    "        return self.bce(input_, target)\n",
    "\n",
    "class FocalLoss(nn.Module):\n",
    "    def __init__(self, gamma=2):\n",
    "        super().__init__()\n",
    "        self.gamma = gamma\n",
    "\n",
    "    def forward(self, logit, target):\n",
    "        target = target.float()\n",
    "        max_val = (-logit).clamp(min=0)\n",
    "        loss = logit - logit * target + max_val + \\\n",
    "            ((-max_val).exp() + (-logit - max_val).exp()).log()\n",
    "\n",
    "        invprobs = F.logsigmoid(-logit * (target * 2.0 - 1.0))\n",
    "        loss = (invprobs * self.gamma).exp() * loss\n",
    "        if len(loss.size()) == 2:\n",
    "            loss = loss.sum(dim=1)\n",
    "        return loss.mean()    \n",
    "\n",
    "class ImprovedPANNsLoss(nn.Module):\n",
    "    def __init__(self, output_key=\"logit\", weights=[1, 0.5]):\n",
    "        super().__init__()\n",
    "\n",
    "        self.output_key = output_key\n",
    "        if output_key == \"logit\":\n",
    "            self.normal_loss = nn.BCEWithLogitsLoss()\n",
    "        else:\n",
    "            self.normal_loss = nn.BCELoss()\n",
    "\n",
    "        self.bce = nn.BCELoss()\n",
    "        self.weights = weights\n",
    "\n",
    "    def forward(self, input, target):\n",
    "        input_ = input[self.output_key]\n",
    "        target = target.float()\n",
    "\n",
    "        framewise_output = input[\"framewise_output\"]\n",
    "        clipwise_output_with_max, _ = framewise_output.max(dim=1)\n",
    "\n",
    "        normal_loss = self.normal_loss(input_, target)\n",
    "        auxiliary_loss = self.bce(clipwise_output_with_max, target)\n",
    "\n",
    "        return self.weights[0] * normal_loss + self.weights[1] * auxiliary_loss\n",
    "    \n",
    "class ImprovedFocalLoss(nn.Module):\n",
    "    def __init__(self, weights=[1, 1]):\n",
    "        super().__init__()\n",
    "\n",
    "        self.focal = FocalLoss()\n",
    "        self.weights = weights\n",
    "\n",
    "    def forward(self, input, target):\n",
    "        input_ = input[\"logit\"]\n",
    "        target = target.float()\n",
    "\n",
    "        framewise_output = input[\"framewise_logit\"]\n",
    "        clipwise_output_with_max, _ = framewise_output.max(dim=1)\n",
    "\n",
    "        normal_loss = self.focal(input_, target)\n",
    "        auxiliary_loss = self.focal(clipwise_output_with_max, target)\n",
    "\n",
    "        return self.weights[0] * normal_loss + self.weights[1] * auxiliary_loss"
   ]
  },
  {
   "cell_type": "code",
   "execution_count": 10,
   "metadata": {
    "papermill": {
     "duration": 10.752926,
     "end_time": "2020-12-20T18:14:11.820042",
     "exception": false,
     "start_time": "2020-12-20T18:14:01.067116",
     "status": "completed"
    },
    "tags": []
   },
   "outputs": [],
   "source": [
    "train_dataset = RainforestDataset(X_train, audio_transforms=audio_transform_train, image_transforms=image_transform_train)\n",
    "val_dataset = RainforestDataset(X_val, audio_transforms=None, image_transforms=transform_val)\n",
    "\n",
    "train_loader = DataLoader(train_dataset, batch_size=Config.BATCH_SIZE, shuffle=True, num_workers = Config.NUM_WORKERS)\n",
    "val_loader = DataLoader(val_dataset, batch_size=Config.BATCH_SIZE, shuffle = False, num_workers = Config.NUM_WORKERS)\n",
    "\n",
    "class AudioSEDModel(nn.Module):\n",
    "    def __init__(self, classes_num):\n",
    "        super().__init__()\n",
    "        self.interpolate_ratio = 30  # Downsampled ratio     \n",
    "        # Model Encoder\n",
    "        \n",
    "        self.encoder = timm.create_model('tf_efficientnet_b0_ns', pretrained=True)\n",
    "        in_features = self.encoder.classifier.in_features\n",
    "        \n",
    "        self.fc1 = nn.Linear(in_features, in_features, bias=True)\n",
    "        self.att_block = AttBlock(in_features, classes_num, activation=\"sigmoid\")\n",
    "        self.init_weight()\n",
    "    \n",
    "    def init_weight(self):\n",
    "        init_layer(self.fc1)\n",
    "    \n",
    "    def forward(self, input, mixup_lambda=None):\n",
    "        frames_num = input.size(3)\n",
    "\n",
    "        #print(x.shape)\n",
    "        x = self.encoder.forward_features(input)\n",
    "        #print(x.shape)\n",
    "        x = torch.mean(x, dim=2)\n",
    "        #print(x.shape)\n",
    "\n",
    "        x1 = F.max_pool1d(x, kernel_size=3, stride=1, padding=1)\n",
    "        x2 = F.avg_pool1d(x, kernel_size=3, stride=1, padding=1)\n",
    "        x = x1 + x2\n",
    "        #print(x.shape)\n",
    "\n",
    "        x = F.dropout(x, p=0.5, training=self.training)\n",
    "        x = x.transpose(1, 2)\n",
    "        x = F.relu_(self.fc1(x))\n",
    "        x = x.transpose(1, 2)\n",
    "        x = F.dropout(x, p=0.5, training=self.training)\n",
    "        #print(x.shape)\n",
    "\n",
    "        (clipwise_output, norm_att, segmentwise_output) = self.att_block(x)\n",
    "        logit = torch.sum(norm_att * self.att_block.cla(x), dim=2)\n",
    "        segmentwise_logit = self.att_block.cla(x).transpose(1, 2)\n",
    "        segmentwise_output = segmentwise_output.transpose(1, 2)\n",
    "\n",
    "        # Get framewise output\n",
    "        framewise_output = interpolate(segmentwise_output,\n",
    "                                       self.interpolate_ratio)\n",
    "        framewise_output = pad_framewise_output(framewise_output, frames_num)\n",
    "        \n",
    "        framewise_logit = interpolate(segmentwise_logit, self.interpolate_ratio)\n",
    "        framewise_logit = pad_framewise_output(framewise_logit, frames_num)\n",
    "\n",
    "        output_dict = {\n",
    "            \"framewise_output\": framewise_output,\n",
    "            \"segmentwise_output\": segmentwise_output,\n",
    "            \"logit\": logit,\n",
    "            \"framewise_logit\": framewise_logit,\n",
    "            \"clipwise_output\": clipwise_output\n",
    "        }\n",
    "\n",
    "\n",
    "        return output_dict\n",
    "model = AudioSEDModel(Config.NUM_BIRDS)\n",
    "\n",
    "optimizer = torch.optim.Adam(model.parameters(), lr=Config.LR_ADAM, )\n",
    "#scheduler = torch.optim.lr_scheduler.StepLR(optimizer, step_size = 10, gamma = Config.FACTOR)\n",
    "#scheduler = torch.optim.lr_scheduler.ReduceLROnPlateau(optimizer, patience = Config.PATIENCE, factor = Config.FACTOR, mode = \"max\")\n",
    "scheduler =torch.optim.lr_scheduler.CosineAnnealingLR(optimizer, T_max=8, eta_min=1e-6)\n",
    "#scheduler =torch.optim.lr_scheduler.CosineAnnealingWarmRestarts(optimizer, T_0=2, eta_min=1e-4)\n",
    "criterion = ImprovedPANNsLoss()\n",
    "criterion_focal = ImprovedFocalLoss()\n",
    "\n",
    "mixer = BatchMixer(p=0.45)\n",
    "\n",
    "if torch.cuda.is_available():\n",
    "    model = model.cuda()\n",
    "    #loss_function = loss_function.cuda()"
   ]
  },
  {
   "cell_type": "code",
   "execution_count": 11,
   "metadata": {},
   "outputs": [
    {
     "data": {
      "image/png": "[encoded data removed]",
      "text/plain": [
       "<Figure size 1440x720 with 5 Axes>"
      ]
     },
     "metadata": {
      "needs_background": "light"
     },
     "output_type": "display_data"
    }
   ],
   "source": [
    "plt.figure(figsize = (20,10))\n",
    "columns = 5\n",
    "images = ([train_dataset[i][0] for i in range(5)])\n",
    "for i, image in enumerate(images):\n",
    "    plt.subplot(len(images) / columns + 1, columns, i + 1) \n",
    "    plt.imshow(image.numpy().transpose(1,2,0)[:,:,2])"
   ]
  },
  {
   "cell_type": "code",
   "execution_count": 12,
   "metadata": {},
   "outputs": [],
   "source": [
    "def load_val_file(record_id, df):\n",
    "\n",
    "    wav = np.load('../data/train_np/' + record_id + \".npy\")\n",
    "    # Split for enough segments to not miss anything\n",
    "    #segments = len(wav) / Config.LENGTH_1\n",
    "    #segments = int(np.ceil(segments))\n",
    "    window = 10* Config.SR\n",
    "    stride = 5 * Config.SR\n",
    "    full_length = 60 * Config.SR\n",
    "    \n",
    "    mel_array = []\n",
    "    \n",
    "    for i in range(0, full_length + stride - window, stride):\n",
    "        \n",
    "        wav_slice = wav[i:i+window]\n",
    "        mel_spec = wav2mel(wav_slice, power=1)\n",
    "        mel_spec_power =  wav2mel(wav_slice, power=1.5)\n",
    "        pcen = librosa.pcen(mel_spec, **pcen_parameters)\n",
    "        #mel_spec = np.expand_dims(mel_spec, axis=2).astype(np.float32)\n",
    "        #print(np.max(mel_spec))\n",
    "        image = np.stack([normalize_melspec(mel_spec), normalize_melspec(pcen), normalize_melspec(mel_spec_power)], axis=-1).astype(np.float32)\n",
    "        \n",
    "        transform_val = albu.Compose([albu.Resize(Config.IMG_H, Config.IMG_W),],) \n",
    "        augmented = transform_val(image = image)\n",
    "        mel_spec = augmented[ \"image\"] \n",
    "        #mfcc = augmented[\"image1\"]\n",
    "        #print(mel_spec.shape, mfcc.shape)\n",
    "        mel_array.append(mel_spec) \n",
    "        \n",
    "    val_labels_array = np.zeros(Config.NUM_BIRDS, dtype=np.single)\n",
    "    species_ids = copy.deepcopy(df[(df.recording_id==record_id)].species_id.unique())\n",
    "    val_labels_array[species_ids] = 1.\n",
    "    if 12 in species_ids:\n",
    "        val_labels_array[3] = 0.99\n",
    "    #print(np.array(mel_array).shape)\n",
    "\n",
    "    return np.array(mel_array), val_labels_array\n",
    "\n",
    "def lwlrap(truth, scores):\n",
    "    \"\"\"Calculate the overall lwlrap using sklearn.metrics.lrap.\"\"\"\n",
    "    # sklearn doesn't correctly apply weighting to samples with no labels, so just skip them.\n",
    "    sample_weight = np.sum(truth > 0, axis=1)\n",
    "    nonzero_weight_sample_indices = np.flatnonzero(sample_weight > 0)\n",
    "    overall_lwlrap = label_ranking_average_precision_score(\n",
    "      truth[nonzero_weight_sample_indices, :] > 0,\n",
    "      scores[nonzero_weight_sample_indices, :],\n",
    "      sample_weight=sample_weight[nonzero_weight_sample_indices])\n",
    "    return overall_lwlrap\n",
    "\n",
    "\n",
    "def validate(model, files_ids, df):\n",
    "        val_loss = []\n",
    "        val_corr = []\n",
    "        val_metrics = []\n",
    "        model.eval()\n",
    "        for i in tqdm(range(0, len(files_ids))):\n",
    "            data, target = load_val_file(files_ids[i], X_val)\n",
    "            data, target = torch.tensor(data.transpose(0,3,1,2)), torch.tensor(target)\n",
    "            data = data.float()\n",
    "            if torch.cuda.is_available():\n",
    "                data, target = data.cuda(), target.cuda().unsqueeze(0)\n",
    "            output = model(data)\n",
    "            #output, _ = torch.max(output[\"clipwise_output\"], 0)\n",
    "            framewise_output = output[\"framewise_output\"]\n",
    "            output, _ = framewise_output.max(dim=1) \n",
    "            output, _ = torch.max(output, 0)\n",
    "          \n",
    "            output = output.unsqueeze(0)\n",
    "            #print(output.shape)\n",
    "            #loss = loss_function(output, target)\n",
    "            loss = lsep_loss(output, target)\n",
    "            val_metric = lwlrap(target.cpu().detach().numpy(), output.cpu().detach().numpy())\n",
    "            vals, answers = torch.max(output, 1)\n",
    "            vals, targets = torch.max(target, 1)\n",
    "            val_metrics.append(val_metric.item())\n",
    "            corrects = 0\n",
    "            for i in range(0, len(answers)):\n",
    "                if answers[i] == targets[i]:\n",
    "                    corrects = corrects + 1\n",
    "            val_corr.append(corrects)\n",
    "            val_loss.append(loss.item())\n",
    "        valid_epoch_metric = sum(val_metrics) / len(val_loss)\n",
    "\n",
    "        return val_loss, val_corr, valid_epoch_metric"
   ]
  },
  {
   "cell_type": "code",
   "execution_count": 13,
   "metadata": {
    "collapsed": true,
    "jupyter": {
     "outputs_hidden": true
    }
   },
   "outputs": [
    {
     "name": "stdout",
     "output_type": "stream",
     "text": [
      "Starting training loop\n"
     ]
    },
    {
     "name": "stderr",
     "output_type": "stream",
     "text": [
      "73it [01:45,  1.44s/it]\n",
      "  0%|          | 0/197 [00:00<?, ?it/s]"
     ]
    },
    {
     "name": "stdout",
     "output_type": "stream",
     "text": [
      "Epoch 0 training end. LR: 0.0009, Loss: 0.4515480019458353, Correct answers: 211/1155\n"
     ]
    },
    {
     "name": "stderr",
     "output_type": "stream",
     "text": [
      "100%|██████████| 197/197 [02:45<00:00,  1.19it/s]"
     ]
    },
    {
     "name": "stdout",
     "output_type": "stream",
     "text": [
      "Epoch 0 validation end. LR: 0.0009, Loss: 3.159205227333882, Correct answers: 38/197, Val metric: 0.34896739965876744\n",
      "Saving new best model at epoch 0 38/197\n"
     ]
    },
    {
     "name": "stderr",
     "output_type": "stream",
     "text": [
      "\n",
      "73it [01:42,  1.40s/it]\n",
      "  0%|          | 0/197 [00:00<?, ?it/s]"
     ]
    },
    {
     "name": "stdout",
     "output_type": "stream",
     "text": [
      "Epoch 1 training end. LR: 0.0008657838498638234, Loss: 0.3208313861938372, Correct answers: 277/1155\n"
     ]
    },
    {
     "name": "stderr",
     "output_type": "stream",
     "text": [
      "100%|██████████| 197/197 [02:46<00:00,  1.19it/s]"
     ]
    },
    {
     "name": "stdout",
     "output_type": "stream",
     "text": [
      "Epoch 1 validation end. LR: 0.0008657838498638234, Loss: 3.0504249993919723, Correct answers: 39/197, Val metric: 0.42338968003266864\n",
      "Saving new best model at epoch 1 39/197\n"
     ]
    },
    {
     "name": "stderr",
     "output_type": "stream",
     "text": [
      "\n",
      "73it [01:45,  1.44s/it]\n",
      "  0%|          | 0/197 [00:00<?, ?it/s]"
     ]
    },
    {
     "name": "stdout",
     "output_type": "stream",
     "text": [
      "Epoch 2 training end. LR: 0.0007683444981433531, Loss: 0.28984871261740386, Correct answers: 373/1155\n"
     ]
    },
    {
     "name": "stderr",
     "output_type": "stream",
     "text": [
      "100%|██████████| 197/197 [02:47<00:00,  1.18it/s]"
     ]
    },
    {
     "name": "stdout",
     "output_type": "stream",
     "text": [
      "Epoch 2 validation end. LR: 0.0007683444981433531, Loss: 2.9263469821910566, Correct answers: 65/197, Val metric: 0.57202153199014\n",
      "Saving new best model at epoch 2 65/197\n"
     ]
    },
    {
     "name": "stderr",
     "output_type": "stream",
     "text": [
      "\n",
      "73it [01:45,  1.45s/it]\n",
      "  0%|          | 0/197 [00:00<?, ?it/s]"
     ]
    },
    {
     "name": "stdout",
     "output_type": "stream",
     "text": [
      "Epoch 3 training end. LR: 0.0006225162028481079, Loss: 0.2692341906567142, Correct answers: 457/1155\n"
     ]
    },
    {
     "name": "stderr",
     "output_type": "stream",
     "text": [
      "100%|██████████| 197/197 [02:46<00:00,  1.19it/s]"
     ]
    },
    {
     "name": "stdout",
     "output_type": "stream",
     "text": [
      "Epoch 3 validation end. LR: 0.0006225162028481079, Loss: 2.80214647593232, Correct answers: 81/197, Val metric: 0.621151089830741\n",
      "Saving new best model at epoch 3 81/197\n"
     ]
    },
    {
     "name": "stderr",
     "output_type": "stream",
     "text": [
      "\n",
      "73it [01:44,  1.44s/it]\n",
      "  0%|          | 0/197 [00:00<?, ?it/s]"
     ]
    },
    {
     "name": "stdout",
     "output_type": "stream",
     "text": [
      "Epoch 4 training end. LR: 0.0004505, Loss: 0.24232784832177096, Correct answers: 513/1155\n"
     ]
    },
    {
     "name": "stderr",
     "output_type": "stream",
     "text": [
      "100%|██████████| 197/197 [02:46<00:00,  1.18it/s]"
     ]
    },
    {
     "name": "stdout",
     "output_type": "stream",
     "text": [
      "Epoch 4 validation end. LR: 0.0004505, Loss: 2.697652246746315, Correct answers: 114/197, Val metric: 0.7500324125958643\n",
      "Saving new best model at epoch 4 114/197\n"
     ]
    },
    {
     "name": "stderr",
     "output_type": "stream",
     "text": [
      "\n",
      "73it [01:43,  1.42s/it]\n",
      "  0%|          | 0/197 [00:00<?, ?it/s]"
     ]
    },
    {
     "name": "stdout",
     "output_type": "stream",
     "text": [
      "Epoch 5 training end. LR: 0.0002784837971518922, Loss: 0.21966613155521758, Correct answers: 580/1155\n"
     ]
    },
    {
     "name": "stderr",
     "output_type": "stream",
     "text": [
      "100%|██████████| 197/197 [02:47<00:00,  1.18it/s]"
     ]
    },
    {
     "name": "stdout",
     "output_type": "stream",
     "text": [
      "Epoch 5 validation end. LR: 0.0002784837971518922, Loss: 2.655232905131306, Correct answers: 111/197, Val metric: 0.7414873902183547\n"
     ]
    },
    {
     "name": "stderr",
     "output_type": "stream",
     "text": [
      "\n",
      "73it [01:46,  1.46s/it]\n",
      "  0%|          | 0/197 [00:00<?, ?it/s]"
     ]
    },
    {
     "name": "stdout",
     "output_type": "stream",
     "text": [
      "Epoch 6 training end. LR: 0.0001326555018566469, Loss: 0.2099373207925117, Correct answers: 615/1155\n"
     ]
    },
    {
     "name": "stderr",
     "output_type": "stream",
     "text": [
      "100%|██████████| 197/197 [02:46<00:00,  1.18it/s]"
     ]
    },
    {
     "name": "stdout",
     "output_type": "stream",
     "text": [
      "Epoch 6 validation end. LR: 0.0001326555018566469, Loss: 2.629453638483425, Correct answers: 121/197, Val metric: 0.7753179561555197\n",
      "Saving new best model at epoch 6 121/197\n"
     ]
    },
    {
     "name": "stderr",
     "output_type": "stream",
     "text": [
      "\n",
      "73it [01:46,  1.46s/it]\n",
      "  0%|          | 0/197 [00:00<?, ?it/s]"
     ]
    },
    {
     "name": "stdout",
     "output_type": "stream",
     "text": [
      "Epoch 7 training end. LR: 3.5216150136176606e-05, Loss: 0.20808650777764517, Correct answers: 602/1155\n"
     ]
    },
    {
     "name": "stderr",
     "output_type": "stream",
     "text": [
      "100%|██████████| 197/197 [02:45<00:00,  1.19it/s]"
     ]
    },
    {
     "name": "stdout",
     "output_type": "stream",
     "text": [
      "Epoch 7 validation end. LR: 3.5216150136176606e-05, Loss: 2.6351839673095547, Correct answers: 120/197, Val metric: 0.77112239142696\n"
     ]
    },
    {
     "name": "stderr",
     "output_type": "stream",
     "text": [
      "\n",
      "73it [01:45,  1.44s/it]\n",
      "  0%|          | 0/197 [00:00<?, ?it/s]"
     ]
    },
    {
     "name": "stdout",
     "output_type": "stream",
     "text": [
      "Epoch 8 training end. LR: 1e-06, Loss: 0.197857482384329, Correct answers: 634/1155\n"
     ]
    },
    {
     "name": "stderr",
     "output_type": "stream",
     "text": [
      "100%|██████████| 197/197 [02:46<00:00,  1.18it/s]"
     ]
    },
    {
     "name": "stdout",
     "output_type": "stream",
     "text": [
      "Epoch 8 validation end. LR: 1e-06, Loss: 2.628784163954294, Correct answers: 123/197, Val metric: 0.7809335097472954\n",
      "Saving new best model at epoch 8 123/197\n"
     ]
    },
    {
     "name": "stderr",
     "output_type": "stream",
     "text": [
      "\n",
      "73it [01:46,  1.46s/it]\n",
      "  0%|          | 0/197 [00:00<?, ?it/s]"
     ]
    },
    {
     "name": "stdout",
     "output_type": "stream",
     "text": [
      "Epoch 9 training end. LR: 3.5216150136176606e-05, Loss: 0.19735797443618514, Correct answers: 609/1155\n"
     ]
    },
    {
     "name": "stderr",
     "output_type": "stream",
     "text": [
      "100%|██████████| 197/197 [02:46<00:00,  1.18it/s]"
     ]
    },
    {
     "name": "stdout",
     "output_type": "stream",
     "text": [
      "Epoch 9 validation end. LR: 3.5216150136176606e-05, Loss: 2.612677830729993, Correct answers: 124/197, Val metric: 0.7872733865119651\n",
      "Saving new best model at epoch 9 124/197\n"
     ]
    },
    {
     "name": "stderr",
     "output_type": "stream",
     "text": [
      "\n",
      "73it [01:46,  1.45s/it]\n",
      "  0%|          | 0/197 [00:00<?, ?it/s]"
     ]
    },
    {
     "name": "stdout",
     "output_type": "stream",
     "text": [
      "Epoch 10 training end. LR: 0.000132655501856647, Loss: 0.20177338160064123, Correct answers: 622/1155\n"
     ]
    },
    {
     "name": "stderr",
     "output_type": "stream",
     "text": [
      "100%|██████████| 197/197 [02:45<00:00,  1.19it/s]"
     ]
    },
    {
     "name": "stdout",
     "output_type": "stream",
     "text": [
      "Epoch 10 validation end. LR: 0.000132655501856647, Loss: 2.602595761342702, Correct answers: 129/197, Val metric: 0.7972195152011968\n",
      "Saving new best model at epoch 10 129/197\n"
     ]
    },
    {
     "name": "stderr",
     "output_type": "stream",
     "text": [
      "\n",
      "73it [01:45,  1.44s/it]\n",
      "  0%|          | 0/197 [00:00<?, ?it/s]"
     ]
    },
    {
     "name": "stdout",
     "output_type": "stream",
     "text": [
      "Epoch 11 training end. LR: 0.00027848379715189234, Loss: 0.19561313664259977, Correct answers: 628/1155\n"
     ]
    },
    {
     "name": "stderr",
     "output_type": "stream",
     "text": [
      "100%|██████████| 197/197 [02:45<00:00,  1.19it/s]"
     ]
    },
    {
     "name": "stdout",
     "output_type": "stream",
     "text": [
      "Epoch 11 validation end. LR: 0.00027848379715189234, Loss: 2.6092317866794956, Correct answers: 123/197, Val metric: 0.7888788171783095\n"
     ]
    },
    {
     "name": "stderr",
     "output_type": "stream",
     "text": [
      "\n",
      "73it [01:44,  1.43s/it]\n",
      "  0%|          | 0/197 [00:00<?, ?it/s]"
     ]
    },
    {
     "name": "stdout",
     "output_type": "stream",
     "text": [
      "Epoch 12 training end. LR: 0.00045050000000000054, Loss: 0.2048823063912457, Correct answers: 618/1155\n"
     ]
    },
    {
     "name": "stderr",
     "output_type": "stream",
     "text": [
      "100%|██████████| 197/197 [02:45<00:00,  1.19it/s]"
     ]
    },
    {
     "name": "stdout",
     "output_type": "stream",
     "text": [
      "Epoch 12 validation end. LR: 0.00045050000000000054, Loss: 2.626719017319268, Correct answers: 120/197, Val metric: 0.7627429113469724\n"
     ]
    },
    {
     "name": "stderr",
     "output_type": "stream",
     "text": [
      "\n",
      "73it [01:45,  1.44s/it]\n",
      "  0%|          | 0/197 [00:00<?, ?it/s]"
     ]
    },
    {
     "name": "stdout",
     "output_type": "stream",
     "text": [
      "Epoch 13 training end. LR: 0.0006225162028481088, Loss: 0.2132577435815171, Correct answers: 596/1155\n"
     ]
    },
    {
     "name": "stderr",
     "output_type": "stream",
     "text": [
      "100%|██████████| 197/197 [02:45<00:00,  1.19it/s]"
     ]
    },
    {
     "name": "stdout",
     "output_type": "stream",
     "text": [
      "Epoch 13 validation end. LR: 0.0006225162028481088, Loss: 2.6724356527861, Correct answers: 113/197, Val metric: 0.7412366046249294\n"
     ]
    },
    {
     "name": "stderr",
     "output_type": "stream",
     "text": [
      "\n",
      "73it [01:44,  1.43s/it]\n",
      "  0%|          | 0/197 [00:00<?, ?it/s]"
     ]
    },
    {
     "name": "stdout",
     "output_type": "stream",
     "text": [
      "Epoch 14 training end. LR: 0.0007683444981433541, Loss: 0.2126448103418089, Correct answers: 606/1155\n"
     ]
    },
    {
     "name": "stderr",
     "output_type": "stream",
     "text": [
      "100%|██████████| 197/197 [02:46<00:00,  1.18it/s]"
     ]
    },
    {
     "name": "stdout",
     "output_type": "stream",
     "text": [
      "Epoch 14 validation end. LR: 0.0007683444981433541, Loss: 2.637939886393281, Correct answers: 108/197, Val metric: 0.7361231971638061\n"
     ]
    },
    {
     "name": "stderr",
     "output_type": "stream",
     "text": [
      "\n",
      "73it [01:44,  1.43s/it]\n",
      "  0%|          | 0/197 [00:00<?, ?it/s]"
     ]
    },
    {
     "name": "stdout",
     "output_type": "stream",
     "text": [
      "Epoch 15 training end. LR: 0.0008657838498638243, Loss: 0.2179115672838198, Correct answers: 621/1155\n"
     ]
    },
    {
     "name": "stderr",
     "output_type": "stream",
     "text": [
      "100%|██████████| 197/197 [02:46<00:00,  1.18it/s]"
     ]
    },
    {
     "name": "stdout",
     "output_type": "stream",
     "text": [
      "Epoch 15 validation end. LR: 0.0008657838498638243, Loss: 2.6395879203292925, Correct answers: 113/197, Val metric: 0.7502219438767663\n"
     ]
    },
    {
     "name": "stderr",
     "output_type": "stream",
     "text": [
      "\n",
      "73it [01:44,  1.43s/it]\n",
      "  0%|          | 0/197 [00:00<?, ?it/s]"
     ]
    },
    {
     "name": "stdout",
     "output_type": "stream",
     "text": [
      "Epoch 16 training end. LR: 0.0009000000000000011, Loss: 0.20098024953718055, Correct answers: 629/1155\n"
     ]
    },
    {
     "name": "stderr",
     "output_type": "stream",
     "text": [
      "100%|██████████| 197/197 [02:46<00:00,  1.18it/s]"
     ]
    },
    {
     "name": "stdout",
     "output_type": "stream",
     "text": [
      "Epoch 16 validation end. LR: 0.0009000000000000011, Loss: 2.604390376715491, Correct answers: 118/197, Val metric: 0.7641690655650049\n"
     ]
    },
    {
     "name": "stderr",
     "output_type": "stream",
     "text": [
      "\n",
      "73it [01:44,  1.43s/it]\n",
      "  0%|          | 0/197 [00:00<?, ?it/s]"
     ]
    },
    {
     "name": "stdout",
     "output_type": "stream",
     "text": [
      "Epoch 17 training end. LR: 0.0008657838498638245, Loss: 0.19354873283268653, Correct answers: 671/1155\n"
     ]
    },
    {
     "name": "stderr",
     "output_type": "stream",
     "text": [
      "100%|██████████| 197/197 [02:46<00:00,  1.18it/s]"
     ]
    },
    {
     "name": "stdout",
     "output_type": "stream",
     "text": [
      "Epoch 17 validation end. LR: 0.0008657838498638245, Loss: 2.612836561832331, Correct answers: 117/197, Val metric: 0.7642791122553346\n"
     ]
    },
    {
     "name": "stderr",
     "output_type": "stream",
     "text": [
      "\n",
      "73it [01:45,  1.44s/it]\n",
      "  0%|          | 0/197 [00:00<?, ?it/s]"
     ]
    },
    {
     "name": "stdout",
     "output_type": "stream",
     "text": [
      "Epoch 18 training end. LR: 0.0007683444981433542, Loss: 0.18238101379103858, Correct answers: 667/1155\n"
     ]
    },
    {
     "name": "stderr",
     "output_type": "stream",
     "text": [
      "100%|██████████| 197/197 [02:46<00:00,  1.18it/s]"
     ]
    },
    {
     "name": "stdout",
     "output_type": "stream",
     "text": [
      "Epoch 18 validation end. LR: 0.0007683444981433542, Loss: 2.5782429978327097, Correct answers: 123/197, Val metric: 0.7911439448875995\n"
     ]
    },
    {
     "name": "stderr",
     "output_type": "stream",
     "text": [
      "\n",
      "73it [01:45,  1.44s/it]\n",
      "  0%|          | 0/197 [00:00<?, ?it/s]"
     ]
    },
    {
     "name": "stdout",
     "output_type": "stream",
     "text": [
      "Epoch 19 training end. LR: 0.000622516202848109, Loss: 0.17491685364344348, Correct answers: 698/1155\n"
     ]
    },
    {
     "name": "stderr",
     "output_type": "stream",
     "text": [
      "100%|██████████| 197/197 [02:45<00:00,  1.19it/s]"
     ]
    },
    {
     "name": "stdout",
     "output_type": "stream",
     "text": [
      "Epoch 19 validation end. LR: 0.000622516202848109, Loss: 2.5739404658980782, Correct answers: 120/197, Val metric: 0.779776371400737\n"
     ]
    },
    {
     "name": "stderr",
     "output_type": "stream",
     "text": [
      "\n",
      "73it [01:46,  1.45s/it]\n",
      "  0%|          | 0/197 [00:00<?, ?it/s]"
     ]
    },
    {
     "name": "stdout",
     "output_type": "stream",
     "text": [
      "Epoch 20 training end. LR: 0.00045050000000000076, Loss: 0.16131854322675157, Correct answers: 706/1155\n"
     ]
    },
    {
     "name": "stderr",
     "output_type": "stream",
     "text": [
      "100%|██████████| 197/197 [02:46<00:00,  1.19it/s]"
     ]
    },
    {
     "name": "stdout",
     "output_type": "stream",
     "text": [
      "Epoch 20 validation end. LR: 0.00045050000000000076, Loss: 2.5372630859994647, Correct answers: 121/197, Val metric: 0.7926976999312026\n"
     ]
    },
    {
     "name": "stderr",
     "output_type": "stream",
     "text": [
      "\n",
      "73it [01:44,  1.43s/it]\n",
      "  0%|          | 0/197 [00:00<?, ?it/s]"
     ]
    },
    {
     "name": "stdout",
     "output_type": "stream",
     "text": [
      "Epoch 21 training end. LR: 0.00027848379715189256, Loss: 0.15547600521208488, Correct answers: 726/1155\n"
     ]
    },
    {
     "name": "stderr",
     "output_type": "stream",
     "text": [
      "100%|██████████| 197/197 [02:45<00:00,  1.19it/s]"
     ]
    },
    {
     "name": "stdout",
     "output_type": "stream",
     "text": [
      "Epoch 21 validation end. LR: 0.00027848379715189256, Loss: 2.525133799780444, Correct answers: 130/197, Val metric: 0.8117677866408833\n",
      "Saving new best model at epoch 21 130/197\n"
     ]
    },
    {
     "name": "stderr",
     "output_type": "stream",
     "text": [
      "\n",
      "73it [01:45,  1.44s/it]\n",
      "  0%|          | 0/197 [00:00<?, ?it/s]"
     ]
    },
    {
     "name": "stdout",
     "output_type": "stream",
     "text": [
      "Epoch 22 training end. LR: 0.00013265550185664746, Loss: 0.14213228235914283, Correct answers: 742/1155\n"
     ]
    },
    {
     "name": "stderr",
     "output_type": "stream",
     "text": [
      "100%|██████████| 197/197 [02:44<00:00,  1.20it/s]"
     ]
    },
    {
     "name": "stdout",
     "output_type": "stream",
     "text": [
      "Epoch 22 validation end. LR: 0.00013265550185664746, Loss: 2.531274719286691, Correct answers: 121/197, Val metric: 0.790357527413365\n"
     ]
    },
    {
     "name": "stderr",
     "output_type": "stream",
     "text": [
      "\n",
      "73it [01:44,  1.44s/it]\n",
      "  0%|          | 0/197 [00:00<?, ?it/s]"
     ]
    },
    {
     "name": "stdout",
     "output_type": "stream",
     "text": [
      "Epoch 23 training end. LR: 3.5216150136176816e-05, Loss: 0.1364843809135156, Correct answers: 754/1155\n"
     ]
    },
    {
     "name": "stderr",
     "output_type": "stream",
     "text": [
      "100%|██████████| 197/197 [02:45<00:00,  1.19it/s]"
     ]
    },
    {
     "name": "stdout",
     "output_type": "stream",
     "text": [
      "Epoch 23 validation end. LR: 3.5216150136176816e-05, Loss: 2.5186576286548283, Correct answers: 126/197, Val metric: 0.8018206553739552\n"
     ]
    },
    {
     "name": "stderr",
     "output_type": "stream",
     "text": [
      "\n",
      "73it [01:45,  1.45s/it]\n",
      "  0%|          | 0/197 [00:00<?, ?it/s]"
     ]
    },
    {
     "name": "stdout",
     "output_type": "stream",
     "text": [
      "Epoch 24 training end. LR: 1e-06, Loss: 0.13421762642795093, Correct answers: 791/1155\n"
     ]
    },
    {
     "name": "stderr",
     "output_type": "stream",
     "text": [
      "100%|██████████| 197/197 [02:45<00:00,  1.19it/s]"
     ]
    },
    {
     "name": "stdout",
     "output_type": "stream",
     "text": [
      "Epoch 24 validation end. LR: 1e-06, Loss: 2.515406480295404, Correct answers: 132/197, Val metric: 0.8155364939628901\n",
      "Saving new best model at epoch 24 132/197\n"
     ]
    },
    {
     "name": "stderr",
     "output_type": "stream",
     "text": [
      "\n",
      "73it [01:46,  1.46s/it]\n",
      "  0%|          | 0/197 [00:00<?, ?it/s]"
     ]
    },
    {
     "name": "stdout",
     "output_type": "stream",
     "text": [
      "Epoch 25 training end. LR: 3.5216150136176606e-05, Loss: 0.13617165524461497, Correct answers: 747/1155\n"
     ]
    },
    {
     "name": "stderr",
     "output_type": "stream",
     "text": [
      "100%|██████████| 197/197 [02:44<00:00,  1.19it/s]"
     ]
    },
    {
     "name": "stdout",
     "output_type": "stream",
     "text": [
      "Epoch 25 validation end. LR: 3.5216150136176606e-05, Loss: 2.5167846909634353, Correct answers: 129/197, Val metric: 0.8085144973469848\n"
     ]
    },
    {
     "name": "stderr",
     "output_type": "stream",
     "text": [
      "\n",
      "73it [01:44,  1.44s/it]\n",
      "  0%|          | 0/197 [00:00<?, ?it/s]"
     ]
    },
    {
     "name": "stdout",
     "output_type": "stream",
     "text": [
      "Epoch 26 training end. LR: 0.00013265550185664706, Loss: 0.14091878751777623, Correct answers: 756/1155\n"
     ]
    },
    {
     "name": "stderr",
     "output_type": "stream",
     "text": [
      "100%|██████████| 197/197 [02:46<00:00,  1.18it/s]"
     ]
    },
    {
     "name": "stdout",
     "output_type": "stream",
     "text": [
      "Epoch 26 validation end. LR: 0.00013265550185664706, Loss: 2.5115226513238125, Correct answers: 129/197, Val metric: 0.8170111191684797\n",
      "Saving new best model at epoch 26 129/197\n"
     ]
    },
    {
     "name": "stderr",
     "output_type": "stream",
     "text": [
      "\n",
      "73it [01:45,  1.44s/it]\n",
      "  0%|          | 0/197 [00:00<?, ?it/s]"
     ]
    },
    {
     "name": "stdout",
     "output_type": "stream",
     "text": [
      "Epoch 27 training end. LR: 0.0002784837971518918, Loss: 0.148436490293235, Correct answers: 732/1155\n"
     ]
    },
    {
     "name": "stderr",
     "output_type": "stream",
     "text": [
      "100%|██████████| 197/197 [02:46<00:00,  1.18it/s]"
     ]
    },
    {
     "name": "stdout",
     "output_type": "stream",
     "text": [
      "Epoch 27 validation end. LR: 0.0002784837971518918, Loss: 2.5317103378663814, Correct answers: 124/197, Val metric: 0.796152662903932\n"
     ]
    },
    {
     "name": "stderr",
     "output_type": "stream",
     "text": [
      "\n",
      "73it [01:44,  1.43s/it]\n",
      "  0%|          | 0/197 [00:00<?, ?it/s]"
     ]
    },
    {
     "name": "stdout",
     "output_type": "stream",
     "text": [
      "Epoch 28 training end. LR: 0.00045049999999999973, Loss: 0.150787638321723, Correct answers: 724/1155\n"
     ]
    },
    {
     "name": "stderr",
     "output_type": "stream",
     "text": [
      "100%|██████████| 197/197 [02:45<00:00,  1.19it/s]"
     ]
    },
    {
     "name": "stdout",
     "output_type": "stream",
     "text": [
      "Epoch 28 validation end. LR: 0.00045049999999999973, Loss: 2.550189527763328, Correct answers: 118/197, Val metric: 0.7720491719222686\n"
     ]
    },
    {
     "name": "stderr",
     "output_type": "stream",
     "text": [
      "\n",
      "73it [01:44,  1.43s/it]\n",
      "  0%|          | 0/197 [00:00<?, ?it/s]"
     ]
    },
    {
     "name": "stdout",
     "output_type": "stream",
     "text": [
      "Epoch 29 training end. LR: 0.0006225162028481078, Loss: 0.16021961300340418, Correct answers: 726/1155\n"
     ]
    },
    {
     "name": "stderr",
     "output_type": "stream",
     "text": [
      "100%|██████████| 197/197 [02:46<00:00,  1.18it/s]"
     ]
    },
    {
     "name": "stdout",
     "output_type": "stream",
     "text": [
      "Epoch 29 validation end. LR: 0.0006225162028481078, Loss: 2.563062120815219, Correct answers: 107/197, Val metric: 0.7467287084038353\n"
     ]
    },
    {
     "name": "stderr",
     "output_type": "stream",
     "text": [
      "\n",
      "73it [01:46,  1.46s/it]\n",
      "  0%|          | 0/197 [00:00<?, ?it/s]"
     ]
    },
    {
     "name": "stdout",
     "output_type": "stream",
     "text": [
      "Epoch 30 training end. LR: 0.0007683444981433525, Loss: 0.1615957961711165, Correct answers: 709/1155\n"
     ]
    },
    {
     "name": "stderr",
     "output_type": "stream",
     "text": [
      "100%|██████████| 197/197 [02:46<00:00,  1.19it/s]"
     ]
    },
    {
     "name": "stdout",
     "output_type": "stream",
     "text": [
      "Epoch 30 validation end. LR: 0.0007683444981433525, Loss: 2.5471726879855705, Correct answers: 131/197, Val metric: 0.8056454588247267\n"
     ]
    },
    {
     "name": "stderr",
     "output_type": "stream",
     "text": [
      "\n",
      "73it [01:45,  1.45s/it]\n",
      "  0%|          | 0/197 [00:00<?, ?it/s]"
     ]
    },
    {
     "name": "stdout",
     "output_type": "stream",
     "text": [
      "Epoch 31 training end. LR: 0.0008657838498638232, Loss: 0.17902658634806332, Correct answers: 697/1155\n"
     ]
    },
    {
     "name": "stderr",
     "output_type": "stream",
     "text": [
      "100%|██████████| 197/197 [02:46<00:00,  1.19it/s]"
     ]
    },
    {
     "name": "stdout",
     "output_type": "stream",
     "text": [
      "Epoch 31 validation end. LR: 0.0008657838498638232, Loss: 2.598799037449251, Correct answers: 99/197, Val metric: 0.7171754194210602\n"
     ]
    },
    {
     "name": "stderr",
     "output_type": "stream",
     "text": [
      "\n",
      "73it [01:45,  1.45s/it]\n",
      "  0%|          | 0/197 [00:00<?, ?it/s]"
     ]
    },
    {
     "name": "stdout",
     "output_type": "stream",
     "text": [
      "Epoch 32 training end. LR: 0.0008999999999999999, Loss: 0.18441583359078184, Correct answers: 681/1155\n"
     ]
    },
    {
     "name": "stderr",
     "output_type": "stream",
     "text": [
      "100%|██████████| 197/197 [02:46<00:00,  1.19it/s]"
     ]
    },
    {
     "name": "stdout",
     "output_type": "stream",
     "text": [
      "Epoch 32 validation end. LR: 0.0008999999999999999, Loss: 2.6033108185995655, Correct answers: 117/197, Val metric: 0.757005571980191\n"
     ]
    },
    {
     "name": "stderr",
     "output_type": "stream",
     "text": [
      "\n",
      "73it [01:46,  1.46s/it]\n",
      "  0%|          | 0/197 [00:00<?, ?it/s]"
     ]
    },
    {
     "name": "stdout",
     "output_type": "stream",
     "text": [
      "Epoch 33 training end. LR: 0.0008657838498638233, Loss: 0.1623670298555126, Correct answers: 737/1155\n"
     ]
    },
    {
     "name": "stderr",
     "output_type": "stream",
     "text": [
      "100%|██████████| 197/197 [02:45<00:00,  1.19it/s]"
     ]
    },
    {
     "name": "stdout",
     "output_type": "stream",
     "text": [
      "Epoch 33 validation end. LR: 0.0008657838498638233, Loss: 2.5661893108774563, Correct answers: 114/197, Val metric: 0.7592724907221772\n"
     ]
    },
    {
     "name": "stderr",
     "output_type": "stream",
     "text": [
      "\n",
      "73it [01:45,  1.44s/it]\n",
      "  0%|          | 0/197 [00:00<?, ?it/s]"
     ]
    },
    {
     "name": "stdout",
     "output_type": "stream",
     "text": [
      "Epoch 34 training end. LR: 0.0007683444981433529, Loss: 0.16766200592256572, Correct answers: 713/1155\n"
     ]
    },
    {
     "name": "stderr",
     "output_type": "stream",
     "text": [
      "100%|██████████| 197/197 [02:44<00:00,  1.20it/s]"
     ]
    },
    {
     "name": "stdout",
     "output_type": "stream",
     "text": [
      "Epoch 34 validation end. LR: 0.0007683444981433529, Loss: 2.5526972882033605, Correct answers: 134/197, Val metric: 0.817021190879059\n",
      "Saving new best model at epoch 34 134/197\n"
     ]
    },
    {
     "name": "stderr",
     "output_type": "stream",
     "text": [
      "\n",
      "73it [01:45,  1.45s/it]\n",
      "  0%|          | 0/197 [00:00<?, ?it/s]"
     ]
    },
    {
     "name": "stdout",
     "output_type": "stream",
     "text": [
      "Epoch 35 training end. LR: 0.0006225162028481081, Loss: 0.14562446664865702, Correct answers: 756/1155\n"
     ]
    },
    {
     "name": "stderr",
     "output_type": "stream",
     "text": [
      "100%|██████████| 197/197 [02:45<00:00,  1.19it/s]"
     ]
    },
    {
     "name": "stdout",
     "output_type": "stream",
     "text": [
      "Epoch 35 validation end. LR: 0.0006225162028481081, Loss: 2.5215160931427465, Correct answers: 135/197, Val metric: 0.8329830209271835\n",
      "Saving new best model at epoch 35 135/197\n"
     ]
    },
    {
     "name": "stderr",
     "output_type": "stream",
     "text": [
      "\n",
      "73it [01:46,  1.45s/it]\n",
      "  0%|          | 0/197 [00:00<?, ?it/s]"
     ]
    },
    {
     "name": "stdout",
     "output_type": "stream",
     "text": [
      "Epoch 36 training end. LR: 0.0004505000000000001, Loss: 0.1423549037171553, Correct answers: 765/1155\n"
     ]
    },
    {
     "name": "stderr",
     "output_type": "stream",
     "text": [
      "100%|██████████| 197/197 [02:46<00:00,  1.19it/s]"
     ]
    },
    {
     "name": "stdout",
     "output_type": "stream",
     "text": [
      "Epoch 36 validation end. LR: 0.0004505000000000001, Loss: 2.485253185185079, Correct answers: 133/197, Val metric: 0.8228345822254451\n"
     ]
    },
    {
     "name": "stderr",
     "output_type": "stream",
     "text": [
      "\n",
      "73it [01:45,  1.44s/it]\n",
      "  0%|          | 0/197 [00:00<?, ?it/s]"
     ]
    },
    {
     "name": "stdout",
     "output_type": "stream",
     "text": [
      "Epoch 37 training end. LR: 0.0002784837971518922, Loss: 0.13204443597630278, Correct answers: 770/1155\n"
     ]
    },
    {
     "name": "stderr",
     "output_type": "stream",
     "text": [
      "100%|██████████| 197/197 [02:45<00:00,  1.19it/s]"
     ]
    },
    {
     "name": "stdout",
     "output_type": "stream",
     "text": [
      "Epoch 37 validation end. LR: 0.0002784837971518922, Loss: 2.4895907440766467, Correct answers: 135/197, Val metric: 0.8208907984288696\n"
     ]
    },
    {
     "name": "stderr",
     "output_type": "stream",
     "text": [
      "\n",
      "73it [01:45,  1.44s/it]\n",
      "  0%|          | 0/197 [00:00<?, ?it/s]"
     ]
    },
    {
     "name": "stdout",
     "output_type": "stream",
     "text": [
      "Epoch 38 training end. LR: 0.00013265550185664733, Loss: 0.13112927141459021, Correct answers: 779/1155\n"
     ]
    },
    {
     "name": "stderr",
     "output_type": "stream",
     "text": [
      "100%|██████████| 197/197 [02:47<00:00,  1.18it/s]"
     ]
    },
    {
     "name": "stdout",
     "output_type": "stream",
     "text": [
      "Epoch 38 validation end. LR: 0.00013265550185664733, Loss: 2.4756303450782893, Correct answers: 129/197, Val metric: 0.814007735073725\n"
     ]
    },
    {
     "name": "stderr",
     "output_type": "stream",
     "text": [
      "\n",
      "73it [01:46,  1.46s/it]\n",
      "  0%|          | 0/197 [00:00<?, ?it/s]"
     ]
    },
    {
     "name": "stdout",
     "output_type": "stream",
     "text": [
      "Epoch 39 training end. LR: 3.521615013617675e-05, Loss: 0.12769193064472448, Correct answers: 769/1155\n"
     ]
    },
    {
     "name": "stderr",
     "output_type": "stream",
     "text": [
      "100%|██████████| 197/197 [02:46<00:00,  1.18it/s]"
     ]
    },
    {
     "name": "stdout",
     "output_type": "stream",
     "text": [
      "Epoch 39 validation end. LR: 3.521615013617675e-05, Loss: 2.4756443536826196, Correct answers: 133/197, Val metric: 0.8251346510229761\n"
     ]
    },
    {
     "name": "stderr",
     "output_type": "stream",
     "text": [
      "\n",
      "73it [01:44,  1.43s/it]\n",
      "  0%|          | 0/197 [00:00<?, ?it/s]"
     ]
    },
    {
     "name": "stdout",
     "output_type": "stream",
     "text": [
      "Epoch 40 training end. LR: 1e-06, Loss: 0.11981001103373423, Correct answers: 802/1155\n"
     ]
    },
    {
     "name": "stderr",
     "output_type": "stream",
     "text": [
      "100%|██████████| 197/197 [02:46<00:00,  1.18it/s]"
     ]
    },
    {
     "name": "stdout",
     "output_type": "stream",
     "text": [
      "Epoch 40 validation end. LR: 1e-06, Loss: 2.4770845495504776, Correct answers: 135/197, Val metric: 0.8309000080573685\n"
     ]
    },
    {
     "name": "stderr",
     "output_type": "stream",
     "text": [
      "\n",
      "73it [01:47,  1.47s/it]\n",
      "  0%|          | 0/197 [00:00<?, ?it/s]"
     ]
    },
    {
     "name": "stdout",
     "output_type": "stream",
     "text": [
      "Epoch 41 training end. LR: 3.5216150136176606e-05, Loss: 0.1071361457444217, Correct answers: 817/1155\n"
     ]
    },
    {
     "name": "stderr",
     "output_type": "stream",
     "text": [
      "100%|██████████| 197/197 [02:45<00:00,  1.19it/s]"
     ]
    },
    {
     "name": "stdout",
     "output_type": "stream",
     "text": [
      "Epoch 41 validation end. LR: 3.5216150136176606e-05, Loss: 2.475472825432792, Correct answers: 139/197, Val metric: 0.841507697703577\n",
      "Saving new best model at epoch 41 139/197\n"
     ]
    },
    {
     "name": "stderr",
     "output_type": "stream",
     "text": [
      "\n",
      "73it [01:45,  1.44s/it]\n",
      "  0%|          | 0/197 [00:00<?, ?it/s]"
     ]
    },
    {
     "name": "stdout",
     "output_type": "stream",
     "text": [
      "Epoch 42 training end. LR: 0.0001326555018566483, Loss: 0.12174541860410612, Correct answers: 783/1155\n"
     ]
    },
    {
     "name": "stderr",
     "output_type": "stream",
     "text": [
      "100%|██████████| 197/197 [02:45<00:00,  1.19it/s]"
     ]
    },
    {
     "name": "stdout",
     "output_type": "stream",
     "text": [
      "Epoch 42 validation end. LR: 0.0001326555018566483, Loss: 2.4753214441580216, Correct answers: 137/197, Val metric: 0.8357847876883411\n"
     ]
    },
    {
     "name": "stderr",
     "output_type": "stream",
     "text": [
      "\n",
      "73it [01:45,  1.45s/it]\n",
      "  0%|          | 0/197 [00:00<?, ?it/s]"
     ]
    },
    {
     "name": "stdout",
     "output_type": "stream",
     "text": [
      "Epoch 43 training end. LR: 0.00027848379715189457, Loss: 0.12442214388961662, Correct answers: 772/1155\n"
     ]
    },
    {
     "name": "stderr",
     "output_type": "stream",
     "text": [
      "100%|██████████| 197/197 [02:50<00:00,  1.16it/s]"
     ]
    },
    {
     "name": "stdout",
     "output_type": "stream",
     "text": [
      "Epoch 43 validation end. LR: 0.00027848379715189457, Loss: 2.4872862506033804, Correct answers: 131/197, Val metric: 0.8139060107968737\n"
     ]
    },
    {
     "name": "stderr",
     "output_type": "stream",
     "text": [
      "\n",
      "73it [01:45,  1.45s/it]\n",
      "  0%|          | 0/197 [00:00<?, ?it/s]"
     ]
    },
    {
     "name": "stdout",
     "output_type": "stream",
     "text": [
      "Epoch 44 training end. LR: 0.00045050000000000347, Loss: 0.12592141626224126, Correct answers: 808/1155\n"
     ]
    },
    {
     "name": "stderr",
     "output_type": "stream",
     "text": [
      "100%|██████████| 197/197 [02:46<00:00,  1.18it/s]"
     ]
    },
    {
     "name": "stdout",
     "output_type": "stream",
     "text": [
      "Epoch 44 validation end. LR: 0.00045050000000000347, Loss: 2.5138308590438765, Correct answers: 124/197, Val metric: 0.7955700200400112\n"
     ]
    },
    {
     "name": "stderr",
     "output_type": "stream",
     "text": [
      "\n",
      "73it [01:45,  1.44s/it]\n",
      "  0%|          | 0/197 [00:00<?, ?it/s]"
     ]
    },
    {
     "name": "stdout",
     "output_type": "stream",
     "text": [
      "Epoch 45 training end. LR: 0.0006225162028481141, Loss: 0.14107516979518003, Correct answers: 772/1155\n"
     ]
    },
    {
     "name": "stderr",
     "output_type": "stream",
     "text": [
      "100%|██████████| 197/197 [02:46<00:00,  1.18it/s]"
     ]
    },
    {
     "name": "stdout",
     "output_type": "stream",
     "text": [
      "Epoch 45 validation end. LR: 0.0006225162028481141, Loss: 2.539543706148409, Correct answers: 135/197, Val metric: 0.8134356619128192\n"
     ]
    },
    {
     "name": "stderr",
     "output_type": "stream",
     "text": [
      "\n",
      "73it [01:46,  1.46s/it]\n",
      "  0%|          | 0/197 [00:00<?, ?it/s]"
     ]
    },
    {
     "name": "stdout",
     "output_type": "stream",
     "text": [
      "Epoch 46 training end. LR: 0.0007683444981433603, Loss: 0.14457478333417684, Correct answers: 738/1155\n"
     ]
    },
    {
     "name": "stderr",
     "output_type": "stream",
     "text": [
      "100%|██████████| 197/197 [02:44<00:00,  1.20it/s]"
     ]
    },
    {
     "name": "stdout",
     "output_type": "stream",
     "text": [
      "Epoch 46 validation end. LR: 0.0007683444981433603, Loss: 2.525505261977917, Correct answers: 117/197, Val metric: 0.7736155976003692\n"
     ]
    },
    {
     "name": "stderr",
     "output_type": "stream",
     "text": [
      "\n",
      "73it [01:44,  1.44s/it]\n",
      "  0%|          | 0/197 [00:00<?, ?it/s]"
     ]
    },
    {
     "name": "stdout",
     "output_type": "stream",
     "text": [
      "Epoch 47 training end. LR: 0.0008657838498638323, Loss: 0.15693369875215504, Correct answers: 748/1155\n"
     ]
    },
    {
     "name": "stderr",
     "output_type": "stream",
     "text": [
      "100%|██████████| 197/197 [02:46<00:00,  1.19it/s]"
     ]
    },
    {
     "name": "stdout",
     "output_type": "stream",
     "text": [
      "Epoch 47 validation end. LR: 0.0008657838498638323, Loss: 2.5566379878726706, Correct answers: 117/197, Val metric: 0.76976599705694\n"
     ]
    },
    {
     "name": "stderr",
     "output_type": "stream",
     "text": [
      "\n",
      "73it [01:44,  1.44s/it]\n",
      "  0%|          | 0/197 [00:00<?, ?it/s]"
     ]
    },
    {
     "name": "stdout",
     "output_type": "stream",
     "text": [
      "Epoch 48 training end. LR: 0.0009000000000000091, Loss: 0.16055244105319455, Correct answers: 715/1155\n"
     ]
    },
    {
     "name": "stderr",
     "output_type": "stream",
     "text": [
      "100%|██████████| 197/197 [02:44<00:00,  1.20it/s]"
     ]
    },
    {
     "name": "stdout",
     "output_type": "stream",
     "text": [
      "Epoch 48 validation end. LR: 0.0009000000000000091, Loss: 2.5625553736226814, Correct answers: 121/197, Val metric: 0.773165941503505\n"
     ]
    },
    {
     "name": "stderr",
     "output_type": "stream",
     "text": [
      "\n",
      "73it [01:45,  1.45s/it]\n",
      "  0%|          | 0/197 [00:00<?, ?it/s]"
     ]
    },
    {
     "name": "stdout",
     "output_type": "stream",
     "text": [
      "Epoch 49 training end. LR: 0.0008657838498638324, Loss: 0.16048415821709044, Correct answers: 716/1155\n"
     ]
    },
    {
     "name": "stderr",
     "output_type": "stream",
     "text": [
      "100%|██████████| 197/197 [02:45<00:00,  1.19it/s]"
     ]
    },
    {
     "name": "stdout",
     "output_type": "stream",
     "text": [
      "Epoch 49 validation end. LR: 0.0008657838498638324, Loss: 2.55462350094984, Correct answers: 128/197, Val metric: 0.8050151625024722\n"
     ]
    },
    {
     "name": "stderr",
     "output_type": "stream",
     "text": [
      "\n",
      "73it [01:45,  1.45s/it]\n",
      "  0%|          | 0/197 [00:00<?, ?it/s]"
     ]
    },
    {
     "name": "stdout",
     "output_type": "stream",
     "text": [
      "Epoch 50 training end. LR: 0.0007683444981433608, Loss: 0.14855138232854947, Correct answers: 732/1155\n"
     ]
    },
    {
     "name": "stderr",
     "output_type": "stream",
     "text": [
      "100%|██████████| 197/197 [02:45<00:00,  1.19it/s]"
     ]
    },
    {
     "name": "stdout",
     "output_type": "stream",
     "text": [
      "Epoch 50 validation end. LR: 0.0007683444981433608, Loss: 2.546658306557515, Correct answers: 132/197, Val metric: 0.8045218221680952\n"
     ]
    },
    {
     "name": "stderr",
     "output_type": "stream",
     "text": [
      "\n",
      "73it [01:44,  1.44s/it]\n",
      "  0%|          | 0/197 [00:00<?, ?it/s]"
     ]
    },
    {
     "name": "stdout",
     "output_type": "stream",
     "text": [
      "Epoch 51 training end. LR: 0.0006225162028481145, Loss: 0.13886791549316824, Correct answers: 772/1155\n"
     ]
    },
    {
     "name": "stderr",
     "output_type": "stream",
     "text": [
      "100%|██████████| 197/197 [02:46<00:00,  1.18it/s]"
     ]
    },
    {
     "name": "stdout",
     "output_type": "stream",
     "text": [
      "Epoch 51 validation end. LR: 0.0006225162028481145, Loss: 2.5149548828299277, Correct answers: 126/197, Val metric: 0.8027598318207455\n"
     ]
    },
    {
     "name": "stderr",
     "output_type": "stream",
     "text": [
      "\n",
      "73it [01:45,  1.44s/it]\n",
      "  0%|          | 0/197 [00:00<?, ?it/s]"
     ]
    },
    {
     "name": "stdout",
     "output_type": "stream",
     "text": [
      "Epoch 52 training end. LR: 0.00045050000000000407, Loss: 0.13752425482420072, Correct answers: 764/1155\n"
     ]
    },
    {
     "name": "stderr",
     "output_type": "stream",
     "text": [
      "100%|██████████| 197/197 [02:46<00:00,  1.19it/s]"
     ]
    },
    {
     "name": "stdout",
     "output_type": "stream",
     "text": [
      "Epoch 52 validation end. LR: 0.00045050000000000407, Loss: 2.5073802120189375, Correct answers: 129/197, Val metric: 0.8092601138286418\n"
     ]
    },
    {
     "name": "stderr",
     "output_type": "stream",
     "text": [
      "\n",
      "73it [01:44,  1.43s/it]\n",
      "  0%|          | 0/197 [00:00<?, ?it/s]"
     ]
    },
    {
     "name": "stdout",
     "output_type": "stream",
     "text": [
      "Epoch 53 training end. LR: 0.00027848379715189516, Loss: 0.12654154982468854, Correct answers: 800/1155\n"
     ]
    },
    {
     "name": "stderr",
     "output_type": "stream",
     "text": [
      "100%|██████████| 197/197 [02:46<00:00,  1.18it/s]"
     ]
    },
    {
     "name": "stdout",
     "output_type": "stream",
     "text": [
      "Epoch 53 validation end. LR: 0.00027848379715189516, Loss: 2.4742658622373783, Correct answers: 133/197, Val metric: 0.830524598297775\n"
     ]
    },
    {
     "name": "stderr",
     "output_type": "stream",
     "text": [
      "\n",
      "73it [01:45,  1.44s/it]\n",
      "  0%|          | 0/197 [00:00<?, ?it/s]"
     ]
    },
    {
     "name": "stdout",
     "output_type": "stream",
     "text": [
      "Epoch 54 training end. LR: 0.00013265550185664876, Loss: 0.11336464414449587, Correct answers: 818/1155\n"
     ]
    },
    {
     "name": "stderr",
     "output_type": "stream",
     "text": [
      "100%|██████████| 197/197 [02:46<00:00,  1.18it/s]"
     ]
    },
    {
     "name": "stdout",
     "output_type": "stream",
     "text": [
      "Epoch 54 validation end. LR: 0.00013265550185664876, Loss: 2.475807396893574, Correct answers: 133/197, Val metric: 0.8246290511518939\n"
     ]
    },
    {
     "name": "stderr",
     "output_type": "stream",
     "text": [
      "\n",
      "73it [01:44,  1.44s/it]\n",
      "  0%|          | 0/197 [00:00<?, ?it/s]"
     ]
    },
    {
     "name": "stdout",
     "output_type": "stream",
     "text": [
      "Epoch 55 training end. LR: 3.521615013617686e-05, Loss: 0.11133700287709497, Correct answers: 811/1155\n"
     ]
    },
    {
     "name": "stderr",
     "output_type": "stream",
     "text": [
      "100%|██████████| 197/197 [02:46<00:00,  1.18it/s]"
     ]
    },
    {
     "name": "stdout",
     "output_type": "stream",
     "text": [
      "Epoch 55 validation end. LR: 3.521615013617686e-05, Loss: 2.4740966019896686, Correct answers: 132/197, Val metric: 0.8220268310369834\n"
     ]
    },
    {
     "name": "stderr",
     "output_type": "stream",
     "text": [
      "\n",
      "73it [01:45,  1.44s/it]\n",
      "  0%|          | 0/197 [00:00<?, ?it/s]"
     ]
    },
    {
     "name": "stdout",
     "output_type": "stream",
     "text": [
      "Epoch 56 training end. LR: 1e-06, Loss: 0.10850191126539283, Correct answers: 818/1155\n"
     ]
    },
    {
     "name": "stderr",
     "output_type": "stream",
     "text": [
      "100%|██████████| 197/197 [02:45<00:00,  1.19it/s]"
     ]
    },
    {
     "name": "stdout",
     "output_type": "stream",
     "text": [
      "Epoch 56 validation end. LR: 1e-06, Loss: 2.476179966466681, Correct answers: 134/197, Val metric: 0.8288168684107772\n"
     ]
    },
    {
     "name": "stderr",
     "output_type": "stream",
     "text": [
      "\n",
      "73it [01:44,  1.43s/it]\n",
      "  0%|          | 0/197 [00:00<?, ?it/s]"
     ]
    },
    {
     "name": "stdout",
     "output_type": "stream",
     "text": [
      "Epoch 57 training end. LR: 3.5216150136176606e-05, Loss: 0.10631767471563326, Correct answers: 836/1155\n"
     ]
    },
    {
     "name": "stderr",
     "output_type": "stream",
     "text": [
      "100%|██████████| 197/197 [02:46<00:00,  1.18it/s]"
     ]
    },
    {
     "name": "stdout",
     "output_type": "stream",
     "text": [
      "Epoch 57 validation end. LR: 3.5216150136176606e-05, Loss: 2.4744160465782667, Correct answers: 136/197, Val metric: 0.8321969344811985\n"
     ]
    },
    {
     "name": "stderr",
     "output_type": "stream",
     "text": [
      "\n",
      "73it [01:45,  1.44s/it]\n",
      "  0%|          | 0/197 [00:00<?, ?it/s]"
     ]
    },
    {
     "name": "stdout",
     "output_type": "stream",
     "text": [
      "Epoch 58 training end. LR: 0.00013265550185664838, Loss: 0.10697613579973783, Correct answers: 827/1155\n"
     ]
    },
    {
     "name": "stderr",
     "output_type": "stream",
     "text": [
      "100%|██████████| 197/197 [02:45<00:00,  1.19it/s]"
     ]
    },
    {
     "name": "stdout",
     "output_type": "stream",
     "text": [
      "Epoch 58 validation end. LR: 0.00013265550185664838, Loss: 2.482481206129045, Correct answers: 133/197, Val metric: 0.8247673434856176\n"
     ]
    },
    {
     "name": "stderr",
     "output_type": "stream",
     "text": [
      "\n",
      "73it [01:44,  1.43s/it]\n",
      "  0%|          | 0/197 [00:00<?, ?it/s]"
     ]
    },
    {
     "name": "stdout",
     "output_type": "stream",
     "text": [
      "Epoch 59 training end. LR: 0.00027848379715189484, Loss: 0.1212863784334431, Correct answers: 789/1155\n"
     ]
    },
    {
     "name": "stderr",
     "output_type": "stream",
     "text": [
      "100%|██████████| 197/197 [02:45<00:00,  1.19it/s]"
     ]
    },
    {
     "name": "stdout",
     "output_type": "stream",
     "text": [
      "Epoch 59 validation end. LR: 0.00027848379715189484, Loss: 2.494169151722477, Correct answers: 129/197, Val metric: 0.8149033751892423\n"
     ]
    },
    {
     "name": "stderr",
     "output_type": "stream",
     "text": [
      "\n",
      "73it [01:45,  1.45s/it]\n",
      "  0%|          | 0/197 [00:00<?, ?it/s]"
     ]
    },
    {
     "name": "stdout",
     "output_type": "stream",
     "text": [
      "Epoch 60 training end. LR: 0.00045050000000000396, Loss: 0.11869797115660694, Correct answers: 799/1155\n"
     ]
    },
    {
     "name": "stderr",
     "output_type": "stream",
     "text": [
      "100%|██████████| 197/197 [02:46<00:00,  1.18it/s]"
     ]
    },
    {
     "name": "stdout",
     "output_type": "stream",
     "text": [
      "Epoch 60 validation end. LR: 0.00045050000000000396, Loss: 2.5042248195803105, Correct answers: 129/197, Val metric: 0.8041718856439668\n"
     ]
    },
    {
     "name": "stderr",
     "output_type": "stream",
     "text": [
      "\n",
      "73it [01:44,  1.43s/it]\n",
      "  0%|          | 0/197 [00:00<?, ?it/s]"
     ]
    },
    {
     "name": "stdout",
     "output_type": "stream",
     "text": [
      "Epoch 61 training end. LR: 0.0006225162028481149, Loss: 0.13500547633595664, Correct answers: 770/1155\n"
     ]
    },
    {
     "name": "stderr",
     "output_type": "stream",
     "text": [
      "100%|██████████| 197/197 [02:45<00:00,  1.19it/s]"
     ]
    },
    {
     "name": "stdout",
     "output_type": "stream",
     "text": [
      "Epoch 61 validation end. LR: 0.0006225162028481149, Loss: 2.49950915302722, Correct answers: 127/197, Val metric: 0.8000946740794458\n"
     ]
    },
    {
     "name": "stderr",
     "output_type": "stream",
     "text": [
      "\n",
      "73it [01:44,  1.44s/it]\n",
      "  0%|          | 0/197 [00:00<?, ?it/s]"
     ]
    },
    {
     "name": "stdout",
     "output_type": "stream",
     "text": [
      "Epoch 62 training end. LR: 0.0007683444981433614, Loss: 0.13741077411256425, Correct answers: 772/1155\n"
     ]
    },
    {
     "name": "stderr",
     "output_type": "stream",
     "text": [
      "100%|██████████| 197/197 [02:46<00:00,  1.18it/s]"
     ]
    },
    {
     "name": "stdout",
     "output_type": "stream",
     "text": [
      "Epoch 62 validation end. LR: 0.0007683444981433614, Loss: 2.5294130272066533, Correct answers: 126/197, Val metric: 0.7945565054768902\n"
     ]
    },
    {
     "name": "stderr",
     "output_type": "stream",
     "text": [
      "\n",
      "73it [01:43,  1.42s/it]\n",
      "  0%|          | 0/197 [00:00<?, ?it/s]"
     ]
    },
    {
     "name": "stdout",
     "output_type": "stream",
     "text": [
      "Epoch 63 training end. LR: 0.0008657838498638335, Loss: 0.1356471787168555, Correct answers: 772/1155\n"
     ]
    },
    {
     "name": "stderr",
     "output_type": "stream",
     "text": [
      "100%|██████████| 197/197 [02:46<00:00,  1.18it/s]"
     ]
    },
    {
     "name": "stdout",
     "output_type": "stream",
     "text": [
      "Epoch 63 validation end. LR: 0.0008657838498638335, Loss: 2.5161480310604656, Correct answers: 129/197, Val metric: 0.7969049633389736\n"
     ]
    },
    {
     "name": "stderr",
     "output_type": "stream",
     "text": [
      "\n",
      "73it [01:46,  1.46s/it]\n",
      "  0%|          | 0/197 [00:00<?, ?it/s]"
     ]
    },
    {
     "name": "stdout",
     "output_type": "stream",
     "text": [
      "Epoch 64 training end. LR: 0.0009000000000000104, Loss: 0.14694163856441028, Correct answers: 755/1155\n"
     ]
    },
    {
     "name": "stderr",
     "output_type": "stream",
     "text": [
      "100%|██████████| 197/197 [02:45<00:00,  1.19it/s]"
     ]
    },
    {
     "name": "stdout",
     "output_type": "stream",
     "text": [
      "Epoch 64 validation end. LR: 0.0009000000000000104, Loss: 2.5692281057386834, Correct answers: 119/197, Val metric: 0.7640937319871328\n"
     ]
    },
    {
     "name": "stderr",
     "output_type": "stream",
     "text": [
      "\n",
      "73it [01:45,  1.45s/it]\n",
      "  0%|          | 0/197 [00:00<?, ?it/s]"
     ]
    },
    {
     "name": "stdout",
     "output_type": "stream",
     "text": [
      "Epoch 65 training end. LR: 0.0008657838498638338, Loss: 0.13700206980925717, Correct answers: 763/1155\n"
     ]
    },
    {
     "name": "stderr",
     "output_type": "stream",
     "text": [
      "100%|██████████| 197/197 [02:45<00:00,  1.19it/s]"
     ]
    },
    {
     "name": "stdout",
     "output_type": "stream",
     "text": [
      "Epoch 65 validation end. LR: 0.0008657838498638338, Loss: 2.5281019138200636, Correct answers: 127/197, Val metric: 0.800539829324541\n"
     ]
    },
    {
     "name": "stderr",
     "output_type": "stream",
     "text": [
      "\n",
      "73it [01:44,  1.43s/it]\n",
      "  0%|          | 0/197 [00:00<?, ?it/s]"
     ]
    },
    {
     "name": "stdout",
     "output_type": "stream",
     "text": [
      "Epoch 66 training end. LR: 0.000768344498143362, Loss: 0.13511208133542374, Correct answers: 787/1155\n"
     ]
    },
    {
     "name": "stderr",
     "output_type": "stream",
     "text": [
      "100%|██████████| 197/197 [02:46<00:00,  1.18it/s]"
     ]
    },
    {
     "name": "stdout",
     "output_type": "stream",
     "text": [
      "Epoch 66 validation end. LR: 0.000768344498143362, Loss: 2.527737357289658, Correct answers: 117/197, Val metric: 0.770165578921924\n"
     ]
    },
    {
     "name": "stderr",
     "output_type": "stream",
     "text": [
      "\n",
      "73it [01:45,  1.44s/it]\n",
      "  0%|          | 0/197 [00:00<?, ?it/s]"
     ]
    },
    {
     "name": "stdout",
     "output_type": "stream",
     "text": [
      "Epoch 67 training end. LR: 0.0006225162028481157, Loss: 0.12716024420032762, Correct answers: 765/1155\n"
     ]
    },
    {
     "name": "stderr",
     "output_type": "stream",
     "text": [
      "100%|██████████| 197/197 [02:46<00:00,  1.18it/s]"
     ]
    },
    {
     "name": "stdout",
     "output_type": "stream",
     "text": [
      "Epoch 67 validation end. LR: 0.0006225162028481157, Loss: 2.4835265905118837, Correct answers: 127/197, Val metric: 0.8079382822880491\n"
     ]
    },
    {
     "name": "stderr",
     "output_type": "stream",
     "text": [
      "\n",
      "73it [01:45,  1.44s/it]\n",
      "  0%|          | 0/197 [00:00<?, ?it/s]"
     ]
    },
    {
     "name": "stdout",
     "output_type": "stream",
     "text": [
      "Epoch 68 training end. LR: 0.0004505000000000049, Loss: 0.1191751236376697, Correct answers: 779/1155\n"
     ]
    },
    {
     "name": "stderr",
     "output_type": "stream",
     "text": [
      "100%|██████████| 197/197 [02:46<00:00,  1.18it/s]"
     ]
    },
    {
     "name": "stdout",
     "output_type": "stream",
     "text": [
      "Epoch 68 validation end. LR: 0.0004505000000000049, Loss: 2.5045964947811843, Correct answers: 139/197, Val metric: 0.8273507372492146\n"
     ]
    },
    {
     "name": "stderr",
     "output_type": "stream",
     "text": [
      "\n",
      "73it [01:45,  1.45s/it]\n",
      "  0%|          | 0/197 [00:00<?, ?it/s]"
     ]
    },
    {
     "name": "stdout",
     "output_type": "stream",
     "text": [
      "Epoch 69 training end. LR: 0.00027848379715189565, Loss: 0.1140999791454779, Correct answers: 825/1155\n"
     ]
    },
    {
     "name": "stderr",
     "output_type": "stream",
     "text": [
      "100%|██████████| 197/197 [02:46<00:00,  1.18it/s]"
     ]
    },
    {
     "name": "stdout",
     "output_type": "stream",
     "text": [
      "Epoch 69 validation end. LR: 0.00027848379715189565, Loss: 2.479467539617858, Correct answers: 131/197, Val metric: 0.8205983525780484\n"
     ]
    },
    {
     "name": "stderr",
     "output_type": "stream",
     "text": [
      "\n",
      "73it [01:45,  1.44s/it]\n",
      "  0%|          | 0/197 [00:00<?, ?it/s]"
     ]
    },
    {
     "name": "stdout",
     "output_type": "stream",
     "text": [
      "Epoch 70 training end. LR: 0.00013265550185664903, Loss: 0.10815553058398096, Correct answers: 796/1155\n"
     ]
    },
    {
     "name": "stderr",
     "output_type": "stream",
     "text": [
      "100%|██████████| 197/197 [02:45<00:00,  1.19it/s]"
     ]
    },
    {
     "name": "stdout",
     "output_type": "stream",
     "text": [
      "Epoch 70 validation end. LR: 0.00013265550185664903, Loss: 2.4814240859849805, Correct answers: 135/197, Val metric: 0.824657561840303\n"
     ]
    },
    {
     "name": "stderr",
     "output_type": "stream",
     "text": [
      "\n",
      "73it [01:46,  1.46s/it]\n",
      "  0%|          | 0/197 [00:00<?, ?it/s]"
     ]
    },
    {
     "name": "stdout",
     "output_type": "stream",
     "text": [
      "Epoch 71 training end. LR: 3.521615013617695e-05, Loss: 0.10652326629178165, Correct answers: 827/1155\n"
     ]
    },
    {
     "name": "stderr",
     "output_type": "stream",
     "text": [
      "100%|██████████| 197/197 [02:46<00:00,  1.19it/s]"
     ]
    },
    {
     "name": "stdout",
     "output_type": "stream",
     "text": [
      "Epoch 71 validation end. LR: 3.521615013617695e-05, Loss: 2.4839769087467096, Correct answers: 132/197, Val metric: 0.8158044014643\n"
     ]
    },
    {
     "name": "stderr",
     "output_type": "stream",
     "text": [
      "\n",
      "73it [01:46,  1.46s/it]\n",
      "  0%|          | 0/197 [00:00<?, ?it/s]"
     ]
    },
    {
     "name": "stdout",
     "output_type": "stream",
     "text": [
      "Epoch 72 training end. LR: 1e-06, Loss: 0.10098926911819471, Correct answers: 825/1155\n"
     ]
    },
    {
     "name": "stderr",
     "output_type": "stream",
     "text": [
      "100%|██████████| 197/197 [02:45<00:00,  1.19it/s]"
     ]
    },
    {
     "name": "stdout",
     "output_type": "stream",
     "text": [
      "Epoch 72 validation end. LR: 1e-06, Loss: 2.4807713540072367, Correct answers: 133/197, Val metric: 0.8208726130045926\n"
     ]
    },
    {
     "name": "stderr",
     "output_type": "stream",
     "text": [
      "\n",
      "73it [01:44,  1.43s/it]\n",
      "  0%|          | 0/197 [00:00<?, ?it/s]"
     ]
    },
    {
     "name": "stdout",
     "output_type": "stream",
     "text": [
      "Epoch 73 training end. LR: 3.5216150136176606e-05, Loss: 0.10674397647380829, Correct answers: 793/1155\n"
     ]
    },
    {
     "name": "stderr",
     "output_type": "stream",
     "text": [
      "100%|██████████| 197/197 [02:46<00:00,  1.18it/s]"
     ]
    },
    {
     "name": "stdout",
     "output_type": "stream",
     "text": [
      "Epoch 73 validation end. LR: 3.5216150136176606e-05, Loss: 2.473470633405114, Correct answers: 133/197, Val metric: 0.8204835350774438\n"
     ]
    },
    {
     "name": "stderr",
     "output_type": "stream",
     "text": [
      "\n",
      "73it [01:45,  1.45s/it]\n",
      "  0%|          | 0/197 [00:00<?, ?it/s]"
     ]
    },
    {
     "name": "stdout",
     "output_type": "stream",
     "text": [
      "Epoch 74 training end. LR: 0.00013265550185664852, Loss: 0.11224408447742462, Correct answers: 780/1155\n"
     ]
    },
    {
     "name": "stderr",
     "output_type": "stream",
     "text": [
      "100%|██████████| 197/197 [02:44<00:00,  1.19it/s]"
     ]
    },
    {
     "name": "stdout",
     "output_type": "stream",
     "text": [
      "Epoch 74 validation end. LR: 0.00013265550185664852, Loss: 2.4732339636323415, Correct answers: 135/197, Val metric: 0.8234150789988354\n"
     ]
    },
    {
     "name": "stderr",
     "output_type": "stream",
     "text": [
      "\n",
      "73it [01:44,  1.43s/it]\n",
      "  0%|          | 0/197 [00:00<?, ?it/s]"
     ]
    },
    {
     "name": "stdout",
     "output_type": "stream",
     "text": [
      "Epoch 75 training end. LR: 0.0002784837971518951, Loss: 0.10962175235968746, Correct answers: 830/1155\n"
     ]
    },
    {
     "name": "stderr",
     "output_type": "stream",
     "text": [
      "100%|██████████| 197/197 [02:45<00:00,  1.19it/s]"
     ]
    },
    {
     "name": "stdout",
     "output_type": "stream",
     "text": [
      "Epoch 75 validation end. LR: 0.0002784837971518951, Loss: 2.480787098105184, Correct answers: 127/197, Val metric: 0.7971025778132378\n"
     ]
    },
    {
     "name": "stderr",
     "output_type": "stream",
     "text": [
      "\n",
      "73it [01:46,  1.45s/it]\n",
      "  0%|          | 0/197 [00:00<?, ?it/s]"
     ]
    },
    {
     "name": "stdout",
     "output_type": "stream",
     "text": [
      "Epoch 76 training end. LR: 0.0004505000000000045, Loss: 0.11093383450826554, Correct answers: 796/1155\n"
     ]
    },
    {
     "name": "stderr",
     "output_type": "stream",
     "text": [
      "100%|██████████| 197/197 [02:46<00:00,  1.18it/s]"
     ]
    },
    {
     "name": "stdout",
     "output_type": "stream",
     "text": [
      "Epoch 76 validation end. LR: 0.0004505000000000045, Loss: 2.5209901574904543, Correct answers: 113/197, Val metric: 0.7613579003359537\n"
     ]
    },
    {
     "name": "stderr",
     "output_type": "stream",
     "text": [
      "\n",
      "73it [01:45,  1.45s/it]\n",
      "  0%|          | 0/197 [00:00<?, ?it/s]"
     ]
    },
    {
     "name": "stdout",
     "output_type": "stream",
     "text": [
      "Epoch 77 training end. LR: 0.0006225162028481156, Loss: 0.11948894949196136, Correct answers: 808/1155\n"
     ]
    },
    {
     "name": "stderr",
     "output_type": "stream",
     "text": [
      "100%|██████████| 197/197 [02:46<00:00,  1.18it/s]"
     ]
    },
    {
     "name": "stdout",
     "output_type": "stream",
     "text": [
      "Epoch 77 validation end. LR: 0.0006225162028481156, Loss: 2.5367207127779268, Correct answers: 124/197, Val metric: 0.7860023648094713\n"
     ]
    },
    {
     "name": "stderr",
     "output_type": "stream",
     "text": [
      "\n",
      "73it [01:44,  1.43s/it]\n",
      "  0%|          | 0/197 [00:00<?, ?it/s]"
     ]
    },
    {
     "name": "stdout",
     "output_type": "stream",
     "text": [
      "Epoch 78 training end. LR: 0.0007683444981433623, Loss: 0.12223058765473431, Correct answers: 810/1155\n"
     ]
    },
    {
     "name": "stderr",
     "output_type": "stream",
     "text": [
      "100%|██████████| 197/197 [02:45<00:00,  1.19it/s]"
     ]
    },
    {
     "name": "stdout",
     "output_type": "stream",
     "text": [
      "Epoch 78 validation end. LR: 0.0007683444981433623, Loss: 2.501012785180571, Correct answers: 124/197, Val metric: 0.7969424117901275\n"
     ]
    },
    {
     "name": "stderr",
     "output_type": "stream",
     "text": [
      "\n",
      "73it [01:44,  1.44s/it]\n",
      "  0%|          | 0/197 [00:00<?, ?it/s]"
     ]
    },
    {
     "name": "stdout",
     "output_type": "stream",
     "text": [
      "Epoch 79 training end. LR: 0.0008657838498638344, Loss: 0.14515536957203526, Correct answers: 767/1155\n"
     ]
    },
    {
     "name": "stderr",
     "output_type": "stream",
     "text": [
      "100%|██████████| 197/197 [02:46<00:00,  1.18it/s]"
     ]
    },
    {
     "name": "stdout",
     "output_type": "stream",
     "text": [
      "Epoch 79 validation end. LR: 0.0008657838498638344, Loss: 2.608312211060887, Correct answers: 113/197, Val metric: 0.7404093203199359\n"
     ]
    },
    {
     "name": "stderr",
     "output_type": "stream",
     "text": [
      "\n",
      "73it [01:43,  1.42s/it]\n",
      "  0%|          | 0/197 [00:00<?, ?it/s]"
     ]
    },
    {
     "name": "stdout",
     "output_type": "stream",
     "text": [
      "Epoch 80 training end. LR: 0.0009000000000000114, Loss: 0.139575672476259, Correct answers: 780/1155\n"
     ]
    },
    {
     "name": "stderr",
     "output_type": "stream",
     "text": [
      "100%|██████████| 197/197 [02:45<00:00,  1.19it/s]"
     ]
    },
    {
     "name": "stdout",
     "output_type": "stream",
     "text": [
      "Epoch 80 validation end. LR: 0.0009000000000000114, Loss: 2.517666436693995, Correct answers: 128/197, Val metric: 0.7911855135839908\n"
     ]
    },
    {
     "name": "stderr",
     "output_type": "stream",
     "text": [
      "\n",
      "73it [01:45,  1.44s/it]\n",
      "  0%|          | 0/197 [00:00<?, ?it/s]"
     ]
    },
    {
     "name": "stdout",
     "output_type": "stream",
     "text": [
      "Epoch 81 training end. LR: 0.0008657838498638349, Loss: 0.14479686881173148, Correct answers: 761/1155\n"
     ]
    },
    {
     "name": "stderr",
     "output_type": "stream",
     "text": [
      "100%|██████████| 197/197 [02:46<00:00,  1.18it/s]"
     ]
    },
    {
     "name": "stdout",
     "output_type": "stream",
     "text": [
      "Epoch 81 validation end. LR: 0.0008657838498638349, Loss: 2.5541671447947545, Correct answers: 123/197, Val metric: 0.7778847210319291\n"
     ]
    },
    {
     "name": "stderr",
     "output_type": "stream",
     "text": [
      "\n",
      "73it [01:46,  1.46s/it]\n",
      "  0%|          | 0/197 [00:00<?, ?it/s]"
     ]
    },
    {
     "name": "stdout",
     "output_type": "stream",
     "text": [
      "Epoch 82 training end. LR: 0.0007683444981433641, Loss: 0.13704266807396118, Correct answers: 753/1155\n"
     ]
    },
    {
     "name": "stderr",
     "output_type": "stream",
     "text": [
      "100%|██████████| 197/197 [02:46<00:00,  1.18it/s]"
     ]
    },
    {
     "name": "stdout",
     "output_type": "stream",
     "text": [
      "Epoch 82 validation end. LR: 0.0007683444981433641, Loss: 2.5384182421689108, Correct answers: 129/197, Val metric: 0.809147127548143\n"
     ]
    },
    {
     "name": "stderr",
     "output_type": "stream",
     "text": [
      "\n",
      "73it [01:46,  1.45s/it]\n",
      "  0%|          | 0/197 [00:00<?, ?it/s]"
     ]
    },
    {
     "name": "stdout",
     "output_type": "stream",
     "text": [
      "Epoch 83 training end. LR: 0.000622516202848115, Loss: 0.12145574043874871, Correct answers: 806/1155\n"
     ]
    },
    {
     "name": "stderr",
     "output_type": "stream",
     "text": [
      "100%|██████████| 197/197 [02:46<00:00,  1.18it/s]"
     ]
    },
    {
     "name": "stdout",
     "output_type": "stream",
     "text": [
      "Epoch 83 validation end. LR: 0.000622516202848115, Loss: 2.490709207989843, Correct answers: 132/197, Val metric: 0.820220914084754\n"
     ]
    },
    {
     "name": "stderr",
     "output_type": "stream",
     "text": [
      "\n",
      "73it [01:45,  1.45s/it]\n",
      "  0%|          | 0/197 [00:00<?, ?it/s]"
     ]
    },
    {
     "name": "stdout",
     "output_type": "stream",
     "text": [
      "Epoch 84 training end. LR: 0.00045050000000000553, Loss: 0.11772965359157078, Correct answers: 790/1155\n"
     ]
    },
    {
     "name": "stderr",
     "output_type": "stream",
     "text": [
      "100%|██████████| 197/197 [02:47<00:00,  1.18it/s]"
     ]
    },
    {
     "name": "stdout",
     "output_type": "stream",
     "text": [
      "Epoch 84 validation end. LR: 0.00045050000000000553, Loss: 2.4930526024193935, Correct answers: 130/197, Val metric: 0.8150950431407284\n"
     ]
    },
    {
     "name": "stderr",
     "output_type": "stream",
     "text": [
      "\n",
      "73it [01:43,  1.42s/it]\n",
      "  0%|          | 0/197 [00:00<?, ?it/s]"
     ]
    },
    {
     "name": "stdout",
     "output_type": "stream",
     "text": [
      "Epoch 85 training end. LR: 0.00027848379715189603, Loss: 0.10642670916572008, Correct answers: 808/1155\n"
     ]
    },
    {
     "name": "stderr",
     "output_type": "stream",
     "text": [
      "100%|██████████| 197/197 [02:50<00:00,  1.16it/s]"
     ]
    },
    {
     "name": "stdout",
     "output_type": "stream",
     "text": [
      "Epoch 85 validation end. LR: 0.00027848379715189603, Loss: 2.490248971784175, Correct answers: 130/197, Val metric: 0.810714468836296\n"
     ]
    },
    {
     "name": "stderr",
     "output_type": "stream",
     "text": [
      "\n",
      "73it [01:44,  1.43s/it]\n",
      "  0%|          | 0/197 [00:00<?, ?it/s]"
     ]
    },
    {
     "name": "stdout",
     "output_type": "stream",
     "text": [
      "Epoch 86 training end. LR: 0.0001326555018566492, Loss: 0.10113555504238769, Correct answers: 819/1155\n"
     ]
    },
    {
     "name": "stderr",
     "output_type": "stream",
     "text": [
      "100%|██████████| 197/197 [02:46<00:00,  1.18it/s]"
     ]
    },
    {
     "name": "stdout",
     "output_type": "stream",
     "text": [
      "Epoch 86 validation end. LR: 0.0001326555018566492, Loss: 2.4842378681686323, Correct answers: 130/197, Val metric: 0.8110685000278908\n"
     ]
    },
    {
     "name": "stderr",
     "output_type": "stream",
     "text": [
      "\n",
      "73it [01:45,  1.44s/it]\n",
      "  0%|          | 0/197 [00:00<?, ?it/s]"
     ]
    },
    {
     "name": "stdout",
     "output_type": "stream",
     "text": [
      "Epoch 87 training end. LR: 3.521615013617763e-05, Loss: 0.09694185342690716, Correct answers: 844/1155\n"
     ]
    },
    {
     "name": "stderr",
     "output_type": "stream",
     "text": [
      "100%|██████████| 197/197 [02:46<00:00,  1.18it/s]"
     ]
    },
    {
     "name": "stdout",
     "output_type": "stream",
     "text": [
      "Epoch 87 validation end. LR: 3.521615013617763e-05, Loss: 2.484478903300871, Correct answers: 132/197, Val metric: 0.8177545945312442\n"
     ]
    },
    {
     "name": "stderr",
     "output_type": "stream",
     "text": [
      "\n",
      "73it [01:45,  1.45s/it]\n",
      "  0%|          | 0/197 [00:00<?, ?it/s]"
     ]
    },
    {
     "name": "stdout",
     "output_type": "stream",
     "text": [
      "Epoch 88 training end. LR: 1e-06, Loss: 0.09368946796206579, Correct answers: 846/1155\n"
     ]
    },
    {
     "name": "stderr",
     "output_type": "stream",
     "text": [
      "100%|██████████| 197/197 [02:46<00:00,  1.18it/s]"
     ]
    },
    {
     "name": "stdout",
     "output_type": "stream",
     "text": [
      "Epoch 88 validation end. LR: 1e-06, Loss: 2.480176885721042, Correct answers: 136/197, Val metric: 0.830861735557167\n"
     ]
    },
    {
     "name": "stderr",
     "output_type": "stream",
     "text": [
      "\n",
      "73it [01:45,  1.45s/it]\n",
      "  0%|          | 0/197 [00:00<?, ?it/s]"
     ]
    },
    {
     "name": "stdout",
     "output_type": "stream",
     "text": [
      "Epoch 89 training end. LR: 3.5216150136176606e-05, Loss: 0.09903190688115276, Correct answers: 823/1155\n"
     ]
    },
    {
     "name": "stderr",
     "output_type": "stream",
     "text": [
      "100%|██████████| 197/197 [02:47<00:00,  1.18it/s]"
     ]
    },
    {
     "name": "stdout",
     "output_type": "stream",
     "text": [
      "Epoch 89 validation end. LR: 3.5216150136176606e-05, Loss: 2.481529607385548, Correct answers: 134/197, Val metric: 0.8231125614374345\n"
     ]
    },
    {
     "name": "stderr",
     "output_type": "stream",
     "text": [
      "\n",
      "73it [01:45,  1.45s/it]\n",
      "  0%|          | 0/197 [00:00<?, ?it/s]"
     ]
    },
    {
     "name": "stdout",
     "output_type": "stream",
     "text": [
      "Epoch 90 training end. LR: 0.00013265550185664613, Loss: 0.10473160462275352, Correct answers: 836/1155\n"
     ]
    },
    {
     "name": "stderr",
     "output_type": "stream",
     "text": [
      "100%|██████████| 197/197 [02:46<00:00,  1.19it/s]"
     ]
    },
    {
     "name": "stdout",
     "output_type": "stream",
     "text": [
      "Epoch 90 validation end. LR: 0.00013265550185664613, Loss: 2.479994084024187, Correct answers: 132/197, Val metric: 0.8149160765912034\n"
     ]
    },
    {
     "name": "stderr",
     "output_type": "stream",
     "text": [
      "\n",
      "73it [01:45,  1.44s/it]\n",
      "  0%|          | 0/197 [00:00<?, ?it/s]"
     ]
    },
    {
     "name": "stdout",
     "output_type": "stream",
     "text": [
      "Epoch 91 training end. LR: 0.00027848379715189023, Loss: 0.10370418240558611, Correct answers: 797/1155\n"
     ]
    },
    {
     "name": "stderr",
     "output_type": "stream",
     "text": [
      "100%|██████████| 197/197 [02:46<00:00,  1.19it/s]"
     ]
    },
    {
     "name": "stdout",
     "output_type": "stream",
     "text": [
      "Epoch 91 validation end. LR: 0.00027848379715189023, Loss: 2.4824745291985835, Correct answers: 133/197, Val metric: 0.8178100708624352\n"
     ]
    },
    {
     "name": "stderr",
     "output_type": "stream",
     "text": [
      "\n",
      "73it [01:45,  1.44s/it]\n",
      "  0%|          | 0/197 [00:00<?, ?it/s]"
     ]
    },
    {
     "name": "stdout",
     "output_type": "stream",
     "text": [
      "Epoch 92 training end. LR: 0.00045049999999999664, Loss: 0.11043934271453995, Correct answers: 809/1155\n"
     ]
    },
    {
     "name": "stderr",
     "output_type": "stream",
     "text": [
      "100%|██████████| 197/197 [02:45<00:00,  1.19it/s]"
     ]
    },
    {
     "name": "stdout",
     "output_type": "stream",
     "text": [
      "Epoch 92 validation end. LR: 0.00045049999999999664, Loss: 2.5057705900995866, Correct answers: 123/197, Val metric: 0.7949797100812329\n"
     ]
    },
    {
     "name": "stderr",
     "output_type": "stream",
     "text": [
      "\n",
      "73it [01:44,  1.44s/it]\n",
      "  0%|          | 0/197 [00:00<?, ?it/s]"
     ]
    },
    {
     "name": "stdout",
     "output_type": "stream",
     "text": [
      "Epoch 93 training end. LR: 0.0006225162028481034, Loss: 0.11071934612238243, Correct answers: 802/1155\n"
     ]
    },
    {
     "name": "stderr",
     "output_type": "stream",
     "text": [
      "100%|██████████| 197/197 [02:46<00:00,  1.18it/s]"
     ]
    },
    {
     "name": "stdout",
     "output_type": "stream",
     "text": [
      "Epoch 93 validation end. LR: 0.0006225162028481034, Loss: 2.5043200696180317, Correct answers: 131/197, Val metric: 0.8087572255719464\n"
     ]
    },
    {
     "name": "stderr",
     "output_type": "stream",
     "text": [
      "\n",
      "73it [01:45,  1.45s/it]\n",
      "  0%|          | 0/197 [00:00<?, ?it/s]"
     ]
    },
    {
     "name": "stdout",
     "output_type": "stream",
     "text": [
      "Epoch 94 training end. LR: 0.0007683444981433503, Loss: 0.11842528409133218, Correct answers: 827/1155\n"
     ]
    },
    {
     "name": "stderr",
     "output_type": "stream",
     "text": [
      "100%|██████████| 197/197 [02:47<00:00,  1.18it/s]"
     ]
    },
    {
     "name": "stdout",
     "output_type": "stream",
     "text": [
      "Epoch 94 validation end. LR: 0.0007683444981433503, Loss: 2.4800426838966794, Correct answers: 130/197, Val metric: 0.810806457126254\n"
     ]
    },
    {
     "name": "stderr",
     "output_type": "stream",
     "text": [
      "\n",
      "73it [01:45,  1.45s/it]\n",
      "  0%|          | 0/197 [00:00<?, ?it/s]"
     ]
    },
    {
     "name": "stdout",
     "output_type": "stream",
     "text": [
      "Epoch 95 training end. LR: 0.0008657838498638197, Loss: 0.1250872946255011, Correct answers: 794/1155\n"
     ]
    },
    {
     "name": "stderr",
     "output_type": "stream",
     "text": [
      " 65%|██████▌   | 129/197 [01:48<00:57,  1.18it/s]\n"
     ]
    },
    {
     "ename": "KeyboardInterrupt",
     "evalue": "",
     "output_type": "error",
     "traceback": [
      "\u001b[0;31m---------------------------------------------------------------------------\u001b[0m",
      "\u001b[0;31mKeyboardInterrupt\u001b[0m                         Traceback (most recent call last)",
      "\u001b[0;32m<ipython-input-13-a6276c02d1fa>\u001b[0m in \u001b[0;36m<module>\u001b[0;34m\u001b[0m\n\u001b[1;32m     48\u001b[0m     \u001b[0;32mwith\u001b[0m \u001b[0mtorch\u001b[0m\u001b[0;34m.\u001b[0m\u001b[0mno_grad\u001b[0m\u001b[0;34m(\u001b[0m\u001b[0;34m)\u001b[0m\u001b[0;34m:\u001b[0m\u001b[0;34m\u001b[0m\u001b[0;34m\u001b[0m\u001b[0m\n\u001b[1;32m     49\u001b[0m                 \u001b[0;31m# Stats\u001b[0m\u001b[0;34m\u001b[0m\u001b[0;34m\u001b[0m\u001b[0;34m\u001b[0m\u001b[0m\n\u001b[0;32m---> 50\u001b[0;31m         \u001b[0mval_loss\u001b[0m\u001b[0;34m,\u001b[0m \u001b[0mval_corr\u001b[0m\u001b[0;34m,\u001b[0m \u001b[0mvalid_epoch_metric\u001b[0m \u001b[0;34m=\u001b[0m \u001b[0mvalidate\u001b[0m\u001b[0;34m(\u001b[0m\u001b[0mmodel\u001b[0m\u001b[0;34m,\u001b[0m \u001b[0mfiles_ids\u001b[0m\u001b[0;34m,\u001b[0m \u001b[0mX_val\u001b[0m\u001b[0;34m)\u001b[0m\u001b[0;34m\u001b[0m\u001b[0;34m\u001b[0m\u001b[0m\n\u001b[0m\u001b[1;32m     51\u001b[0m     \u001b[0;31m# Stats\u001b[0m\u001b[0;34m\u001b[0m\u001b[0;34m\u001b[0m\u001b[0;34m\u001b[0m\u001b[0m\n\u001b[1;32m     52\u001b[0m     print('Epoch ' + str(e) + ' validation end. LR: ' + str(lr) + ', Loss: ' + str(sum(val_loss) / len(val_loss)) +\n",
      "\u001b[0;32m<ipython-input-12-563a1f27aeed>\u001b[0m in \u001b[0;36mvalidate\u001b[0;34m(model, files_ids, df)\u001b[0m\n\u001b[1;32m     55\u001b[0m         \u001b[0mmodel\u001b[0m\u001b[0;34m.\u001b[0m\u001b[0meval\u001b[0m\u001b[0;34m(\u001b[0m\u001b[0;34m)\u001b[0m\u001b[0;34m\u001b[0m\u001b[0;34m\u001b[0m\u001b[0m\n\u001b[1;32m     56\u001b[0m         \u001b[0;32mfor\u001b[0m \u001b[0mi\u001b[0m \u001b[0;32min\u001b[0m \u001b[0mtqdm\u001b[0m\u001b[0;34m(\u001b[0m\u001b[0mrange\u001b[0m\u001b[0;34m(\u001b[0m\u001b[0;36m0\u001b[0m\u001b[0;34m,\u001b[0m \u001b[0mlen\u001b[0m\u001b[0;34m(\u001b[0m\u001b[0mfiles_ids\u001b[0m\u001b[0;34m)\u001b[0m\u001b[0;34m)\u001b[0m\u001b[0;34m)\u001b[0m\u001b[0;34m:\u001b[0m\u001b[0;34m\u001b[0m\u001b[0;34m\u001b[0m\u001b[0m\n\u001b[0;32m---> 57\u001b[0;31m             \u001b[0mdata\u001b[0m\u001b[0;34m,\u001b[0m \u001b[0mtarget\u001b[0m \u001b[0;34m=\u001b[0m \u001b[0mload_val_file\u001b[0m\u001b[0;34m(\u001b[0m\u001b[0mfiles_ids\u001b[0m\u001b[0;34m[\u001b[0m\u001b[0mi\u001b[0m\u001b[0;34m]\u001b[0m\u001b[0;34m,\u001b[0m \u001b[0mX_val\u001b[0m\u001b[0;34m)\u001b[0m\u001b[0;34m\u001b[0m\u001b[0;34m\u001b[0m\u001b[0m\n\u001b[0m\u001b[1;32m     58\u001b[0m             \u001b[0mdata\u001b[0m\u001b[0;34m,\u001b[0m \u001b[0mtarget\u001b[0m \u001b[0;34m=\u001b[0m \u001b[0mtorch\u001b[0m\u001b[0;34m.\u001b[0m\u001b[0mtensor\u001b[0m\u001b[0;34m(\u001b[0m\u001b[0mdata\u001b[0m\u001b[0;34m.\u001b[0m\u001b[0mtranspose\u001b[0m\u001b[0;34m(\u001b[0m\u001b[0;36m0\u001b[0m\u001b[0;34m,\u001b[0m\u001b[0;36m3\u001b[0m\u001b[0;34m,\u001b[0m\u001b[0;36m1\u001b[0m\u001b[0;34m,\u001b[0m\u001b[0;36m2\u001b[0m\u001b[0;34m)\u001b[0m\u001b[0;34m)\u001b[0m\u001b[0;34m,\u001b[0m \u001b[0mtorch\u001b[0m\u001b[0;34m.\u001b[0m\u001b[0mtensor\u001b[0m\u001b[0;34m(\u001b[0m\u001b[0mtarget\u001b[0m\u001b[0;34m)\u001b[0m\u001b[0;34m\u001b[0m\u001b[0;34m\u001b[0m\u001b[0m\n\u001b[1;32m     59\u001b[0m             \u001b[0mdata\u001b[0m \u001b[0;34m=\u001b[0m \u001b[0mdata\u001b[0m\u001b[0;34m.\u001b[0m\u001b[0mfloat\u001b[0m\u001b[0;34m(\u001b[0m\u001b[0;34m)\u001b[0m\u001b[0;34m\u001b[0m\u001b[0;34m\u001b[0m\u001b[0m\n",
      "\u001b[0;32m<ipython-input-12-563a1f27aeed>\u001b[0m in \u001b[0;36mload_val_file\u001b[0;34m(record_id, df)\u001b[0m\n\u001b[1;32m     15\u001b[0m         \u001b[0mwav_slice\u001b[0m \u001b[0;34m=\u001b[0m \u001b[0mwav\u001b[0m\u001b[0;34m[\u001b[0m\u001b[0mi\u001b[0m\u001b[0;34m:\u001b[0m\u001b[0mi\u001b[0m\u001b[0;34m+\u001b[0m\u001b[0mwindow\u001b[0m\u001b[0;34m]\u001b[0m\u001b[0;34m\u001b[0m\u001b[0;34m\u001b[0m\u001b[0m\n\u001b[1;32m     16\u001b[0m         \u001b[0mmel_spec\u001b[0m \u001b[0;34m=\u001b[0m \u001b[0mwav2mel\u001b[0m\u001b[0;34m(\u001b[0m\u001b[0mwav_slice\u001b[0m\u001b[0;34m,\u001b[0m \u001b[0mpower\u001b[0m\u001b[0;34m=\u001b[0m\u001b[0;36m1\u001b[0m\u001b[0;34m)\u001b[0m\u001b[0;34m\u001b[0m\u001b[0;34m\u001b[0m\u001b[0m\n\u001b[0;32m---> 17\u001b[0;31m         \u001b[0mmel_spec_power\u001b[0m \u001b[0;34m=\u001b[0m  \u001b[0mwav2mel\u001b[0m\u001b[0;34m(\u001b[0m\u001b[0mwav_slice\u001b[0m\u001b[0;34m,\u001b[0m \u001b[0mpower\u001b[0m\u001b[0;34m=\u001b[0m\u001b[0;36m1.5\u001b[0m\u001b[0;34m)\u001b[0m\u001b[0;34m\u001b[0m\u001b[0;34m\u001b[0m\u001b[0m\n\u001b[0m\u001b[1;32m     18\u001b[0m         \u001b[0mpcen\u001b[0m \u001b[0;34m=\u001b[0m \u001b[0mlibrosa\u001b[0m\u001b[0;34m.\u001b[0m\u001b[0mpcen\u001b[0m\u001b[0;34m(\u001b[0m\u001b[0mmel_spec\u001b[0m\u001b[0;34m,\u001b[0m \u001b[0;34m**\u001b[0m\u001b[0mpcen_parameters\u001b[0m\u001b[0;34m)\u001b[0m\u001b[0;34m\u001b[0m\u001b[0;34m\u001b[0m\u001b[0m\n\u001b[1;32m     19\u001b[0m         \u001b[0;31m#mel_spec = np.expand_dims(mel_spec, axis=2).astype(np.float32)\u001b[0m\u001b[0;34m\u001b[0m\u001b[0;34m\u001b[0m\u001b[0;34m\u001b[0m\u001b[0m\n",
      "\u001b[0;32m<ipython-input-5-4aefa64342cf>\u001b[0m in \u001b[0;36mwav2mel\u001b[0;34m(wav, power)\u001b[0m\n\u001b[1;32m     16\u001b[0m                                                   \u001b[0mfmin\u001b[0m\u001b[0;34m=\u001b[0m\u001b[0mConfig\u001b[0m\u001b[0;34m.\u001b[0m\u001b[0mFmin\u001b[0m\u001b[0;34m,\u001b[0m\u001b[0;34m\u001b[0m\u001b[0;34m\u001b[0m\u001b[0m\n\u001b[1;32m     17\u001b[0m                                                   \u001b[0mfmax\u001b[0m\u001b[0;34m=\u001b[0m\u001b[0mConfig\u001b[0m\u001b[0;34m.\u001b[0m\u001b[0mFmax\u001b[0m\u001b[0;34m,\u001b[0m\u001b[0;34m\u001b[0m\u001b[0;34m\u001b[0m\u001b[0m\n\u001b[0;32m---> 18\u001b[0;31m                                                   power=power, n_mels=Config.MEL)\n\u001b[0m\u001b[1;32m     19\u001b[0m     \u001b[0mmel_spec\u001b[0m \u001b[0;34m=\u001b[0m \u001b[0mlibrosa\u001b[0m\u001b[0;34m.\u001b[0m\u001b[0mpower_to_db\u001b[0m\u001b[0;34m(\u001b[0m\u001b[0mmel_spec\u001b[0m\u001b[0;34m,\u001b[0m \u001b[0mref\u001b[0m\u001b[0;34m=\u001b[0m\u001b[0mnp\u001b[0m\u001b[0;34m.\u001b[0m\u001b[0mmax\u001b[0m\u001b[0;34m)\u001b[0m\u001b[0;34m\u001b[0m\u001b[0;34m\u001b[0m\u001b[0m\n\u001b[1;32m     20\u001b[0m     \u001b[0;32mreturn\u001b[0m \u001b[0mmel_spec\u001b[0m\u001b[0;34m\u001b[0m\u001b[0;34m\u001b[0m\u001b[0m\n",
      "\u001b[0;32m~/.local/lib/python3.6/site-packages/librosa/feature/spectral.py\u001b[0m in \u001b[0;36mmelspectrogram\u001b[0;34m(y, sr, S, n_fft, hop_length, win_length, window, center, pad_mode, power, **kwargs)\u001b[0m\n\u001b[1;32m   2003\u001b[0m         \u001b[0mwindow\u001b[0m\u001b[0;34m=\u001b[0m\u001b[0mwindow\u001b[0m\u001b[0;34m,\u001b[0m\u001b[0;34m\u001b[0m\u001b[0;34m\u001b[0m\u001b[0m\n\u001b[1;32m   2004\u001b[0m         \u001b[0mcenter\u001b[0m\u001b[0;34m=\u001b[0m\u001b[0mcenter\u001b[0m\u001b[0;34m,\u001b[0m\u001b[0;34m\u001b[0m\u001b[0;34m\u001b[0m\u001b[0m\n\u001b[0;32m-> 2005\u001b[0;31m         \u001b[0mpad_mode\u001b[0m\u001b[0;34m=\u001b[0m\u001b[0mpad_mode\u001b[0m\u001b[0;34m,\u001b[0m\u001b[0;34m\u001b[0m\u001b[0;34m\u001b[0m\u001b[0m\n\u001b[0m\u001b[1;32m   2006\u001b[0m     )\n\u001b[1;32m   2007\u001b[0m \u001b[0;34m\u001b[0m\u001b[0m\n",
      "\u001b[0;32m~/.local/lib/python3.6/site-packages/librosa/core/spectrum.py\u001b[0m in \u001b[0;36m_spectrogram\u001b[0;34m(y, S, n_fft, hop_length, power, win_length, window, center, pad_mode)\u001b[0m\n\u001b[1;32m   2517\u001b[0m                     \u001b[0mcenter\u001b[0m\u001b[0;34m=\u001b[0m\u001b[0mcenter\u001b[0m\u001b[0;34m,\u001b[0m\u001b[0;34m\u001b[0m\u001b[0;34m\u001b[0m\u001b[0m\n\u001b[1;32m   2518\u001b[0m                     \u001b[0mwindow\u001b[0m\u001b[0;34m=\u001b[0m\u001b[0mwindow\u001b[0m\u001b[0;34m,\u001b[0m\u001b[0;34m\u001b[0m\u001b[0;34m\u001b[0m\u001b[0m\n\u001b[0;32m-> 2519\u001b[0;31m                     \u001b[0mpad_mode\u001b[0m\u001b[0;34m=\u001b[0m\u001b[0mpad_mode\u001b[0m\u001b[0;34m,\u001b[0m\u001b[0;34m\u001b[0m\u001b[0;34m\u001b[0m\u001b[0m\n\u001b[0m\u001b[1;32m   2520\u001b[0m                 )\n\u001b[1;32m   2521\u001b[0m             )\n",
      "\u001b[0;31mKeyboardInterrupt\u001b[0m: "
     ]
    }
   ],
   "source": [
    "best_corrects = 0\n",
    "files_ids = copy.deepcopy(X_val.recording_id.unique())\n",
    "# Train loop\n",
    "print('Starting training loop')\n",
    "for e in range(0, 100):\n",
    "    # Stats\n",
    "    train_loss = []\n",
    "    train_corr = []\n",
    "    \n",
    "    # Single epoch - train\n",
    "    model.train()\n",
    "    for batch, (data, target) in tqdm(enumerate(train_loader)):\n",
    "        data = data.float()\n",
    "        data, target = mixer(data, target)\n",
    "        if torch.cuda.is_available():\n",
    "            data, target = data.cuda(), target.cuda()\n",
    "            \n",
    "        optimizer.zero_grad()\n",
    "        \n",
    "        output = model(data)\n",
    "        #loss = loss_function(output, target)\n",
    "        #label_smoothing_list = [0.005, 0.01, 0.075 ]\n",
    "        #label_smoothing = random.choice(label_smoothing_list) \n",
    "        #targets_smooth = target * (1 - label_smoothing) + 0.5 * label_smoothing\n",
    "        \n",
    "        #loss = loss_function(output, targets_smooth)\n",
    "        loss = criterion(output, target)\n",
    "        loss.backward()\n",
    "        optimizer.step()\n",
    "        #scheduler.step()        \n",
    "        # Stats\n",
    "        vals, answers = torch.max(output[\"clipwise_output\"], 1)\n",
    "        vals, targets = torch.max(target, 1)\n",
    "        corrects = 0\n",
    "        for i in range(0, len(answers)):\n",
    "            if answers[i] == targets[i]:\n",
    "                corrects = corrects + 1\n",
    "        train_corr.append(corrects)\n",
    "        \n",
    "        train_loss.append(loss.item())\n",
    "    \n",
    "    # Stats\n",
    "    for g in optimizer.param_groups:\n",
    "        lr = g['lr']\n",
    "    print('Epoch ' + str(e) + ' training end. LR: ' + str(lr) + ', Loss: ' + str(sum(train_loss) / len(train_loss)) +\n",
    "          ', Correct answers: ' + str(sum(train_corr)) + '/' + str(train_dataset.__len__()))\n",
    "    \n",
    "    with torch.no_grad():\n",
    "                # Stats\n",
    "        val_loss, val_corr, valid_epoch_metric = validate(model, files_ids, X_val)\n",
    "    # Stats\n",
    "    print('Epoch ' + str(e) + ' validation end. LR: ' + str(lr) + ', Loss: ' + str(sum(val_loss) / len(val_loss)) +\n",
    "          ', Correct answers: ' + str(sum(val_corr)) + '/' + str(len(files_ids)) + \", Val metric: \" + str(valid_epoch_metric))\n",
    "    \n",
    "    # If this epoch is better than previous on validation, save model\n",
    "    # Validation loss is the more common metric, but in this case our loss is misaligned with competition metric, making accuracy a better metric\n",
    "    if valid_epoch_metric > best_corrects:\n",
    "        print('Saving new best model at epoch ' + str(e) + ' ' + str(sum(val_corr)) + '/' + str(len(files_ids)))\n",
    "        torch.save(model.state_dict(), 'best_model.pt')\n",
    "        best_corrects = valid_epoch_metric\n",
    "        \n",
    "    # Call every epoch\n",
    "    #scheduler.step(valid_epoch_metric)\n",
    "    scheduler.step()\n",
    "\n",
    "# Free memory\n",
    "#del model"
   ]
  },
  {
   "cell_type": "code",
   "execution_count": null,
   "metadata": {
    "jupyter": {
     "source_hidden": true
    },
    "papermill": {
     "duration": 800.956277,
     "end_time": "2020-12-20T18:27:32.796472",
     "exception": false,
     "start_time": "2020-12-20T18:14:11.840195",
     "status": "completed"
    },
    "tags": []
   },
   "outputs": [],
   "source": [
    "best_corrects = 0\n",
    "\n",
    "# Train loop\n",
    "print('Starting training loop')\n",
    "for e in range(0, 100):\n",
    "    # Stats\n",
    "    accumulation_steps  = 2\n",
    "    train_loss = []\n",
    "    train_corr = []\n",
    "    \n",
    "    # Single epoch - train\n",
    "    model.train()\n",
    "    for batch, (data, target) in tqdm(enumerate(train_loader)):\n",
    "        data = data.float()\n",
    "        data, target = mixer(data, target)\n",
    "        if torch.cuda.is_available():\n",
    "            data, target = data.cuda(), target.cuda()\n",
    "            \n",
    "        optimizer.zero_grad()\n",
    "        \n",
    "        output = model(data)\n",
    "        \n",
    "        label_smoothing_list = [0.001, 0.0011, 0.0012, 0.00125, 0.001, 0.0011, 0.001, 0.0012]\n",
    "        label_smoothing = random.choice(label_smoothing_list) \n",
    "        targets_smooth = target * (1 - label_smoothing) + 0.5 * label_smoothing\n",
    "        loss = lsep_loss(output, targets_smooth)\n",
    "        #loss = loss_function(output, targets_smooth)\n",
    "        \n",
    "        #oss = loss / accumulation_steps                # Normalize our loss (if averaged)\n",
    "        #loss.backward()                                 # Backward pass\n",
    "        #if (batch+1) % accumulation_steps == 0:             # Wait for several backward steps\n",
    "        #    optimizer.step()                            # Now we can do an optimizer step\n",
    "            #model.zero_grad()                           # Reset gradients tensors\n",
    "  \n",
    "        loss.backward()\n",
    "        optimizer.step()\n",
    "        #scheduler.step()\n",
    "        \n",
    "        # Stats\n",
    "        vals, answers = torch.max(output, 1)\n",
    "        vals, targets = torch.max(target, 1)\n",
    "        corrects = 0\n",
    "        for i in range(0, len(answers)):\n",
    "            if answers[i] == targets[i]:\n",
    "                corrects = corrects + 1\n",
    "        train_corr.append(corrects)\n",
    "        \n",
    "        train_loss.append(loss.item())\n",
    "    \n",
    "    # Stats\n",
    "    for g in optimizer.param_groups:\n",
    "        lr = g['lr']\n",
    "    print('Epoch ' + str(e) + ' training end. LR: ' + str(lr) + ', Loss: ' + str(sum(train_loss) / len(train_loss)) +\n",
    "          ', Correct answers: ' + str(sum(train_corr)) + '/' + str(train_dataset.__len__()))\n",
    "    #torch.save(model.state_dict(), 'best_model.pt')\n",
    "    # Single epoch - validation\n",
    "    with torch.no_grad():\n",
    "        # Stats\n",
    "        val_loss = []\n",
    "        val_corr = []\n",
    "        val_metrics = []\n",
    "        acc_metrics = []\n",
    "        \n",
    "        model.eval()\n",
    "        for batch, (data, target) in enumerate(val_loader):\n",
    "            data = data.float()\n",
    "            if torch.cuda.is_available():\n",
    "                data, target = data.cuda(), target.cuda()\n",
    "            \n",
    "            output = model(data)\n",
    "            #loss = loss_function(output, target)\n",
    "            loss = lsep_loss(output, target)\n",
    "\n",
    "            \n",
    "            # Stats\n",
    "            th_output = torch.sigmoid(output)  \n",
    "            th_output[th_output >= 0.5] = 1\n",
    "            accuracy = (th_output == target).sum()/(16*24)\n",
    "            \n",
    "            val_metric =  lwlrap( target.cpu().numpy(), output.cpu().numpy())\n",
    "            vals, answers = torch.max(output, 1)\n",
    "            vals, targets = torch.max(target, 1)\n",
    "            val_metrics.append(val_metric.item())\n",
    "            acc_metrics.append(accuracy.item())\n",
    "            \n",
    "            corrects = 0\n",
    "            for i in range(0, len(answers)):\n",
    "                if answers[i] == targets[i]:\n",
    "                    corrects = corrects + 1\n",
    "            val_corr.append(corrects)\n",
    "            val_loss.append(loss.item())\n",
    "\n",
    "    \n",
    "    valid_epoch_metric = sum(val_metrics) / len(val_loss)\n",
    "    # Stats\n",
    "    print('Epoch ' + str(e) + ' validation end. LR: ' + str(lr) + ', Loss: ' + str(sum(val_loss) / len(val_loss)) +\n",
    "          ', Accuracy: ' + str(sum(val_corr)) + '/' + str(val_dataset.__len__()) + \", Val metric: \" + str(valid_epoch_metric))\n",
    "    \n",
    "    # If this epoch is better than previous on validation, save model\n",
    "    # Validation loss is the more common metric, but in this case our loss is misaligned with competition metric, making accuracy a better metric\n",
    "    if valid_epoch_metric > best_corrects:\n",
    "        print('Saving new best model at epoch ' + str(e) + ' (' + str(sum(acc_metrics)) + '/' + str(len(val_loss)) + ')')\n",
    "        torch.save(model.state_dict(), f'best_model_{Config.FOLD}.pt')\n",
    "        best_corrects = valid_epoch_metric\n",
    "        \n",
    "    # Call every epoch\n",
    "    #scheduler.step(valid_epoch_metric)\n",
    "    scheduler.step()\n",
    "\n",
    "# Free memory\n",
    "del model"
   ]
  },
  {
   "cell_type": "code",
   "execution_count": 14,
   "metadata": {},
   "outputs": [
    {
     "name": "stderr",
     "output_type": "stream",
     "text": [
      "100%|██████████| 197/197 [02:49<00:00,  1.16it/s]"
     ]
    },
    {
     "name": "stdout",
     "output_type": "stream",
     "text": [
      "Loss: 2.4821746034670604, Correct answers: 134/197, Val metric: 0.8253545242123924\n"
     ]
    },
    {
     "name": "stderr",
     "output_type": "stream",
     "text": [
      "\n"
     ]
    }
   ],
   "source": [
    "model.load_state_dict(torch.load(\"best_model.pt\"))\n",
    "files_ids = X_val.recording_id.unique()\n",
    "with torch.no_grad():\n",
    "                # Stats\n",
    "        answers_list =  []\n",
    "        targets_list = []\n",
    "        val_loss = []\n",
    "        val_corr = []\n",
    "        val_metrics = []\n",
    "        model.eval()\n",
    "        for i in tqdm(range(0, len(files_ids))):\n",
    "            data, target = load_val_file(files_ids[i], X_val)\n",
    "            data, target = torch.tensor(data.transpose(0,3,1,2)), torch.tensor(target)\n",
    "            data = data.float()\n",
    "            if torch.cuda.is_available():\n",
    "                data, target = data.cuda(), target.cuda().unsqueeze(0)\n",
    "            output = model(data)\n",
    "            output, _ = torch.max(output[\"clipwise_output\"], 0)\n",
    "            output = output.unsqueeze(0)\n",
    "            #print(output.shape)\n",
    "            loss = lsep_loss(output, target)\n",
    "            val_metric = lwlrap(target.cpu().numpy(), output.cpu().numpy())\n",
    "            vals, answers = torch.max(output, 1)\n",
    "            vals, targets = torch.max(target, 1)\n",
    "            answers_list.append(answers.item())\n",
    "            targets_list.append(targets.item())\n",
    "            val_metrics.append(val_metric.item())\n",
    "            corrects = 0\n",
    "            for i in range(0, len(answers)):\n",
    "                if answers[i] == targets[i]:\n",
    "                    corrects = corrects + 1\n",
    "            val_corr.append(corrects)\n",
    "            val_loss.append(loss.item())\n",
    "\n",
    "    \n",
    "valid_epoch_metric = sum(val_metrics) / len(val_loss)\n",
    "# Stats\n",
    "print('Loss: ' + str(sum(val_loss) / len(val_loss)) +\n",
    "      ', Correct answers: ' + str(sum(val_corr)) + '/' + str(len(files_ids)) + \", Val metric: \" + str(valid_epoch_metric))\n",
    "\n"
   ]
  },
  {
   "cell_type": "code",
   "execution_count": null,
   "metadata": {},
   "outputs": [],
   "source": [
    "targets_list.index(23,)"
   ]
  },
  {
   "cell_type": "code",
   "execution_count": null,
   "metadata": {},
   "outputs": [],
   "source": [
    "answers_list[87]"
   ]
  },
  {
   "cell_type": "code",
   "execution_count": 15,
   "metadata": {},
   "outputs": [
    {
     "name": "stdout",
     "output_type": "stream",
     "text": [
      "[(0, 3), (1, 3), (3, 8), (4, 3), (5, 3), (6, 2), (7, 6), (8, 3), (9, 1), (10, 1), (11, 2), (12, 5), (13, 2), (14, 3), (15, 5), (16, 1), (17, 1), (18, 3), (20, 3), (21, 2), (22, 2), (23, 1)]\n",
      "[(0, 9), (1, 9), (2, 5), (3, 9), (4, 9), (5, 9), (6, 8), (7, 9), (8, 9), (9, 5), (10, 8), (11, 9), (12, 9), (13, 9), (14, 8), (15, 8), (16, 7), (17, 7), (18, 9), (19, 7), (20, 6), (21, 8), (22, 7), (23, 14)]\n"
     ]
    }
   ],
   "source": [
    "errors = []\n",
    "for i in range(len(answers_list)):\n",
    "    if answers_list[i] != targets_list[i]:\n",
    "        errors.append(targets_list[i])\n",
    "        \n",
    "from collections import Counter\n",
    "error_count = sorted(Counter(errors).items(),key = lambda i: i[0])\n",
    "target_count = sorted(Counter(targets_list).items(),key = lambda i: i[0])\n",
    "print(error_count, target_count, sep = \"\\n\")\n"
   ]
  },
  {
   "cell_type": "code",
   "execution_count": 13,
   "metadata": {
    "papermill": {
     "duration": 0.995151,
     "end_time": "2020-12-20T18:27:34.774887",
     "exception": false,
     "start_time": "2020-12-20T18:27:33.779736",
     "status": "completed"
    },
    "tags": []
   },
   "outputs": [],
   "source": [
    "# Already defined above; for reference\n",
    "fft = 2048\n",
    "hop = 512 * 1\n",
    "# Less rounding errors this way\n",
    "sr = 48000\n",
    "length = 10 * sr\n",
    "fmin = 84\n",
    "fmax = 15056\n",
    "\n",
    "def load_test_file(f): \n",
    "    wav, sr = librosa.load('../data/test/' + f, sr=None)\n",
    "\n",
    "    # Split for enough segments to not miss anything\n",
    "    window = 10* Config.SR\n",
    "    stride = 5 * Config.SR\n",
    "    full_length = 60 * Config.SR\n",
    "    \n",
    "    mel_array = []\n",
    "    \n",
    "    for i in range(0, full_length + stride - window, stride):\n",
    "        \n",
    "        wav_slice = wav[i:i+window]\n",
    "        mel_spec = wav2mel(wav_slice, power=1)\n",
    "        mel_spec_power =  wav2mel(wav_slice, power=1.5)\n",
    "        pcen = librosa.pcen(mel_spec, **pcen_parameters)\n",
    "        #mel_spec = np.expand_dims(mel_spec, axis=2).astype(np.float32)\n",
    "        #print(np.max(mel_spec))\n",
    "        image = np.stack([normalize_melspec(mel_spec), normalize_melspec(pcen), normalize_melspec(mel_spec_power)], axis=-1).astype(np.float32)\n",
    "        \n",
    "        transform_val = albu.Compose([albu.Resize(Config.IMG_H, Config.IMG_W),],) \n",
    "        augmented = transform_val(image = image)\n",
    "        mel_spec = augmented[ \"image\"] \n",
    "        #mfcc = augmented[\"image1\"]\n",
    "        #print(mel_spec.shape, mfcc.shape)\n",
    "        mel_array.append(mel_spec) \n",
    "        #mel_spec = resize(mel_spec, (224, 400))\n",
    "        #mel_spec = mel_spec - np.min(mel_spec)\n",
    "        #mel_spec = mel_spec / np.max(mel_spec)      \n",
    "        #mel_spec = np.stack((mel_spec, mel_spec, mel_spec))\n",
    "\n",
    "        mel_array.append(mel_spec)\n",
    "        \n",
    "    \n",
    "    return np.array(mel_array)"
   ]
  },
  {
   "cell_type": "code",
   "execution_count": 15,
   "metadata": {},
   "outputs": [
    {
     "name": "stdout",
     "output_type": "stream",
     "text": [
      "Starting prediction loop\n",
      "1992\n",
      "Predicted for 100 of 1993 files\n",
      "Predicted for 200 of 1993 files\n",
      "Predicted for 300 of 1993 files\n",
      "Predicted for 400 of 1993 files\n",
      "Predicted for 500 of 1993 files\n",
      "Predicted for 600 of 1993 files\n",
      "Predicted for 700 of 1993 files\n",
      "Predicted for 800 of 1993 files\n",
      "Predicted for 900 of 1993 files\n",
      "Predicted for 1000 of 1993 files\n",
      "Predicted for 1100 of 1993 files\n",
      "Predicted for 1200 of 1993 files\n",
      "Predicted for 1300 of 1993 files\n",
      "Predicted for 1400 of 1993 files\n",
      "Predicted for 1500 of 1993 files\n",
      "Predicted for 1600 of 1993 files\n",
      "Predicted for 1700 of 1993 files\n",
      "Predicted for 1800 of 1993 files\n",
      "Predicted for 1900 of 1993 files\n",
      "Submission generated\n"
     ]
    }
   ],
   "source": [
    "model = AudioSEDModel(Config.NUM_BIRDS)\n",
    "model.load_state_dict(torch.load(f\"best_model.pt\"))\n",
    "\n",
    "model.eval()\n",
    "use_cuda = False\n",
    "\n",
    "if use_cuda:\n",
    "    \n",
    "    \n",
    "    if torch.cuda.is_available():\n",
    "        model.cuda()\n",
    "\n",
    "# Prediction loop\n",
    "print('Starting prediction loop')\n",
    "with open(f'submission_effnet0_win_{Config.FOLD}.csv', 'w', newline='') as csvfile:\n",
    "    submission_writer = csv.writer(csvfile, delimiter=',')\n",
    "    submission_writer.writerow(['recording_id','s0','s1','s2','s3','s4','s5','s6','s7','s8','s9','s10','s11',\n",
    "                               's12','s13','s14','s15','s16','s17','s18','s19','s20','s21','s22','s23'])\n",
    "\n",
    "    test_files = os.listdir('../data/test/')\n",
    "    print(len(test_files))\n",
    "\n",
    "    # Every test file is split on several chunks and prediction is made for each chunk\n",
    "    for i in range(0, len(test_files)):\n",
    "        data = load_test_file(test_files[i]).transpose(0,3,1,2)\n",
    "        data = torch.tensor(data)\n",
    "        data = data.float()\n",
    "        if use_cuda:\n",
    "            if torch.cuda.is_available():\n",
    "                data = data.cuda()\n",
    "\n",
    "        output = model(data)\n",
    "\n",
    "        # Taking max prediction from all slices per bird species\n",
    "        # Usually you want Sigmoid layer here to convert output to probabilities\n",
    "        # In this competition only relative ranking matters, and not the exact value of prediction, so we can use it directly\n",
    "        maxed_output = torch.max(output[\"clipwise_output\"], dim=0)[0]\n",
    "        maxed_output = maxed_output.cpu().detach()\n",
    "\n",
    "        file_id = str.split(test_files[i], '.')[0]\n",
    "        write_array = [file_id]\n",
    "\n",
    "        for out in maxed_output:\n",
    "            write_array.append(out.item())\n",
    "\n",
    "        submission_writer.writerow(write_array)\n",
    "\n",
    "        if i % 100 == 0 and i > 0:\n",
    "            print('Predicted for ' + str(i) + ' of ' + str(len(test_files) + 1) + ' files')\n",
    "\n",
    "print('Submission generated')"
   ]
  },
  {
   "cell_type": "code",
   "execution_count": null,
   "metadata": {
    "papermill": {
     "duration": 983.567749,
     "end_time": "2020-12-20T18:43:59.455987",
     "exception": false,
     "start_time": "2020-12-20T18:27:35.888238",
     "status": "completed"
    },
    "tags": []
   },
   "outputs": [],
   "source": [
    "#model = pretrainedmodels.__dict__['se_resnext50_32x4d']( pretrained= None)\n",
    "model = resnest50(pretrained=True)\n",
    "#model = torchvision.models.resnet50(pretrained=True)\n",
    "model.avg_pool = nn.AdaptiveAvgPool2d(output_size=1)\n",
    "model.fc = nn.Sequential(\n",
    "    nn.Linear(2048, 1024),\n",
    "    nn.ReLU(),\n",
    "    nn.Dropout(p=0.4),\n",
    "    nn.Linear(1024, 1024),\n",
    "    nn.ReLU(),\n",
    "    nn.Dropout(p=0.4),\n",
    "    nn.Linear(1024, Config.NUM_BIRDS)\n",
    ")\n",
    "\n",
    "patch_first_conv(model, 1)\n",
    "\n",
    "\n",
    "for i in (0,1,2,3):\n",
    "    model.load_state_dict(torch.load(f\"best_model_{i}.pt\"))\n",
    "\n",
    "    model.eval()\n",
    "\n",
    "\n",
    "    if torch.cuda.is_available():\n",
    "        model.cuda()\n",
    "\n",
    "    # Prediction loop\n",
    "    print('Starting prediction loop')\n",
    "    with open(f'submission{i}.csv', 'w', newline='') as csvfile:\n",
    "        submission_writer = csv.writer(csvfile, delimiter=',')\n",
    "        submission_writer.writerow(['recording_id','s0','s1','s2','s3','s4','s5','s6','s7','s8','s9','s10','s11',\n",
    "                                   's12','s13','s14','s15','s16','s17','s18','s19','s20','s21','s22','s23'])\n",
    "\n",
    "        test_files = os.listdir('../data/test/')\n",
    "        print(len(test_files))\n",
    "\n",
    "        # Every test file is split on several chunks and prediction is made for each chunk\n",
    "        for i in range(0, len(test_files)):\n",
    "            data = load_test_file(test_files[i]).transpose(0,3,1,2)\n",
    "            data = torch.tensor(data)\n",
    "            data = data.float()\n",
    "            if torch.cuda.is_available():\n",
    "                data = data.cuda()\n",
    "\n",
    "            output = model(data)\n",
    "\n",
    "            # Taking max prediction from all slices per bird species\n",
    "            # Usually you want Sigmoid layer here to convert output to probabilities\n",
    "            # In this competition only relative ranking matters, and not the exact value of prediction, so we can use it directly\n",
    "            maxed_output = torch.max(output, dim=0)[0]\n",
    "            maxed_output = maxed_output.cpu().detach()\n",
    "\n",
    "            file_id = str.split(test_files[i], '.')[0]\n",
    "            write_array = [file_id]\n",
    "\n",
    "            for out in maxed_output:\n",
    "                write_array.append(out.item())\n",
    "\n",
    "            submission_writer.writerow(write_array)\n",
    "\n",
    "            if i % 100 == 0 and i > 0:\n",
    "                print('Predicted for ' + str(i) + ' of ' + str(len(test_files) + 1) + ' files')\n",
    "\n",
    "    print('Submission generated')"
   ]
  },
  {
   "cell_type": "code",
   "execution_count": null,
   "metadata": {
    "papermill": {
     "duration": 0.986819,
     "end_time": "2020-12-20T18:44:01.440167",
     "exception": false,
     "start_time": "2020-12-20T18:44:00.453348",
     "status": "completed"
    },
    "tags": []
   },
   "outputs": [],
   "source": []
  },
  {
   "cell_type": "code",
   "execution_count": null,
   "metadata": {},
   "outputs": [],
   "source": []
  }
 ],
 "metadata": {
  "kernelspec": {
   "display_name": "Python 3",
   "language": "python",
   "name": "python3"
  },
  "language_info": {
   "codemirror_mode": {
    "name": "ipython",
    "version": 3
   },
   "file_extension": ".py",
   "mimetype": "text/x-python",
   "name": "python",
   "nbconvert_exporter": "python",
   "pygments_lexer": "ipython3",
   "version": "3.6.12"
  },
  "papermill": {
   "duration": 1833.679699,
   "end_time": "2020-12-20T18:44:03.770668",
   "environment_variables": {},
   "exception": null,
   "input_path": "__notebook__.ipynb",
   "output_path": "__notebook__.ipynb",
   "parameters": {},
   "start_time": "2020-12-20T18:13:30.090969",
   "version": "2.1.0"
  },
  "widgets": {
   "application/vnd.jupyter.widget-state+json": {
    "state": {
     "0f15442e94a44248b50672c2777030c9": {
      "model_module": "@jupyter-widgets/controls",
      "model_module_version": "1.5.0",
      "model_name": "DescriptionStyleModel",
      "state": {
       "_model_module": "@jupyter-widgets/controls",
       "_model_module_version": "1.5.0",
       "_model_name": "DescriptionStyleModel",
       "_view_count": null,
       "_view_module": "@jupyter-widgets/base",
       "_view_module_version": "1.2.0",
       "_view_name": "StyleView",
       "description_width": ""
      }
     },
     "4c435759345342aebeb8f5670af57f75": {
      "model_module": "@jupyter-widgets/controls",
      "model_module_version": "1.5.0",
      "model_name": "HTMLModel",
      "state": {
       "_dom_classes": [],
       "_model_module": "@jupyter-widgets/controls",
       "_model_module_version": "1.5.0",
       "_model_name": "HTMLModel",
       "_view_count": null,
       "_view_module": "@jupyter-widgets/controls",
       "_view_module_version": "1.5.0",
       "_view_name": "HTMLView",
       "description": "",
       "description_tooltip": null,
       "layout": "IPY_MODEL_e56ad2e6997c43d695706f19b3c85f92",
       "placeholder": "​",
       "style": "IPY_MODEL_0f15442e94a44248b50672c2777030c9",
       "value": " 105M/105M [00:05&lt;00:00, 22.0MB/s]"
      }
     },
     "8b8ab01ab9604583ae4dbf53f3058ecf": {
      "model_module": "@jupyter-widgets/controls",
      "model_module_version": "1.5.0",
      "model_name": "FloatProgressModel",
      "state": {
       "_dom_classes": [],
       "_model_module": "@jupyter-widgets/controls",
       "_model_module_version": "1.5.0",
       "_model_name": "FloatProgressModel",
       "_view_count": null,
       "_view_module": "@jupyter-widgets/controls",
       "_view_module_version": "1.5.0",
       "_view_name": "ProgressView",
       "bar_style": "success",
       "description": "100%",
       "description_tooltip": null,
       "layout": "IPY_MODEL_e0f16c2b57ec45a0a100f1e728ab3d50",
       "max": 110273258,
       "min": 0,
       "orientation": "horizontal",
       "style": "IPY_MODEL_98b001f4de7143579e81c44054c3e04c",
       "value": 110273258
      }
     },
     "98b001f4de7143579e81c44054c3e04c": {
      "model_module": "@jupyter-widgets/controls",
      "model_module_version": "1.5.0",
      "model_name": "ProgressStyleModel",
      "state": {
       "_model_module": "@jupyter-widgets/controls",
       "_model_module_version": "1.5.0",
       "_model_name": "ProgressStyleModel",
       "_view_count": null,
       "_view_module": "@jupyter-widgets/base",
       "_view_module_version": "1.2.0",
       "_view_name": "StyleView",
       "bar_color": null,
       "description_width": "initial"
      }
     },
     "c71fd161194b4e9d8f6df0c22ddc66c2": {
      "model_module": "@jupyter-widgets/base",
      "model_module_version": "1.2.0",
      "model_name": "LayoutModel",
      "state": {
       "_model_module": "@jupyter-widgets/base",
       "_model_module_version": "1.2.0",
       "_model_name": "LayoutModel",
       "_view_count": null,
       "_view_module": "@jupyter-widgets/base",
       "_view_module_version": "1.2.0",
       "_view_name": "LayoutView",
       "align_content": null,
       "align_items": null,
       "align_self": null,
       "border": null,
       "bottom": null,
       "display": null,
       "flex": null,
       "flex_flow": null,
       "grid_area": null,
       "grid_auto_columns": null,
       "grid_auto_flow": null,
       "grid_auto_rows": null,
       "grid_column": null,
       "grid_gap": null,
       "grid_row": null,
       "grid_template_areas": null,
       "grid_template_columns": null,
       "grid_template_rows": null,
       "height": null,
       "justify_content": null,
       "justify_items": null,
       "left": null,
       "margin": null,
       "max_height": null,
       "max_width": null,
       "min_height": null,
       "min_width": null,
       "object_fit": null,
       "object_position": null,
       "order": null,
       "overflow": null,
       "overflow_x": null,
       "overflow_y": null,
       "padding": null,
       "right": null,
       "top": null,
       "visibility": null,
       "width": null
      }
     },
     "e0f16c2b57ec45a0a100f1e728ab3d50": {
      "model_module": "@jupyter-widgets/base",
      "model_module_version": "1.2.0",
      "model_name": "LayoutModel",
      "state": {
       "_model_module": "@jupyter-widgets/base",
       "_model_module_version": "1.2.0",
       "_model_name": "LayoutModel",
       "_view_count": null,
       "_view_module": "@jupyter-widgets/base",
       "_view_module_version": "1.2.0",
       "_view_name": "LayoutView",
       "align_content": null,
       "align_items": null,
       "align_self": null,
       "border": null,
       "bottom": null,
       "display": null,
       "flex": null,
       "flex_flow": null,
       "grid_area": null,
       "grid_auto_columns": null,
       "grid_auto_flow": null,
       "grid_auto_rows": null,
       "grid_column": null,
       "grid_gap": null,
       "grid_row": null,
       "grid_template_areas": null,
       "grid_template_columns": null,
       "grid_template_rows": null,
       "height": null,
       "justify_content": null,
       "justify_items": null,
       "left": null,
       "margin": null,
       "max_height": null,
       "max_width": null,
       "min_height": null,
       "min_width": null,
       "object_fit": null,
       "object_position": null,
       "order": null,
       "overflow": null,
       "overflow_x": null,
       "overflow_y": null,
       "padding": null,
       "right": null,
       "top": null,
       "visibility": null,
       "width": null
      }
     },
     "e56ad2e6997c43d695706f19b3c85f92": {
      "model_module": "@jupyter-widgets/base",
      "model_module_version": "1.2.0",
      "model_name": "LayoutModel",
      "state": {
       "_model_module": "@jupyter-widgets/base",
       "_model_module_version": "1.2.0",
       "_model_name": "LayoutModel",
       "_view_count": null,
       "_view_module": "@jupyter-widgets/base",
       "_view_module_version": "1.2.0",
       "_view_name": "LayoutView",
       "align_content": null,
       "align_items": null,
       "align_self": null,
       "border": null,
       "bottom": null,
       "display": null,
       "flex": null,
       "flex_flow": null,
       "grid_area": null,
       "grid_auto_columns": null,
       "grid_auto_flow": null,
       "grid_auto_rows": null,
       "grid_column": null,
       "grid_gap": null,
       "grid_row": null,
       "grid_template_areas": null,
       "grid_template_columns": null,
       "grid_template_rows": null,
       "height": null,
       "justify_content": null,
       "justify_items": null,
       "left": null,
       "margin": null,
       "max_height": null,
       "max_width": null,
       "min_height": null,
       "min_width": null,
       "object_fit": null,
       "object_position": null,
       "order": null,
       "overflow": null,
       "overflow_x": null,
       "overflow_y": null,
       "padding": null,
       "right": null,
       "top": null,
       "visibility": null,
       "width": null
      }
     },
     "ff6567e773d44b348f8b0ef7a4cf61e9": {
      "model_module": "@jupyter-widgets/controls",
      "model_module_version": "1.5.0",
      "model_name": "HBoxModel",
      "state": {
       "_dom_classes": [],
       "_model_module": "@jupyter-widgets/controls",
       "_model_module_version": "1.5.0",
       "_model_name": "HBoxModel",
       "_view_count": null,
       "_view_module": "@jupyter-widgets/controls",
       "_view_module_version": "1.5.0",
       "_view_name": "HBoxView",
       "box_style": "",
       "children": [
        "IPY_MODEL_8b8ab01ab9604583ae4dbf53f3058ecf",
        "IPY_MODEL_4c435759345342aebeb8f5670af57f75"
       ],
       "layout": "IPY_MODEL_c71fd161194b4e9d8f6df0c22ddc66c2"
      }
     }
    },
    "version_major": 2,
    "version_minor": 0
   }
  }
 },
 "nbformat": 4,
 "nbformat_minor": 4
}
